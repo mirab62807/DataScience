{
  "nbformat": 4,
  "nbformat_minor": 0,
  "metadata": {
    "colab": {
      "name": "Fianl casecade lab2.ipynb",
      "provenance": [],
      "collapsed_sections": [],
      "include_colab_link": true
    },
    "kernelspec": {
      "display_name": "Python 3",
      "language": "python",
      "name": "python3"
    },
    "language_info": {
      "codemirror_mode": {
        "name": "ipython",
        "version": 3
      },
      "file_extension": ".py",
      "mimetype": "text/x-python",
      "name": "python",
      "nbconvert_exporter": "python",
      "pygments_lexer": "ipython3",
      "version": "3.7.6"
    },
    "pycharm": {
      "stem_cell": {
        "cell_type": "raw",
        "metadata": {
          "collapsed": false
        },
        "source": []
      }
    }
  },
  "cells": [
    {
      "cell_type": "markdown",
      "metadata": {
        "id": "view-in-github",
        "colab_type": "text"
      },
      "source": [
        "<a href=\"https://colab.research.google.com/github/mirab62807/DataScience/blob/main/Fianl_casecade_lab2.ipynb\" target=\"_parent\"><img src=\"https://colab.research.google.com/assets/colab-badge.svg\" alt=\"Open In Colab\"/></a>"
      ]
    },
    {
      "cell_type": "markdown",
      "metadata": {
        "id": "nCi_99yMYIb1"
      },
      "source": [
        "In this notebook you'll create your own bootstrap function following the bootstrap algorithm (check the lecture notes!)"
      ]
    },
    {
      "cell_type": "code",
      "metadata": {
        "id": "LY5zujI2YC37",
        "pycharm": {
          "name": "#%%# Imports\n"
        }
      },
      "source": [
        "import matplotlib\n",
        "import pandas as pd\n",
        "import seaborn as sns\n",
        "import numpy as np\n",
        "import matplotlib.pyplot as plt\n",
        "import math\n",
        "\n",
        "\n"
      ],
      "execution_count": 1,
      "outputs": []
    },
    {
      "cell_type": "code",
      "metadata": {
        "id": "Eqkwj4SMY38t",
        "outputId": "1a60b8fd-7e05-484d-8c3c-af2e757ad90d",
        "colab": {
          "base_uri": "https://localhost:8080/"
        }
      },
      "source": [
        "# Load the data\n",
        "df = pd.read_csv('https://raw.githubusercontent.com/albanda/CE888/master/lab2%20-%20bootstrap/customers.csv')\n",
        "data = df.values.T[1]\n",
        "print(data.shape[0])"
      ],
      "execution_count": 19,
      "outputs": [
        {
          "output_type": "stream",
          "name": "stdout",
          "text": [
            "14\n"
          ]
        }
      ]
    },
    {
      "cell_type": "code",
      "metadata": {
        "id": "Gxvc_bScYC4H",
        "pycharm": {
          "name": "#%%\n"
        }
      },
      "source": [
        "# Checking the notes from the lecture, create here your own bootstrap function:\n",
        "# 1. Sample from the input array x to create an array of samples of shape (n_bootstraps, sample_size)\n",
        "# Hint: Check the function random.choice() on Numpy\n",
        "# 2. Calculate and save the mean of the array (this is \"data_mean\" that is returned by the function)\n",
        "# 3. Calculate the mean from each bootstrap (i.e., row) and store it.\n",
        "# (This should be an array of n_bootstraps values)\n",
        "# 4. Calculate the lower and upper bounds for a 95% CI (hint: check the percentile function on Numpy)\n",
        "# 5. Return data_mean, and the lower and upper bounds of your interval\n",
        "def bootstrap_mean(x, sample_size, n_bootstraps):\n",
        "\tbootstrap_matrix = []\n",
        "\tfor i in range(n_bootstraps):\n",
        "\t\tboot_str = np.random.choice(data, sample_size)     #p=[1/sample_size]*sample_size)\n",
        "\t\tbootstrap_matrix.append(boot_str)\n",
        "        \n",
        "\tbootstrap_array = np.array(bootstrap_matrix)\n",
        "\t#print(bootstrap_array)\n",
        "\tdata_mean = np.mean(bootstrap_array, axis = 1)\n",
        "\t#print(data_mean)\n",
        "\tlower = np.percentile(data_mean, 2.5)\n",
        "\tupper = np.percentile(data_mean, 97.5)\n",
        "\treturn data_mean, lower, upper\n",
        "\n",
        "\n"
      ],
      "execution_count": 17,
      "outputs": []
    },
    {
      "cell_type": "code",
      "metadata": {
        "id": "AN7sEOcMYC4P",
        "pycharm": {
          "name": "#%%\n"
        }
      },
      "source": [
        "# Call your bootstrap function and plot the results\n",
        "\n",
        "boots = []\n",
        "for i in range(100, 50000, 1000):\n",
        "    boot = bootstrap_mean(data, data.shape[0], i)\n",
        "    boots.append([i, boot[0], \"mean\"])\n",
        "    boots.append([i, boot[1], \"lower\"])\n",
        "    boots.append([i, boot[2], \"upper\"])\n",
        "\n",
        "\n",
        "print(boots)\n",
        "\n",
        "df_boot = pd.DataFrame(boots, columns=['Bootstrap Iterations', 'Mean', \"Value\"])\n",
        "print(df_boot)\n",
        "#print(df_boot.values.T[0])\n",
        "#print(df_boot.values.T[1])\n",
        "#sns_plot = sns.lmplot(df_boot.columns[0], df_boot.columns[1],data=df_boot )\n",
        "\n",
        "#sns_plot.axes[0, 0].set_ylim(0,)\n",
        "#sns_plot.axes[0, 0].set_xlim(0, 50000)\n"
      ],
      "execution_count": null,
      "outputs": []
    },
    {
      "cell_type": "markdown",
      "metadata": {
        "id": "MjtP4e2_YC4V"
      },
      "source": [
        "\n",
        "Now, modify the bootstrap function you created above so that you can pass your desired confidence interval as a parameter.\n",
        "\n"
      ]
    },
    {
      "cell_type": "code",
      "metadata": {
        "id": "3K9j0FuGYhHs"
      },
      "source": [
        "def bootstrap_mean_ci(data_from_file, data_size, n_bootstraps, ci):\n",
        "  bootstrap_matrix = []\n",
        "  take_arr = []\n",
        "  for i in data_from_file:\n",
        "    if math.isnan(i) == False:\n",
        "      take_arr.append(i)\n",
        "\n",
        "  size_no_nan = len(take_arr)\n",
        "  no_nan_array = np.array(take_arr)\n",
        "  for i in range (n_bootstraps):\n",
        "    boot_str = np.random.choice(no_nan_array,size_no_nan)\n",
        "    bootstrap_matrix.append(boot_str)\n",
        "\n",
        "  bootstrap_array = np.array(bootstrap_matrix)\n",
        "  \n",
        "  data_mean = np.mean(bootstrap_array, axis = 1)\n",
        "  data_mean_withpercentile = np.percentile(data_mean, ci)\n",
        "  #print('with {} confidence interval mean is {}'.format(ci, data_mean_withpercentile))\n",
        "  a = 100 - ci \n",
        "  b = a/2\n",
        "\n",
        "  lower = np.percentile(data_mean, b)\n",
        "  upper = np.percentile(data_mean,ci+b)\n",
        "  return data_mean_withpercentile, lower, upper \n",
        "\n"
      ],
      "execution_count": 33,
      "outputs": []
    },
    {
      "cell_type": "code",
      "metadata": {
        "id": "uDnjq08GYl-C"
      },
      "source": [
        "boots = []\n",
        "for i in range(100, 50000, 1000):\n",
        "    boot = bootstrap_mean_ci(data, data.shape[0], i, 80)\n",
        "    boots.append([i, boot[0], \"mean\"])\n",
        "    boots.append([i, boot[1], \"lower\"])\n",
        "    boots.append([i, boot[2], \"upper\"])\n",
        "\n",
        "df_boot = pd.DataFrame(boots, columns=['Boostrap Iterations', 'Mean', \"Value\"])\n",
        "sns_plot = sns.lmplot(df_boot.columns[0], df_boot.columns[1], data=df_boot, fit_reg=False, hue=\"Value\")\n",
        "\n",
        "sns_plot.axes[0, 0].set_ylim(0,)\n",
        "sns_plot.axes[0, 0].set_xlim(0, 50000)\n",
        "\n",
        "sns_plot.savefig(\"bootstrap_confidence_80.pdf\", bbox_inches='tight')\n"
      ],
      "execution_count": null,
      "outputs": []
    },
    {
      "cell_type": "markdown",
      "metadata": {
        "id": "qjNgXW6wdd7r"
      },
      "source": [
        "# Vehicles dataset\n",
        "\n",
        "Now let's work on a different dataset, which is stored in the vehicles.csv file.\n"
      ]
    },
    {
      "cell_type": "code",
      "metadata": {
        "id": "avWv4ipFdpka"
      },
      "source": [
        "from IPython.core.pylabtools import figsize\n",
        "# Load and visualise the vehicles dataset\n",
        "# To load the dataset: https://neptune.ai/blog/google-colab-dealing-with-files (check section \"Load individual files directly from GitHub\")\n",
        "\n",
        "\n",
        "# Note that the current and new fleets are in different columns and have different lengths, so bear this in mind when you're plotting.\n",
        "# You can create separate scatterplots for the two fleets, as you would with the histograms, \n",
        "# or plot them both in one plot (but not one against the other).\n",
        "# <---INSERT YOUR CODE HERE--->\n",
        "# Note: you can add more cells as needed to organise your code and your plots\n",
        "\n",
        "df = pd.read_csv('https://raw.githubusercontent.com/albanda/CE888/master/lab2%20-%20bootstrap/vehicles.csv')\n",
        "print(df.columns)\n",
        "data1 = df['Current fleet'].values\n",
        "#print(data1)\n",
        "data2 = df['New Fleet'].values\n",
        "#print(data2)\n",
        "print(len(data2))\n",
        "id = np.arange(1,len(df)+1)\n",
        "df['id'] = id\n",
        "print(len(df))\n",
        "#print(df.head())\n",
        "#sns.scatterplot(data=df, x=\"id\", y=\"Current fleet\")\n",
        "#sns.scatterplot(data=df, x=\"id\", y=\"New Fleet\")\n",
        "\n",
        "# shading because data1,data2 want to use but dont draw graph\n",
        "'''\n",
        "fig, ayes = plt.subplots(1,2, figsize=(15, 5), sharex=True)\n",
        "fig.suptitle('Scatter Plot')\n",
        "sns.scatterplot(ax=ayes[0], data=df, x=\"id\", y=\"Current fleet\")\n",
        "sns.scatterplot(ax=ayes[1], data=df, x=\"id\", y=\"New Fleet\")\n",
        "\n",
        "sns.displot(data=df.values.T[0], rug=False)\n",
        "plt.xlabel(\"current fleet\")\n",
        "plt.ylabel(\"count\")\n",
        "\n",
        "sns.displot(data=df.values.T[1], rug=False)\n",
        "plt.xlabel(\"New fleet\")\n",
        "plt.ylabel(\"count\")'''"
      ],
      "execution_count": null,
      "outputs": []
    },
    {
      "cell_type": "markdown",
      "metadata": {
        "id": "B5d0tXDpIEj8"
      },
      "source": [
        "## Compare the two fleets\n",
        "\n",
        "The business analysts come up a comparison algorithm that requires the upper and lower bounds for the mean in order to say which fleet is better.\n",
        "1. Calculate the mean of both samples.\n",
        "2. Using the bootstrap function that you created:\n",
        "    - Construct the 95% CI of the mean of the current fleet.\n",
        "    - Construct the 95% CI of the mean of the new fleet.\n",
        "    - Are they comparable? (i.e., is one better than the other?) -- you can do this with a permutation test (check the lecture notes!)"
      ]
    },
    {
      "cell_type": "code",
      "metadata": {
        "id": "po4mp6zRHC0m",
        "colab": {
          "base_uri": "https://localhost:8080/"
        },
        "outputId": "28af0225-8512-48b2-e445-914084100b10"
      },
      "source": [
        "# <---INSERT YOUR CODE HERE--->\n",
        "# A function that return only mean of current and new fleet\n",
        "def mean_of_fleets(data_of_fleets, data_size, n_bootstraps):\n",
        "  take_arr = []\n",
        "  for i in data2:\n",
        "    if math.isnan(i) == False:\n",
        "      take_arr.append(i)\n",
        "\n",
        "  size_no_nan = len(take_arr)\n",
        "  no_nan_array = np.array(take_arr)\n",
        "  store_matrix = []\n",
        "  for i in range (n_bootstraps):\n",
        "    boot_str = np.random.choice(no_nan_array,size_no_nan)\n",
        "    store_matrix.append(boot_str)\n",
        "  store_array = np.array(store_matrix)\n",
        "  data_mean = np.mean(store_array, axis = 1)\n",
        "  return data_mean \n",
        "\n",
        "def mean_and_bootstrapmean_ci(data_current_fleet,data_new_fleet, data_size, n_bootstraps, ci):\n",
        "  mean_of_current_fleet = mean_of_fleets(data_current_fleet, data_size, n_bootstraps)\n",
        "  mean_of_new_fleet = mean_of_fleets(data_new_fleet, data_size, n_bootstraps)\n",
        "  print('mean of current fleet= {}'.format(mean_of_current_fleet))\n",
        "  print('mean of new fleet = {}'.format(mean_of_new_fleet))\n",
        "\n",
        "  with_ci_mean_current_fleet = bootstrap_mean_ci(data_current_fleet, data_size, n_bootstraps, ci)\n",
        "  with_ci_mean_new_fleet = bootstrap_mean_ci(data_new_fleet, data_size, n_bootstraps, ci)\n",
        "  print('with {} mean of current fleet = {}'.format(ci,with_ci_mean_current_fleet))\n",
        "  print('with {} mean of new fleet = {}'.format(ci,with_ci_mean_new_fleet))\n",
        "\n",
        "\n",
        "mean_and_bootstrapmean_ci(data1, data2, len(df),10, 95 )\n"
      ],
      "execution_count": 53,
      "outputs": [
        {
          "output_type": "stream",
          "name": "stdout",
          "text": [
            "mean of current fleet= [31.30379747 30.58227848 30.06329114 31.03797468 29.79746835 31.24050633\n",
            " 29.92405063 30.01265823 30.74683544 31.4556962 ]\n",
            "mean of new fleet = [31.39240506 29.92405063 29.29113924 31.62025316 29.40506329 30.72151899\n",
            " 30.73417722 29.73417722 30.46835443 31.18987342]\n",
            "with 95 mean of current fleet = (20.467670682730926, 19.46937751004016, 20.48483935742972)\n",
            "with 95 mean of new fleet = (31.26392405063291, 29.651582278481015, 31.34082278481013)\n"
          ]
        }
      ]
    },
    {
      "cell_type": "code",
      "metadata": {
        "id": "MkxvDZG4HC0n",
        "colab": {
          "base_uri": "https://localhost:8080/"
        },
        "outputId": "94a7598c-4d30-4a77-9f33-6cdd19dc9de5"
      },
      "source": [
        "# Create your own function for a permutation test here (you will need it for the lab quiz!):\n",
        "def remove_nan(sample):\n",
        "  take_arr = []\n",
        "  for i in sample:\n",
        "    if math.isnan(i) == False:\n",
        "        take_arr.append(i)\n",
        "  size_no_nan = len(take_arr)\n",
        "  no_nan_array = np.array(take_arr)\n",
        "  return no_nan_array\n",
        "\n",
        "\n",
        "def permut_test(sample1, sample2, n_permutations):\n",
        "    \"\"\"\n",
        "    sample1: 1D array\n",
        "    sample2: 1D array (note that the size of the two arrays can be different)\n",
        "    n_permutations: number of permutations to calculate the p-value\n",
        "    \"\"\"\n",
        "    data_current = remove_nan(sample1)\n",
        "    data_new = remove_nan(sample2)\n",
        "    mean_of_current = mean_of_fleets(data_current,len(data_current), n_permutations)\n",
        "    mean_of_new = mean_of_fleets(data_new, len(data_new),n_permutations)\n",
        "    Tobs = mean_of_new - mean_of_current\n",
        "    print(Tobs)\n",
        "\n",
        "\n",
        "    \n",
        "    concat = np.concatenate((data_current, data_new))\n",
        "    for i in range(n_permutations):\n",
        "      perm = np.random.permutation(concat)\n",
        "      #print(concat)\n",
        "      #print(perm)\n",
        "      p_current = perm [:int(len(data_current))]\n",
        "      p_new = perm[int(len(data_new)):]\n",
        "      #print(len(p_current),len(p_new))\n",
        "      mean_curr_af_perm = mean_of_fleets(p_current,len(p_current), 10)\n",
        "      mean_new_af_perm = mean_of_fleets(p_new, len(p_new), 10)\n",
        "      Tperm = mean_new_af_perm - mean_curr_af_perm\n",
        "      print('for {} the Tperm is{}='.format(i,Tperm))\n",
        "    count = 0\n",
        "    for i in range(n_permutations):\n",
        "      if Tperm[i]>Tobs[i]:\n",
        "        count = count +1\n",
        "    pvalue = n_permutations/count     \n",
        "    return pvalue\n",
        "\n",
        "\n",
        "print(permut_test(data1, data2, 10))\n",
        "\n"
      ],
      "execution_count": 68,
      "outputs": [
        {
          "output_type": "stream",
          "name": "stdout",
          "text": [
            "[-0.20253165  0.35443038  0.74683544 -0.43037975 -0.27848101  0.3164557\n",
            " -1.98734177  1.20253165 -0.93670886  1.02531646]\n",
            "for 0 the Tperm is[ 0.50632911  1.07594937  0.07594937  1.06329114  0.58227848 -1.37974684\n",
            "  0.37974684  0.55696203  1.70886076 -0.24050633]=\n",
            "for 1 the Tperm is[-1.06329114  0.16455696  1.37974684 -0.6835443  -1.2278481   2.79746835\n",
            "  0.69620253 -1.25316456  0.4556962   0.34177215]=\n",
            "for 2 the Tperm is[-1.5443038  -0.13924051 -0.62025316  1.06329114 -0.86075949 -0.30379747\n",
            " -1.11392405  1.17721519 -1.10126582  0.86075949]=\n",
            "for 3 the Tperm is[-0.62025316 -0.15189873  1.02531646  0.35443038 -1.5443038   0.32911392\n",
            "  0.06329114  1.15189873  0.         -1.82278481]=\n",
            "for 4 the Tperm is[ 1.78481013 -1.39240506  0.37974684 -0.06329114  0.56962025 -0.50632911\n",
            "  2.39240506  0.26582278  1.36708861 -0.73417722]=\n",
            "for 5 the Tperm is[ 0.75949367  1.12658228 -0.5443038   1.67088608  0.39240506 -2.21518987\n",
            " -0.74683544 -0.4556962  -0.72151899  1.06329114]=\n",
            "for 6 the Tperm is[ 1.56962025  0.48101266  0.16455696 -0.01265823  0.67088608  0.32911392\n",
            "  1.39240506  0.43037975 -0.55696203  0.29113924]=\n",
            "for 7 the Tperm is[-0.36708861 -0.55696203  0.51898734  1.55696203  2.39240506  1.3164557\n",
            "  0.82278481 -0.08860759 -0.49367089 -0.83544304]=\n",
            "for 8 the Tperm is[ 1.64556962  0.07594937  1.92405063  0.37974684 -0.48101266  0.86075949\n",
            "  0.11392405 -0.46835443 -0.49367089  1.        ]=\n",
            "for 9 the Tperm is[ 1.26582278  0.39240506  0.06329114  0.81012658  1.08860759 -0.10126582\n",
            " -0.15189873 -0.11392405  1.07594937 -0.2278481 ]=\n",
            "1.6666666666666667\n"
          ]
        }
      ]
    }
  ]
}