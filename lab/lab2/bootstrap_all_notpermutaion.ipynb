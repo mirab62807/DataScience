{
  "nbformat": 4,
  "nbformat_minor": 0,
  "metadata": {
    "colab": {
      "name": "bootstrap.ipynb",
      "provenance": [],
      "include_colab_link": true
    },
    "kernelspec": {
      "display_name": "Python 3",
      "language": "python",
      "name": "python3"
    },
    "language_info": {
      "codemirror_mode": {
        "name": "ipython",
        "version": 3
      },
      "file_extension": ".py",
      "mimetype": "text/x-python",
      "name": "python",
      "nbconvert_exporter": "python",
      "pygments_lexer": "ipython3",
      "version": "3.7.6"
    },
    "pycharm": {
      "stem_cell": {
        "cell_type": "raw",
        "metadata": {
          "collapsed": false
        },
        "source": []
      }
    }
  },
  "cells": [
    {
      "cell_type": "markdown",
      "metadata": {
        "id": "view-in-github",
        "colab_type": "text"
      },
      "source": [
        "<a href=\"https://colab.research.google.com/github/mirab62807/DataScience/blob/main/lab/lab2/bootstrap_all_notpermutaion.ipynb\" target=\"_parent\"><img src=\"https://colab.research.google.com/assets/colab-badge.svg\" alt=\"Open In Colab\"/></a>"
      ]
    },
    {
      "cell_type": "markdown",
      "metadata": {
        "id": "nCi_99yMYIb1"
      },
      "source": [
        "In this notebook you'll create your own bootstrap function following the bootstrap algorithm (check the lecture notes!)"
      ]
    },
    {
      "cell_type": "code",
      "metadata": {
        "id": "LY5zujI2YC37",
        "pycharm": {
          "name": "#%%# Imports\n"
        }
      },
      "source": [
        "import matplotlib\n",
        "import pandas as pd\n",
        "import seaborn as sns\n",
        "import numpy as np\n",
        "import matplotlib.pyplot as plt\n",
        "\n",
        "\n"
      ],
      "execution_count": 6,
      "outputs": []
    },
    {
      "cell_type": "code",
      "metadata": {
        "id": "Eqkwj4SMY38t"
      },
      "source": [
        "# Load the data\n",
        "df = pd.read_csv('https://raw.githubusercontent.com/albanda/CE888/master/lab2%20-%20bootstrap/customers.csv')\n",
        "data = df.values.T[1]"
      ],
      "execution_count": 7,
      "outputs": []
    },
    {
      "cell_type": "code",
      "metadata": {
        "id": "Gxvc_bScYC4H",
        "pycharm": {
          "name": "#%%\n"
        }
      },
      "source": [
        "# Checking the notes from the lecture, create here your own bootstrap function:\n",
        "# 1. Sample from the input array x to create an array of samples of shape (n_bootstraps, sample_size)\n",
        "# Hint: Check the function random.choice() on Numpy\n",
        "# 2. Calculate and save the mean of the array (this is \"data_mean\" that is returned by the function)\n",
        "# 3. Calculate the mean from each bootstrap (i.e., row) and store it.\n",
        "# (This should be an array of n_bootstraps values)\n",
        "# 4. Calculate the lower and upper bounds for a 95% CI (hint: check the percentile function on Numpy)\n",
        "# 5. Return data_mean, and the lower and upper bounds of your interval\n",
        "def bootstrap_mean(x, sample_size, n_bootstraps):\n",
        "\t# <---INSERT YOUR CODE HERE--->\n",
        "\tbootstrap_matrix = []\n",
        "\tfor i in range(n_bootstraps):\n",
        "\t\tboot_str = np.random.choice(data,14,p=[1/14,1/14,1/14,1/14,1/14,1/14,1/14,1/14,1/14,1/14,1/14,1/14,1/14,1/14])\n",
        "\t\tbootstrap_matrix.append(boot_str)\n",
        "\t\n",
        "\tbootstrap_array = np.array(bootstrap_matrix)\n",
        "\n",
        "\t#print(bootstrap_array)\n",
        "\tdata_mean = np.mean(bootstrap_array, axis = 1)\n",
        "\tsorted_data_mean = sorted(data_mean)\n",
        "\t\t\t\t\n",
        "\tlower = min(sorted_data_mean)\n",
        "\tupper = max(sorted_data_mean)\n",
        "\treturn data_mean, lower, upper\t\t\t\n"
      ],
      "execution_count": 8,
      "outputs": []
    },
    {
      "cell_type": "code",
      "metadata": {
        "id": "AN7sEOcMYC4P",
        "pycharm": {
          "name": "#%%\n"
        }
      },
      "source": [
        "# Call your bootstrap function and plot the results\n",
        "\n",
        "boots = []\n",
        "for i in range(100, 50000, 1000):\n",
        "    boot = bootstrap_mean(data, data.shape[0], i)\n",
        "    boots.append([i, boot[0], \"mean\"])\n",
        "    boots.append([i, boot[1], \"lower\"])\n",
        "    boots.append([i, boot[2], \"upper\"])\n",
        "\n",
        "df_boot = pd.DataFrame(boots, columns=['Bootstrap Iterations', 'Mean', \"Value\"])\n",
        "sns_plot = sns.lmplot(df_boot.columns[0], df_boot.columns[1], data=df_boot, fit_reg=False, hue=\"Value\")\n",
        "\n",
        "sns_plot.axes[0, 0].set_ylim(0,)\n",
        "sns_plot.axes[0, 0].set_xlim(0, 50000)\n"
      ],
      "execution_count": null,
      "outputs": []
    },
    {
      "cell_type": "markdown",
      "metadata": {
        "id": "MjtP4e2_YC4V"
      },
      "source": [
        "\n",
        "Now, modify the bootstrap function you created above so that you can pass your desired confidence interval as a parameter.\n",
        "\n"
      ]
    },
    {
      "cell_type": "code",
      "metadata": {
        "id": "3K9j0FuGYhHs"
      },
      "source": [
        "def bootstrap_mean_ci(sample, sample_size, n_bootstraps, ci):\n",
        "\tbootstrap_matrix = []\n",
        "\tfor i in range(n_bootstraps):\n",
        "\t\tboot_str = np.random.choice(data,14,p=[1/14,1/14,1/14,1/14,1/14,1/14,1/14,1/14,1/14,1/14,1/14,1/14,1/14,1/14])\n",
        "\t\tbootstrap_matrix.append(boot_str)\n",
        "\t\tbootstrap_array = np.array(bootstrap_matrix)\n",
        "\t\n",
        "\tdata_mean = np.mean(bootstrap_array, axis = 1)\n",
        "\tdata_mean_with_ci = np.percentile(data_mean,ci)\n",
        " \n",
        "\tsorted_data_mean = sorted(data_mean)  \n",
        "\tlower = min(sorted_data_mean)\n",
        "\tupper = max(sorted_data_mean)\n",
        "    \n",
        "\treturn data_mean, lower, upper"
      ],
      "execution_count": 4,
      "outputs": []
    },
    {
      "cell_type": "code",
      "metadata": {
        "id": "uDnjq08GYl-C"
      },
      "source": [
        "boots = []\n",
        "for i in range(100, 50000, 1000):\n",
        "    boot = bootstrap_mean_ci(data, data.shape[0], i, 80)\n",
        "    boots.append([i, boot[0], \"mean\"])\n",
        "    boots.append([i, boot[1], \"lower\"])\n",
        "    boots.append([i, boot[2], \"upper\"])\n",
        "\n",
        "df_boot = pd.DataFrame(boots, columns=['Boostrap Iterations', 'Mean', \"Value\"])\n",
        "sns_plot = sns.lmplot(df_boot.columns[0], df_boot.columns[1], data=df_boot, fit_reg=False, hue=\"Value\")\n",
        "\n",
        "sns_plot.axes[0, 0].set_ylim(0,)\n",
        "sns_plot.axes[0, 0].set_xlim(0, 50000)\n",
        "\n",
        "#sns_plot.savefig(\"bootstrap_confidence_80.pdf\", bbox_inches='tight')\n"
      ],
      "execution_count": null,
      "outputs": []
    },
    {
      "cell_type": "markdown",
      "metadata": {
        "id": "qjNgXW6wdd7r"
      },
      "source": [
        "# Vehicles dataset\n",
        "\n",
        "Now let's work on a different dataset, which is stored in the vehicles.csv file.\n"
      ]
    },
    {
      "cell_type": "code",
      "metadata": {
        "id": "avWv4ipFdpka"
      },
      "source": [
        "# Load and visualise the vehicles dataset\n",
        "# To load the dataset: https://neptune.ai/blog/google-colab-dealing-with-files (check section \"Load individual files directly from GitHub\")\n",
        "\n",
        "\n",
        "# Note that the current and new fleets are in different columns and have different lengths, so bear this in mind when you're plotting.\n",
        "# You can create separate scatterplots for the two fleets, as you would with the histograms, \n",
        "# or plot them both in one plot (but not one against the other).\n",
        "# <---INSERT YOUR CODE HERE--->\n",
        "# Note: you can add more cells as needed to organise your code and your plots\n",
        "\n",
        "df = pd.read_csv('https://raw.githubusercontent.com/albanda/CE888/master/lab2%20-%20bootstrap/vehicles.csv')\n",
        "print(df.columns)\n",
        "data1 = df['Current fleet'].values\n",
        "data2 = df['New Fleet'].values\n",
        "id = np.arange(1,len(df)+1)\n",
        "df['id'] = id\n",
        "#print(df.head())\n",
        "#sns.scatterplot(data=df, x=\"id\", y=\"Current fleet\")\n",
        "#sns.scatterplot(data=df, x=\"id\", y=\"New Fleet\")\n",
        "\n",
        "fig, ayes = plt.subplots(1,2, figsize=(15, 5), sharex=True)\n",
        "fig.suptitle('Scatter Plot')\n",
        "sns.scatterplot(ax=ayes[0], data=df, x=\"id\", y=\"Current fleet\")\n",
        "sns.scatterplot(ax=ayes[1], data=df, x=\"id\", y=\"New Fleet\")\n",
        "\n",
        "sns.displot(data=df.values.T[0], rug=False)\n",
        "plt.xlabel(\"current fleet\")\n",
        "plt.ylabel(\"count\")\n",
        "\n",
        "sns.displot(data=df.values.T[1], rug=False)\n",
        "plt.xlabel(\"New fleet\")\n",
        "plt.ylabel(\"count\")\n",
        "\n",
        "\n",
        "\n",
        "\n",
        "\n",
        "\n",
        "\n",
        "\n",
        "\n"
      ],
      "execution_count": null,
      "outputs": []
    },
    {
      "cell_type": "markdown",
      "metadata": {
        "id": "B5d0tXDpIEj8"
      },
      "source": [
        "## Compare the two fleets\n",
        "\n",
        "The business analysts come up a comparison algorithm that requires the upper and lower bounds for the mean in order to say which fleet is better.\n",
        "1. Calculate the mean of both samples.\n",
        "2. Using the bootstrap function that you created:\n",
        "    - Construct the 95% CI of the mean of the current fleet.\n",
        "    - Construct the 95% CI of the mean of the new fleet.\n",
        "    - Are they comparable? (i.e., is one better than the other?) -- you can do this with a permutation test (check the lecture notes!)"
      ]
    },
    {
      "cell_type": "code",
      "metadata": {
        "id": "po4mp6zRHC0m"
      },
      "source": [
        "# <---INSERT YOUR CODE HERE--->\n",
        "def mean_of_fleets(data_of_fleets, data_size, n_bootstraps):\n",
        "  take_arr = []\n",
        "  for i in data2:\n",
        "    if math.isnan(i) == False:\n",
        "      take_arr.append(i)\n",
        "\n",
        "  size_no_nan = len(take_arr)\n",
        "  no_nan_array = np.array(take_arr)\n",
        "  store_matrix = []\n",
        "  for i in range (n_bootstraps):\n",
        "    boot_str = np.random.choice(no_nan_array,size_no_nan,p=[1/size_no_nan]*size_no_nan)\n",
        "    store_matrix.append(boot_str)\n",
        "  store_array = np.array(store_matrix)\n",
        "  data_mean = np.mean(store_array, axis = 1)\n",
        "  return data_mean \n",
        "\n",
        "\n",
        "def bootstrap_mean_ci(data_from_file, data_size, n_bootstraps, ci):\n",
        "  bootstrap_matrix = []\n",
        "  take_arr = []\n",
        "  for i in data2:\n",
        "    if math.isnan(i) == False:\n",
        "      take_arr.append(i)\n",
        "\n",
        "  size_no_nan = len(take_arr)\n",
        "  no_nan_array = np.array(take_arr)\n",
        "  for i in range (n_bootstraps):\n",
        "    boot_str = np.random.choice(no_nan_array,size_no_nan,p=[1/size_no_nan]*size_no_nan)\n",
        "    bootstrap_matrix.append(boot_str)\n",
        "  bootstrap_array = np.array(bootstrap_matrix)\n",
        "  data_mean = np.mean(bootstrap_array, axis = 1)\n",
        "  data_mean_withpercentile = np.percentile(data_mean, ci)\n",
        "  #print('with {} confidence interval mean is {}'.format(ci, data_mean_withpercentile))\n",
        "  lower = min(data_mean)\n",
        "  upper = max(data_mean)\n",
        "  return data_mean_withpercentile\n",
        "    \n",
        "\n",
        "\n"
      ],
      "execution_count": 1,
      "outputs": []
    },
    {
      "cell_type": "code",
      "metadata": {
        "id": "MkxvDZG4HC0n"
      },
      "source": [
        "# Create your own function for a permutation test here (you will need it for the lab quiz!):\n",
        "def permut_test(sample1, sample2, n_permutations):\n",
        "    \"\"\"\n",
        "    sample1: 1D array\n",
        "    sample2: 1D array (note that the size of the two arrays can be different)\n",
        "    n_permutations: number of permutations to calculate the p-value\n",
        "    \"\"\"\n",
        "    return pvalue"
      ],
      "execution_count": null,
      "outputs": []
    }
  ]
}