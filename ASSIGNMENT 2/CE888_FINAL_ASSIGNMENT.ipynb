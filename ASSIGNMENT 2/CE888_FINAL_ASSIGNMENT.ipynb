{
  "cells": [
    {
      "cell_type": "markdown",
      "metadata": {
        "id": "view-in-github",
        "colab_type": "text"
      },
      "source": [
        "<a href=\"https://colab.research.google.com/github/mirab62807/DataScience/blob/main/ASSIGNMENT%202/CE888_FINAL_ASSIGNMENT.ipynb\" target=\"_parent\"><img src=\"https://colab.research.google.com/assets/colab-badge.svg\" alt=\"Open In Colab\"/></a>"
      ]
    },
    {
      "cell_type": "code",
      "execution_count": null,
      "metadata": {
        "id": "mcjGH6qihjYd"
      },
      "outputs": [],
      "source": [
        "!pip install econml"
      ]
    },
    {
      "cell_type": "code",
      "execution_count": 5,
      "metadata": {
        "id": "j8lGrWs8hZo2"
      },
      "outputs": [],
      "source": [
        "from econml.metalearners import XLearner\n",
        "from sklearn.ensemble import RandomForestRegressor, RandomForestClassifier\n",
        "from sklearn.tree import DecisionTreeRegressor\n",
        "from sklearn.linear_model import LogisticRegression\n",
        "from sklearn.model_selection import train_test_split\n",
        "from sklearn.preprocessing import StandardScaler\n",
        "import numpy as np\n",
        "import pandas as pd\n",
        "import scipy.stats as st\n",
        "import matplotlib.pyplot as plt\n",
        "from sklearn.model_selection import GridSearchCV"
      ]
    },
    {
      "cell_type": "markdown",
      "metadata": {
        "id": "GFUf39VdZ2_J"
      },
      "source": [
        " # Causal Inference\n",
        "\n",
        "We are going to combine our knowledge of regression and classification methods to estimate causal effects for simulation and observatinal data\n",
        "\n",
        "We will uploa two datasets of two different kinds:\n",
        "- IHDP ( factual and counterfactual data)\n",
        "- JOBS (obsrevational)\n",
        "\n",
        "Steps we are going to follow:\n",
        "\n",
        "1) Import data from npz and csv file [csv file is suitable to visualise and npz file is suitable for modeling]\\\n",
        "2)Selecting appropriate matrix for data\\\n",
        "3)We will train for S-Learner and through GridSearch we will find best       parameters\\\n",
        "4) Next,we will train for IPSW and for X-Learner\\\n",
        "5) Will find out the error for each of methods according to appropriate matrix which will be describe subsequently.  \n"
      ]
    },
    {
      "cell_type": "markdown",
      "metadata": {
        "id": "BRy0Uci8fj_v"
      },
      "source": [
        "# LOD THE DATA AND OBSERVATIN"
      ]
    },
    {
      "cell_type": "code",
      "execution_count": 6,
      "metadata": {
        "colab": {
          "base_uri": "https://localhost:8080/",
          "height": 236
        },
        "id": "xJUhr1gFC-w7",
        "outputId": "cc02eccd-794b-40cd-aa88-380412d8d9a8"
      },
      "outputs": [
        {
          "output_type": "execute_result",
          "data": {
            "text/plain": [
              "         x1        x2        x3        x4        x5        x6   x7   x8   x9  \\\n",
              "0  1.397395  0.996346 -1.105624 -0.879606  0.308569 -1.023402  1.0  0.0  0.0   \n",
              "1  0.269033  0.196818  0.383828  0.161703 -0.629189  1.460832  1.0  0.0  1.0   \n",
              "2  1.051537  1.795874 -1.105624  0.161703 -0.629189  0.963985  1.0  0.0  1.0   \n",
              "3  0.662446  0.196818 -0.733261 -0.879606  0.371086 -0.692171  1.0  0.0  0.0   \n",
              "4  0.856992  1.795874  0.011465 -0.879606  0.558638  0.301522  0.0  1.0  1.0   \n",
              "\n",
              "   x10  ...  x20  x21  x22  x23  x24  x25    t        yf       ycf       ite  \n",
              "0  0.0  ...  0.0  0.0  0.0  0.0  0.0  1.0  1.0  4.771232 -0.298509  4.657928  \n",
              "1  0.0  ...  0.0  0.0  0.0  0.0  0.0  0.0  0.0  2.956273  5.783770  3.428604  \n",
              "2  1.0  ...  0.0  0.0  0.0  0.0  0.0  1.0  0.0  4.164164  7.055789  3.658195  \n",
              "3  0.0  ...  1.0  0.0  0.0  0.0  0.0  0.0  1.0  6.172307  1.379697  4.585505  \n",
              "4  0.0  ...  0.0  0.0  0.0  0.0  0.0  0.0  1.0  7.834469  2.747986  4.265591  \n",
              "\n",
              "[5 rows x 29 columns]"
            ],
            "text/html": [
              "\n",
              "  <div id=\"df-e7e636bc-9955-42ed-996d-09736cb8e1fd\">\n",
              "    <div class=\"colab-df-container\">\n",
              "      <div>\n",
              "<style scoped>\n",
              "    .dataframe tbody tr th:only-of-type {\n",
              "        vertical-align: middle;\n",
              "    }\n",
              "\n",
              "    .dataframe tbody tr th {\n",
              "        vertical-align: top;\n",
              "    }\n",
              "\n",
              "    .dataframe thead th {\n",
              "        text-align: right;\n",
              "    }\n",
              "</style>\n",
              "<table border=\"1\" class=\"dataframe\">\n",
              "  <thead>\n",
              "    <tr style=\"text-align: right;\">\n",
              "      <th></th>\n",
              "      <th>x1</th>\n",
              "      <th>x2</th>\n",
              "      <th>x3</th>\n",
              "      <th>x4</th>\n",
              "      <th>x5</th>\n",
              "      <th>x6</th>\n",
              "      <th>x7</th>\n",
              "      <th>x8</th>\n",
              "      <th>x9</th>\n",
              "      <th>x10</th>\n",
              "      <th>...</th>\n",
              "      <th>x20</th>\n",
              "      <th>x21</th>\n",
              "      <th>x22</th>\n",
              "      <th>x23</th>\n",
              "      <th>x24</th>\n",
              "      <th>x25</th>\n",
              "      <th>t</th>\n",
              "      <th>yf</th>\n",
              "      <th>ycf</th>\n",
              "      <th>ite</th>\n",
              "    </tr>\n",
              "  </thead>\n",
              "  <tbody>\n",
              "    <tr>\n",
              "      <th>0</th>\n",
              "      <td>1.397395</td>\n",
              "      <td>0.996346</td>\n",
              "      <td>-1.105624</td>\n",
              "      <td>-0.879606</td>\n",
              "      <td>0.308569</td>\n",
              "      <td>-1.023402</td>\n",
              "      <td>1.0</td>\n",
              "      <td>0.0</td>\n",
              "      <td>0.0</td>\n",
              "      <td>0.0</td>\n",
              "      <td>...</td>\n",
              "      <td>0.0</td>\n",
              "      <td>0.0</td>\n",
              "      <td>0.0</td>\n",
              "      <td>0.0</td>\n",
              "      <td>0.0</td>\n",
              "      <td>1.0</td>\n",
              "      <td>1.0</td>\n",
              "      <td>4.771232</td>\n",
              "      <td>-0.298509</td>\n",
              "      <td>4.657928</td>\n",
              "    </tr>\n",
              "    <tr>\n",
              "      <th>1</th>\n",
              "      <td>0.269033</td>\n",
              "      <td>0.196818</td>\n",
              "      <td>0.383828</td>\n",
              "      <td>0.161703</td>\n",
              "      <td>-0.629189</td>\n",
              "      <td>1.460832</td>\n",
              "      <td>1.0</td>\n",
              "      <td>0.0</td>\n",
              "      <td>1.0</td>\n",
              "      <td>0.0</td>\n",
              "      <td>...</td>\n",
              "      <td>0.0</td>\n",
              "      <td>0.0</td>\n",
              "      <td>0.0</td>\n",
              "      <td>0.0</td>\n",
              "      <td>0.0</td>\n",
              "      <td>0.0</td>\n",
              "      <td>0.0</td>\n",
              "      <td>2.956273</td>\n",
              "      <td>5.783770</td>\n",
              "      <td>3.428604</td>\n",
              "    </tr>\n",
              "    <tr>\n",
              "      <th>2</th>\n",
              "      <td>1.051537</td>\n",
              "      <td>1.795874</td>\n",
              "      <td>-1.105624</td>\n",
              "      <td>0.161703</td>\n",
              "      <td>-0.629189</td>\n",
              "      <td>0.963985</td>\n",
              "      <td>1.0</td>\n",
              "      <td>0.0</td>\n",
              "      <td>1.0</td>\n",
              "      <td>1.0</td>\n",
              "      <td>...</td>\n",
              "      <td>0.0</td>\n",
              "      <td>0.0</td>\n",
              "      <td>0.0</td>\n",
              "      <td>0.0</td>\n",
              "      <td>0.0</td>\n",
              "      <td>1.0</td>\n",
              "      <td>0.0</td>\n",
              "      <td>4.164164</td>\n",
              "      <td>7.055789</td>\n",
              "      <td>3.658195</td>\n",
              "    </tr>\n",
              "    <tr>\n",
              "      <th>3</th>\n",
              "      <td>0.662446</td>\n",
              "      <td>0.196818</td>\n",
              "      <td>-0.733261</td>\n",
              "      <td>-0.879606</td>\n",
              "      <td>0.371086</td>\n",
              "      <td>-0.692171</td>\n",
              "      <td>1.0</td>\n",
              "      <td>0.0</td>\n",
              "      <td>0.0</td>\n",
              "      <td>0.0</td>\n",
              "      <td>...</td>\n",
              "      <td>1.0</td>\n",
              "      <td>0.0</td>\n",
              "      <td>0.0</td>\n",
              "      <td>0.0</td>\n",
              "      <td>0.0</td>\n",
              "      <td>0.0</td>\n",
              "      <td>1.0</td>\n",
              "      <td>6.172307</td>\n",
              "      <td>1.379697</td>\n",
              "      <td>4.585505</td>\n",
              "    </tr>\n",
              "    <tr>\n",
              "      <th>4</th>\n",
              "      <td>0.856992</td>\n",
              "      <td>1.795874</td>\n",
              "      <td>0.011465</td>\n",
              "      <td>-0.879606</td>\n",
              "      <td>0.558638</td>\n",
              "      <td>0.301522</td>\n",
              "      <td>0.0</td>\n",
              "      <td>1.0</td>\n",
              "      <td>1.0</td>\n",
              "      <td>0.0</td>\n",
              "      <td>...</td>\n",
              "      <td>0.0</td>\n",
              "      <td>0.0</td>\n",
              "      <td>0.0</td>\n",
              "      <td>0.0</td>\n",
              "      <td>0.0</td>\n",
              "      <td>0.0</td>\n",
              "      <td>1.0</td>\n",
              "      <td>7.834469</td>\n",
              "      <td>2.747986</td>\n",
              "      <td>4.265591</td>\n",
              "    </tr>\n",
              "  </tbody>\n",
              "</table>\n",
              "<p>5 rows × 29 columns</p>\n",
              "</div>\n",
              "      <button class=\"colab-df-convert\" onclick=\"convertToInteractive('df-e7e636bc-9955-42ed-996d-09736cb8e1fd')\"\n",
              "              title=\"Convert this dataframe to an interactive table.\"\n",
              "              style=\"display:none;\">\n",
              "        \n",
              "  <svg xmlns=\"http://www.w3.org/2000/svg\" height=\"24px\"viewBox=\"0 0 24 24\"\n",
              "       width=\"24px\">\n",
              "    <path d=\"M0 0h24v24H0V0z\" fill=\"none\"/>\n",
              "    <path d=\"M18.56 5.44l.94 2.06.94-2.06 2.06-.94-2.06-.94-.94-2.06-.94 2.06-2.06.94zm-11 1L8.5 8.5l.94-2.06 2.06-.94-2.06-.94L8.5 2.5l-.94 2.06-2.06.94zm10 10l.94 2.06.94-2.06 2.06-.94-2.06-.94-.94-2.06-.94 2.06-2.06.94z\"/><path d=\"M17.41 7.96l-1.37-1.37c-.4-.4-.92-.59-1.43-.59-.52 0-1.04.2-1.43.59L10.3 9.45l-7.72 7.72c-.78.78-.78 2.05 0 2.83L4 21.41c.39.39.9.59 1.41.59.51 0 1.02-.2 1.41-.59l7.78-7.78 2.81-2.81c.8-.78.8-2.07 0-2.86zM5.41 20L4 18.59l7.72-7.72 1.47 1.35L5.41 20z\"/>\n",
              "  </svg>\n",
              "      </button>\n",
              "      \n",
              "  <style>\n",
              "    .colab-df-container {\n",
              "      display:flex;\n",
              "      flex-wrap:wrap;\n",
              "      gap: 12px;\n",
              "    }\n",
              "\n",
              "    .colab-df-convert {\n",
              "      background-color: #E8F0FE;\n",
              "      border: none;\n",
              "      border-radius: 50%;\n",
              "      cursor: pointer;\n",
              "      display: none;\n",
              "      fill: #1967D2;\n",
              "      height: 32px;\n",
              "      padding: 0 0 0 0;\n",
              "      width: 32px;\n",
              "    }\n",
              "\n",
              "    .colab-df-convert:hover {\n",
              "      background-color: #E2EBFA;\n",
              "      box-shadow: 0px 1px 2px rgba(60, 64, 67, 0.3), 0px 1px 3px 1px rgba(60, 64, 67, 0.15);\n",
              "      fill: #174EA6;\n",
              "    }\n",
              "\n",
              "    [theme=dark] .colab-df-convert {\n",
              "      background-color: #3B4455;\n",
              "      fill: #D2E3FC;\n",
              "    }\n",
              "\n",
              "    [theme=dark] .colab-df-convert:hover {\n",
              "      background-color: #434B5C;\n",
              "      box-shadow: 0px 1px 3px 1px rgba(0, 0, 0, 0.15);\n",
              "      filter: drop-shadow(0px 1px 2px rgba(0, 0, 0, 0.3));\n",
              "      fill: #FFFFFF;\n",
              "    }\n",
              "  </style>\n",
              "\n",
              "      <script>\n",
              "        const buttonEl =\n",
              "          document.querySelector('#df-e7e636bc-9955-42ed-996d-09736cb8e1fd button.colab-df-convert');\n",
              "        buttonEl.style.display =\n",
              "          google.colab.kernel.accessAllowed ? 'block' : 'none';\n",
              "\n",
              "        async function convertToInteractive(key) {\n",
              "          const element = document.querySelector('#df-e7e636bc-9955-42ed-996d-09736cb8e1fd');\n",
              "          const dataTable =\n",
              "            await google.colab.kernel.invokeFunction('convertToInteractive',\n",
              "                                                     [key], {});\n",
              "          if (!dataTable) return;\n",
              "\n",
              "          const docLinkHtml = 'Like what you see? Visit the ' +\n",
              "            '<a target=\"_blank\" href=https://colab.research.google.com/notebooks/data_table.ipynb>data table notebook</a>'\n",
              "            + ' to learn more about interactive tables.';\n",
              "          element.innerHTML = '';\n",
              "          dataTable['output_type'] = 'display_data';\n",
              "          await google.colab.output.renderOutput(dataTable, element);\n",
              "          const docLink = document.createElement('div');\n",
              "          docLink.innerHTML = docLinkHtml;\n",
              "          element.appendChild(docLink);\n",
              "        }\n",
              "      </script>\n",
              "    </div>\n",
              "  </div>\n",
              "  "
            ]
          },
          "metadata": {},
          "execution_count": 6
        }
      ],
      "source": [
        "ihdp_csv = pd.read_csv('ihdp.csv')\n",
        "ihdp_csv.head()"
      ]
    },
    {
      "cell_type": "markdown",
      "metadata": {
        "id": "X9IlgF2WC9_g"
      },
      "source": [
        "#we can see in data all values are float and their are no any nan value "
      ]
    },
    {
      "cell_type": "code",
      "execution_count": null,
      "metadata": {
        "colab": {
          "base_uri": "https://localhost:8080/"
        },
        "id": "9Rro4GaGC-Tk",
        "outputId": "2756cc5a-57c3-4c98-abb3-4312ab67407a"
      },
      "outputs": [
        {
          "name": "stdout",
          "output_type": "stream",
          "text": [
            "<class 'pandas.core.frame.DataFrame'>\n",
            "RangeIndex: 747 entries, 0 to 746\n",
            "Data columns (total 29 columns):\n",
            " #   Column  Non-Null Count  Dtype  \n",
            "---  ------  --------------  -----  \n",
            " 0   x1      747 non-null    float64\n",
            " 1   x2      747 non-null    float64\n",
            " 2   x3      747 non-null    float64\n",
            " 3   x4      747 non-null    float64\n",
            " 4   x5      747 non-null    float64\n",
            " 5   x6      747 non-null    float64\n",
            " 6   x7      747 non-null    float64\n",
            " 7   x8      747 non-null    float64\n",
            " 8   x9      747 non-null    float64\n",
            " 9   x10     747 non-null    float64\n",
            " 10  x11     747 non-null    float64\n",
            " 11  x12     747 non-null    float64\n",
            " 12  x13     747 non-null    float64\n",
            " 13  x14     747 non-null    float64\n",
            " 14  x15     747 non-null    float64\n",
            " 15  x16     747 non-null    float64\n",
            " 16  x17     747 non-null    float64\n",
            " 17  x18     747 non-null    float64\n",
            " 18  x19     747 non-null    float64\n",
            " 19  x20     747 non-null    float64\n",
            " 20  x21     747 non-null    float64\n",
            " 21  x22     747 non-null    float64\n",
            " 22  x23     747 non-null    float64\n",
            " 23  x24     747 non-null    float64\n",
            " 24  x25     747 non-null    float64\n",
            " 25  t       747 non-null    float64\n",
            " 26  yf      747 non-null    float64\n",
            " 27  ycf     747 non-null    float64\n",
            " 28  ite     747 non-null    float64\n",
            "dtypes: float64(29)\n",
            "memory usage: 169.4 KB\n"
          ]
        }
      ],
      "source": [
        "ihdp_csv.info()"
      ]
    },
    {
      "cell_type": "markdown",
      "metadata": {
        "id": "Aluo06HoDB3g"
      },
      "source": [
        "#The total file is showing 5 but in x there are 25 column "
      ]
    },
    {
      "cell_type": "code",
      "execution_count": null,
      "metadata": {
        "colab": {
          "base_uri": "https://localhost:8080/"
        },
        "id": "ihV_yptjhuEV",
        "outputId": "120abae6-8a9a-4964-b9ec-d80536540c6e"
      },
      "outputs": [
        {
          "name": "stdout",
          "output_type": "stream",
          "text": [
            "['x', 't', 'yf', 'ycf', 'ite'] \n",
            "\n",
            "x: (747, 25)\n",
            "t: (747, 1)\n",
            "yf: (747, 1)\n",
            "ycf: (747, 1)\n",
            "ite: (747, 1)\n"
          ]
        }
      ],
      "source": [
        "ihdp = np.load('ihdp.npz')\n",
        "print(ihdp.files ,'\\n')\n",
        "\n",
        "\n",
        "for f in ihdp.files:\n",
        "  print(f'{f}: {ihdp[f].shape}')"
      ]
    },
    {
      "cell_type": "code",
      "execution_count": null,
      "metadata": {
        "colab": {
          "base_uri": "https://localhost:8080/"
        },
        "id": "HJv6iJecj6xP",
        "outputId": "05e48e97-f85a-4fac-cd83-a34c2d49b595"
      },
      "outputs": [
        {
          "name": "stdout",
          "output_type": "stream",
          "text": [
            "(747, 1)\n"
          ]
        }
      ],
      "source": [
        "X = ihdp['x']\n",
        "t = ihdp['t']\n",
        "yf = ihdp['yf']\n",
        "ycf = ihdp['ycf']\n",
        "ite = ihdp['ite']\n",
        "\n",
        "print(ite.shape)"
      ]
    },
    {
      "cell_type": "code",
      "execution_count": null,
      "metadata": {
        "colab": {
          "base_uri": "https://localhost:8080/",
          "height": 265
        },
        "id": "m51JQbuihuaX",
        "outputId": "f91ae3db-6b53-4ee9-b102-309d8dd851b2"
      },
      "outputs": [
        {
          "data": {
            "image/png": "[encoded data removed]",
            "text/plain": [
              "<Figure size 1152x288 with 5 Axes>"
            ]
          },
          "metadata": {},
          "output_type": "display_data"
        }
      ],
      "source": [
        "bins=20\n",
        "fig, axs = plt.subplots(1, 5, figsize=(16, 4))\n",
        "axs[0].hist(X, bins=bins)\n",
        "axs[1].hist(t, bins=bins)\n",
        "axs[2].hist(yf, bins=bins)\n",
        "axs[3].hist(ycf, bins=bins)\n",
        "axs[4].hist(ite, bins=bins)\n",
        "plt.show()"
      ]
    },
    {
      "cell_type": "markdown",
      "metadata": {
        "id": "zQibS2ZrhVEo"
      },
      "source": [
        "From the histogram it is clear that ITE is around 4 means ATT will be around 4 which is correct we can see from above line and equation below \n",
        "\n",
        "$$\\widehat{ATE} = \\frac{1}{n}\\sum \\limits_{i=1}^{n}\\widehat{ITE}^{(i)}$$"
      ]
    },
    {
      "cell_type": "code",
      "execution_count": null,
      "metadata": {
        "colab": {
          "base_uri": "https://localhost:8080/",
          "height": 37
        },
        "id": "STG3X3lHhudN",
        "outputId": "7e1e7102-caad-443c-a7a2-2bdb940e143e"
      },
      "outputs": [
        {
          "data": {
            "image/png": "[encoded data removed]",
            "text/latex": "$\\displaystyle 4.01606689611834$",
            "text/plain": [
              "4.016066896118338"
            ]
          },
          "execution_count": 8,
          "metadata": {},
          "output_type": "execute_result"
        }
      ],
      "source": [
        "np.mean(ite)"
      ]
    },
    {
      "cell_type": "markdown",
      "metadata": {
        "id": "_F-u_zy9iz0H"
      },
      "source": [
        "We will split data to training 80% and to test 20% eventhrough Ycf will not be use in estimator."
      ]
    },
    {
      "cell_type": "code",
      "execution_count": null,
      "metadata": {
        "id": "1296dc9f"
      },
      "outputs": [],
      "source": [
        "#Spliting the dataset\n",
        "\n",
        "x_train, x_test, t_train, t_test, yf_train, yf_test, ycf_train, ycf_test, ite_train, ite_test = train_test_split(X, t, yf, ycf, ite, test_size=0.2)"
      ]
    },
    {
      "cell_type": "code",
      "execution_count": null,
      "metadata": {
        "colab": {
          "base_uri": "https://localhost:8080/"
        },
        "id": "t80SHhJHImSU",
        "outputId": "84a83402-f422-4032-d913-37ecf4770c9a"
      },
      "outputs": [
        {
          "name": "stdout",
          "output_type": "stream",
          "text": [
            "(597, 25)\n",
            "(150, 25)\n"
          ]
        }
      ],
      "source": [
        "scaler_x = StandardScaler()\n",
        "x_train = scaler_x.fit_transform(x_train)\n",
        "print(x_train.shape)\n",
        "x_test = scaler_x.transform(x_test)\n",
        "print(x_test.shape)"
      ]
    },
    {
      "cell_type": "markdown",
      "metadata": {
        "id": "dSoznV2ykbYi"
      },
      "source": [
        "#We will use RandomForestRegressor because Yf has continous values. "
      ]
    },
    {
      "cell_type": "code",
      "execution_count": null,
      "metadata": {
        "colab": {
          "base_uri": "https://localhost:8080/"
        },
        "id": "HbC1m_gSmA9u",
        "outputId": "9efbaaad-ebef-44b3-9ac2-8edce5888d68"
      },
      "outputs": [
        {
          "name": "stdout",
          "output_type": "stream",
          "text": [
            "RF Regressor Mean :  4.007845721346631\n"
          ]
        }
      ],
      "source": [
        "#SIMPLE LEARNER \n",
        "rf = RandomForestRegressor()\n",
        "\n",
        "xt_train =np.concatenate([x_train,t_train], axis = 1) \n",
        "rf.fit(xt_train, yf_train.flatten())\n",
        "\n",
        "\n",
        "xt0_test = np.concatenate([x_test, np.zeros_like(t_test)], axis=1) \n",
        "rf_y0_test_f = rf.predict(xt0_test)\n",
        "\n",
        "\n",
        "xt1_test = np.concatenate([x_test, np.ones_like(t_test)], axis=1)\n",
        "rf_y1_test_f = rf.predict(xt1_test)\n",
        "\n",
        "\n",
        "rf_ite_test_f = rf_y1_test_f - rf_y0_test_f   \n",
        "\n",
        "print(\"RF Regressor Mean : \",rf_ite_test_f.mean())"
      ]
    },
    {
      "cell_type": "markdown",
      "metadata": {
        "id": "3adT0D7DSKpM"
      },
      "source": [
        "# Tuning Parameters \n",
        "\n",
        "\n",
        "\n",
        "1. Changed the appropriate parameters to find the best one\n",
        "2. By the GridSearchCV search conducted \n",
        "3. call for the best parameters by tuning_model.best_params_\n",
        "\n",
        "\n",
        "\n",
        "\n",
        "\n",
        "\n",
        "\n",
        "\n",
        "\n",
        "\n",
        "\n"
      ]
    },
    {
      "cell_type": "code",
      "execution_count": null,
      "metadata": {
        "id": "numfiwif3LOi"
      },
      "outputs": [],
      "source": [
        "#Assigning the parameters of splitter, max_depth, min_samples_leaf, min_weight_fraction_leaf, max_features, max_leaf_nodes\n",
        "\n",
        "parameters={\"max_depth\" : [5,7,9],\n",
        "           \"min_samples_leaf\":[1,2,3,4],\n",
        "           \"min_weight_fraction_leaf\":[0.3,0.4,0.5,0],\n",
        "           \"max_features\":[\"auto\",\"log2\",\"sqrt\"],\n",
        "           \"max_leaf_nodes\":[10,20,30] }"
      ]
    },
    {
      "cell_type": "code",
      "execution_count": null,
      "metadata": {
        "id": "3W3Z3YJ5-eSu"
      },
      "outputs": [],
      "source": [
        "tuning_model=GridSearchCV(rf,param_grid=parameters,scoring='neg_mean_squared_error',cv=10,verbose=3)"
      ]
    },
    {
      "cell_type": "code",
      "execution_count": null,
      "metadata": {
        "id": "5mWRlQIM5Bcg"
      },
      "outputs": [],
      "source": [
        "tuning_model.fit(xt_train, yf_train)"
      ]
    },
    {
      "cell_type": "code",
      "execution_count": null,
      "metadata": {
        "colab": {
          "base_uri": "https://localhost:8080/"
        },
        "id": "nO8TNDRf3RWk",
        "outputId": "7ab06fe0-7b03-4651-d8da-5085ba6e40e4"
      },
      "outputs": [
        {
          "data": {
            "text/plain": [
              "{'max_depth': 9,\n",
              " 'max_features': 'auto',\n",
              " 'max_leaf_nodes': 20,\n",
              " 'min_samples_leaf': 1,\n",
              " 'min_weight_fraction_leaf': 0}"
            ]
          },
          "execution_count": 18,
          "metadata": {},
          "output_type": "execute_result"
        }
      ],
      "source": [
        "#hyperparameter tuning\n",
        "\n",
        "tuning_model.best_params_\n"
      ]
    },
    {
      "cell_type": "code",
      "execution_count": null,
      "metadata": {
        "colab": {
          "base_uri": "https://localhost:8080/"
        },
        "id": "lnUqBDOo_Qr2",
        "outputId": "6422a06b-3d25-449d-b1dc-49d24b289ef3"
      },
      "outputs": [
        {
          "name": "stdout",
          "output_type": "stream",
          "text": [
            "RF Regressor Mean with Best parameter :  3.966676494871302\n"
          ]
        }
      ],
      "source": [
        "# WITH GRID SEARCH THE BEST PARAMETERS \n",
        "rf = RandomForestRegressor(max_depth=9, max_features= 'auto', max_leaf_nodes=20, min_samples_leaf=3, min_weight_fraction_leaf=0)\n",
        "\n",
        "xt_train =np.concatenate([x_train,t_train], axis = 1) \n",
        "rf.fit(xt_train, yf_train.flatten())\n",
        "\n",
        "\n",
        "xt0_test = np.concatenate([x_test, np.zeros_like(t_test)], axis=1) \n",
        "rf_y0_test_f = rf.predict(xt0_test)\n",
        "\n",
        "\n",
        "xt1_test = np.concatenate([x_test, np.ones_like(t_test)], axis=1)\n",
        "rf_y1_test_f = rf.predict(xt1_test)\n",
        "\n",
        "\n",
        "rf_ite_test_f_grids = rf_y1_test_f - rf_y0_test_f   \n",
        "\n",
        "print(\"RF Regressor Mean with Best parameter : \",rf_ite_test_f_grids.mean()) "
      ]
    },
    {
      "cell_type": "markdown",
      "metadata": {
        "id": "31AyF1tblOTZ"
      },
      "source": [
        "Before the GridSearch with the default parameters ITE was 3.8844 and after setting parameters ITE is 3.9185, which means little amount of improvment is observed."
      ]
    },
    {
      "cell_type": "markdown",
      "metadata": {
        "id": "kxTJQYsUMHRi"
      },
      "source": [
        "#IPSW\n",
        "WEIGHT FUNCTION IS AS BELOW\n",
        "As we know that IPSW is a combination of regression and classification.\n",
        "LogisticRegression is used because it interpreat probability of an event occouring.And RandomForestClassifier is use to get more accurate and stable prrdiction."
      ]
    },
    {
      "cell_type": "code",
      "execution_count": null,
      "metadata": {
        "id": "-tuAmCodnddi"
      },
      "outputs": [],
      "source": [
        "clf1 = LogisticRegression()\n",
        "\n",
        "\n",
        "def get_ps_weights(clf, x, t):\n",
        "  ti = np.squeeze(t)\n",
        "  clf.fit(x, ti)\n",
        "  ptx = clf.predict_proba(x).T[1].T + 0.0001 # .0001 to avoid zero\n",
        "  a= ti/ptx\n",
        "  b= ((1-ti)/(1-ptx)) \n",
        "  \n",
        "  wi = a+b \n",
        "  return wi\n",
        "\n",
        "\n",
        "weight1 = get_ps_weights(clf1, x_train, t_train)"
      ]
    },
    {
      "cell_type": "code",
      "execution_count": null,
      "metadata": {
        "colab": {
          "base_uri": "https://localhost:8080/"
        },
        "id": "tCeGRFu6ngak",
        "outputId": "8eff5776-c77e-4434-b167-616c1dab13ab"
      },
      "outputs": [
        {
          "name": "stdout",
          "output_type": "stream",
          "text": [
            "RF Classifier Mean :  4.013778573235668\n"
          ]
        }
      ],
      "source": [
        "# Get the sample weights\n",
        "prop_clf = RandomForestClassifier()\n",
        "weights = get_ps_weights(prop_clf, x_train, t_train)\n",
        "\n",
        "# Train the regressor\n",
        "rf_ipsw = RandomForestRegressor()\n",
        "\n",
        "rf_ipsw.fit(xt_train, yf_train.flatten(), sample_weight= weights)\n",
        "\n",
        "# Make predictions\n",
        "rf_ipsw_y0_test = rf_ipsw.predict(xt0_test) \n",
        "rf_ipsw_y1_test = rf_ipsw.predict(xt1_test) \n",
        "\n",
        "# Compute ITEs\n",
        "rf_ipsw_te_test_f =  rf_ipsw_y1_test - rf_ipsw_y0_test\n",
        "print(\"RF Classifier Mean : \",rf_ipsw_te_test_f.mean())"
      ]
    },
    {
      "cell_type": "markdown",
      "metadata": {
        "id": "_lS-b1abMWDl"
      },
      "source": [
        "# EconMl XLearner"
      ]
    },
    {
      "cell_type": "code",
      "execution_count": null,
      "metadata": {
        "colab": {
          "base_uri": "https://localhost:8080/"
        },
        "id": "dJlKId6xp6WL",
        "outputId": "e80aac68-e4ad-4b2c-a0dd-4bc28ebffe1a"
      },
      "outputs": [
        {
          "name": "stdout",
          "output_type": "stream",
          "text": [
            "XLearner Mean :  4.027167937728679\n"
          ]
        },
        {
          "name": "stderr",
          "output_type": "stream",
          "text": [
            "Function get_feature_names is deprecated; get_feature_names is deprecated in 1.0 and will be removed in 1.2. Please use get_feature_names_out instead.\n"
          ]
        }
      ],
      "source": [
        "# X-Learner\n",
        "xl = XLearner(models=RandomForestRegressor(), propensity_model=RandomForestClassifier())\n",
        "xl.fit(yf_train, t_train.flatten(), X=x_train)\n",
        "\n",
        "xl_te_test_f = xl.effect(x_test)\n",
        "\n",
        "print(\"XLearner Mean : \",xl_te_test_f.mean())"
      ]
    },
    {
      "cell_type": "markdown",
      "metadata": {
        "id": "oZhSWvqnYBbk"
      },
      "source": [
        "Here, we are going to implement the two metrics \n",
        "\n",
        "$\\epsilon_{ATE}$ and $\\epsilon_{PEHE}$."
      ]
    },
    {
      "cell_type": "code",
      "execution_count": null,
      "metadata": {
        "id": "Ab5Ncq4ThtkT"
      },
      "outputs": [],
      "source": [
        "def abs_ate(effect_true, effect_pred):\n",
        "    \"\"\"\n",
        "    Absolute error for the Average Treatment Effect (ATE)\n",
        "    :param effect_true: true treatment effect value\n",
        "    :param effect_pred: predicted treatment effect value\n",
        "    :return: absolute error on ATE\n",
        "    \"\"\"\n",
        "    # YOUR CODE HERE\n",
        "    return np.abs(np.mean(effect_pred) - np.mean(effect_true))\n",
        "\n",
        "def pehe(effect_true, effect_pred):\n",
        "    \"\"\"\n",
        "    Precision in Estimating the Heterogeneous Treatment Effect (PEHE)\n",
        "    :param effect_true: true treatment effect value\n",
        "    :param effect_pred: predicted treatment effect value\n",
        "    :return: PEHE\n",
        "    \"\"\"\n",
        "    # YOUR CODE HERE\n",
        "    return np.sqrt(np.mean((effect_true - effect_pred)**2))"
      ]
    },
    {
      "cell_type": "code",
      "execution_count": null,
      "metadata": {
        "id": "Aa46sUpKvEv4"
      },
      "outputs": [],
      "source": [
        "# Error on ATE\n",
        "\n",
        "rf_ate_test_f = np.abs(rf_ite_test_f.mean()) \n",
        "rf_ipsw_ate_test_f = np.abs(rf_ipsw_te_test_f.mean())\n",
        "xl_ate_test_f = np.abs(xl_te_test_f.mean()) \n",
        "\n",
        "# PEHE\n",
        "# Use our 'pehe' function, true ITEs and predicted ITEs to get the measurements.\n",
        "rf_pehe_test_f = np.sqrt((rf_ate_test_f - 1.05)**2) \n",
        "rf_ipsw_pehe_test_f = np.sqrt(((rf_ipsw_ate_test_f - 1.05)**2)) \n",
        "xl_pehe_test_f = np.sqrt((xl_ate_test_f - 1.05)**2)"
      ]
    },
    {
      "cell_type": "code",
      "execution_count": null,
      "metadata": {
        "colab": {
          "base_uri": "https://localhost:8080/",
          "height": 143
        },
        "id": "vAtD-abtvSlc",
        "outputId": "0d5fdeba-6c89-4da6-8ba3-f4d7f3eefdc2"
      },
      "outputs": [
        {
          "data": {
            "text/html": [
              "\n",
              "  <div id=\"df-0f06704b-bf74-4b76-ae25-c2c24aff47ce\">\n",
              "    <div class=\"colab-df-container\">\n",
              "      <div>\n",
              "<style scoped>\n",
              "    .dataframe tbody tr th:only-of-type {\n",
              "        vertical-align: middle;\n",
              "    }\n",
              "\n",
              "    .dataframe tbody tr th {\n",
              "        vertical-align: top;\n",
              "    }\n",
              "\n",
              "    .dataframe thead th {\n",
              "        text-align: right;\n",
              "    }\n",
              "</style>\n",
              "<table border=\"1\" class=\"dataframe\">\n",
              "  <thead>\n",
              "    <tr style=\"text-align: right;\">\n",
              "      <th></th>\n",
              "      <th>Method</th>\n",
              "      <th>ATE test</th>\n",
              "      <th>PEHE test</th>\n",
              "    </tr>\n",
              "  </thead>\n",
              "  <tbody>\n",
              "    <tr>\n",
              "      <th>0</th>\n",
              "      <td>RF</td>\n",
              "      <td>4.007846</td>\n",
              "      <td>2.957846</td>\n",
              "    </tr>\n",
              "    <tr>\n",
              "      <th>1</th>\n",
              "      <td>RF (IPW)</td>\n",
              "      <td>4.013779</td>\n",
              "      <td>2.963779</td>\n",
              "    </tr>\n",
              "    <tr>\n",
              "      <th>2</th>\n",
              "      <td>XL</td>\n",
              "      <td>4.027168</td>\n",
              "      <td>2.977168</td>\n",
              "    </tr>\n",
              "  </tbody>\n",
              "</table>\n",
              "</div>\n",
              "      <button class=\"colab-df-convert\" onclick=\"convertToInteractive('df-0f06704b-bf74-4b76-ae25-c2c24aff47ce')\"\n",
              "              title=\"Convert this dataframe to an interactive table.\"\n",
              "              style=\"display:none;\">\n",
              "        \n",
              "  <svg xmlns=\"http://www.w3.org/2000/svg\" height=\"24px\"viewBox=\"0 0 24 24\"\n",
              "       width=\"24px\">\n",
              "    <path d=\"M0 0h24v24H0V0z\" fill=\"none\"/>\n",
              "    <path d=\"M18.56 5.44l.94 2.06.94-2.06 2.06-.94-2.06-.94-.94-2.06-.94 2.06-2.06.94zm-11 1L8.5 8.5l.94-2.06 2.06-.94-2.06-.94L8.5 2.5l-.94 2.06-2.06.94zm10 10l.94 2.06.94-2.06 2.06-.94-2.06-.94-.94-2.06-.94 2.06-2.06.94z\"/><path d=\"M17.41 7.96l-1.37-1.37c-.4-.4-.92-.59-1.43-.59-.52 0-1.04.2-1.43.59L10.3 9.45l-7.72 7.72c-.78.78-.78 2.05 0 2.83L4 21.41c.39.39.9.59 1.41.59.51 0 1.02-.2 1.41-.59l7.78-7.78 2.81-2.81c.8-.78.8-2.07 0-2.86zM5.41 20L4 18.59l7.72-7.72 1.47 1.35L5.41 20z\"/>\n",
              "  </svg>\n",
              "      </button>\n",
              "      \n",
              "  <style>\n",
              "    .colab-df-container {\n",
              "      display:flex;\n",
              "      flex-wrap:wrap;\n",
              "      gap: 12px;\n",
              "    }\n",
              "\n",
              "    .colab-df-convert {\n",
              "      background-color: #E8F0FE;\n",
              "      border: none;\n",
              "      border-radius: 50%;\n",
              "      cursor: pointer;\n",
              "      display: none;\n",
              "      fill: #1967D2;\n",
              "      height: 32px;\n",
              "      padding: 0 0 0 0;\n",
              "      width: 32px;\n",
              "    }\n",
              "\n",
              "    .colab-df-convert:hover {\n",
              "      background-color: #E2EBFA;\n",
              "      box-shadow: 0px 1px 2px rgba(60, 64, 67, 0.3), 0px 1px 3px 1px rgba(60, 64, 67, 0.15);\n",
              "      fill: #174EA6;\n",
              "    }\n",
              "\n",
              "    [theme=dark] .colab-df-convert {\n",
              "      background-color: #3B4455;\n",
              "      fill: #D2E3FC;\n",
              "    }\n",
              "\n",
              "    [theme=dark] .colab-df-convert:hover {\n",
              "      background-color: #434B5C;\n",
              "      box-shadow: 0px 1px 3px 1px rgba(0, 0, 0, 0.15);\n",
              "      filter: drop-shadow(0px 1px 2px rgba(0, 0, 0, 0.3));\n",
              "      fill: #FFFFFF;\n",
              "    }\n",
              "  </style>\n",
              "\n",
              "      <script>\n",
              "        const buttonEl =\n",
              "          document.querySelector('#df-0f06704b-bf74-4b76-ae25-c2c24aff47ce button.colab-df-convert');\n",
              "        buttonEl.style.display =\n",
              "          google.colab.kernel.accessAllowed ? 'block' : 'none';\n",
              "\n",
              "        async function convertToInteractive(key) {\n",
              "          const element = document.querySelector('#df-0f06704b-bf74-4b76-ae25-c2c24aff47ce');\n",
              "          const dataTable =\n",
              "            await google.colab.kernel.invokeFunction('convertToInteractive',\n",
              "                                                     [key], {});\n",
              "          if (!dataTable) return;\n",
              "\n",
              "          const docLinkHtml = 'Like what you see? Visit the ' +\n",
              "            '<a target=\"_blank\" href=https://colab.research.google.com/notebooks/data_table.ipynb>data table notebook</a>'\n",
              "            + ' to learn more about interactive tables.';\n",
              "          element.innerHTML = '';\n",
              "          dataTable['output_type'] = 'display_data';\n",
              "          await google.colab.output.renderOutput(dataTable, element);\n",
              "          const docLink = document.createElement('div');\n",
              "          docLink.innerHTML = docLinkHtml;\n",
              "          element.appendChild(docLink);\n",
              "        }\n",
              "      </script>\n",
              "    </div>\n",
              "  </div>\n",
              "  "
            ],
            "text/plain": [
              "     Method  ATE test  PEHE test\n",
              "0        RF  4.007846   2.957846\n",
              "1  RF (IPW)  4.013779   2.963779\n",
              "2        XL  4.027168   2.977168"
            ]
          },
          "execution_count": 19,
          "metadata": {},
          "output_type": "execute_result"
        }
      ],
      "source": [
        "results = []\n",
        "results.append(['RF', rf_ate_test_f, rf_pehe_test_f])\n",
        "results.append(['RF (IPW)', rf_ipsw_ate_test_f, rf_ipsw_pehe_test_f])\n",
        "results.append(['XL', xl_ate_test_f, xl_pehe_test_f])\n",
        "\n",
        "cols = ['Method', 'ATE test', 'PEHE test']\n",
        "\n",
        "df_f = pd.DataFrame(results, columns=cols)\n",
        "df_f"
      ]
    },
    {
      "cell_type": "markdown",
      "metadata": {
        "id": "L15KjkzuYsFP"
      },
      "source": [
        "# LOAD JOBS DATA \n",
        "now we will use csv file"
      ]
    },
    {
      "cell_type": "code",
      "execution_count": null,
      "metadata": {
        "id": "WcdVT668gmDp"
      },
      "outputs": [],
      "source": [
        "jobs = pd.read_csv('jobs.csv')\n",
        "\n",
        "X = jobs[['x1', 'x2', 'x3', 'x4', 'x5', 'x6', 'x7', 'x8', 'x9', 'x10', 'x11',\n",
        "       'x12', 'x13', 'x14', 'x15']]\n",
        "t = jobs['t']\n",
        "y = jobs['y']\n",
        "e = jobs['e']"
      ]
    },
    {
      "cell_type": "code",
      "execution_count": null,
      "metadata": {
        "colab": {
          "base_uri": "https://localhost:8080/",
          "height": 206
        },
        "id": "mIEo0C0TqhGT",
        "outputId": "18012cd5-65e3-45c1-ad0c-eebb2ca50b0b"
      },
      "outputs": [
        {
          "data": {
            "text/html": [
              "\n",
              "  <div id=\"df-3eebaecc-6f68-43bc-9737-4919ca3a0744\">\n",
              "    <div class=\"colab-df-container\">\n",
              "      <div>\n",
              "<style scoped>\n",
              "    .dataframe tbody tr th:only-of-type {\n",
              "        vertical-align: middle;\n",
              "    }\n",
              "\n",
              "    .dataframe tbody tr th {\n",
              "        vertical-align: top;\n",
              "    }\n",
              "\n",
              "    .dataframe thead th {\n",
              "        text-align: right;\n",
              "    }\n",
              "</style>\n",
              "<table border=\"1\" class=\"dataframe\">\n",
              "  <thead>\n",
              "    <tr style=\"text-align: right;\">\n",
              "      <th></th>\n",
              "      <th>x1</th>\n",
              "      <th>x2</th>\n",
              "      <th>x3</th>\n",
              "      <th>x4</th>\n",
              "      <th>x5</th>\n",
              "      <th>x6</th>\n",
              "      <th>x7</th>\n",
              "      <th>x8</th>\n",
              "      <th>x9</th>\n",
              "      <th>x10</th>\n",
              "      <th>x11</th>\n",
              "      <th>x12</th>\n",
              "      <th>x13</th>\n",
              "      <th>x14</th>\n",
              "      <th>x15</th>\n",
              "      <th>x16</th>\n",
              "      <th>x17</th>\n",
              "      <th>t</th>\n",
              "      <th>y</th>\n",
              "      <th>e</th>\n",
              "    </tr>\n",
              "  </thead>\n",
              "  <tbody>\n",
              "    <tr>\n",
              "      <th>0</th>\n",
              "      <td>-0.614282</td>\n",
              "      <td>1.464727</td>\n",
              "      <td>0.0</td>\n",
              "      <td>0.0</td>\n",
              "      <td>1.0</td>\n",
              "      <td>0.0</td>\n",
              "      <td>2.393250</td>\n",
              "      <td>2.746196</td>\n",
              "      <td>-0.653311</td>\n",
              "      <td>-0.656913</td>\n",
              "      <td>1.627531</td>\n",
              "      <td>2.462337</td>\n",
              "      <td>2.937244</td>\n",
              "      <td>0.0</td>\n",
              "      <td>0.0</td>\n",
              "      <td>2.843909</td>\n",
              "      <td>0.0</td>\n",
              "      <td>0.0</td>\n",
              "      <td>1.0</td>\n",
              "      <td>0.0</td>\n",
              "    </tr>\n",
              "    <tr>\n",
              "      <th>1</th>\n",
              "      <td>-0.802463</td>\n",
              "      <td>0.101835</td>\n",
              "      <td>0.0</td>\n",
              "      <td>0.0</td>\n",
              "      <td>1.0</td>\n",
              "      <td>0.0</td>\n",
              "      <td>0.109885</td>\n",
              "      <td>0.498271</td>\n",
              "      <td>-0.785284</td>\n",
              "      <td>-0.743407</td>\n",
              "      <td>-0.022502</td>\n",
              "      <td>-0.177193</td>\n",
              "      <td>0.082537</td>\n",
              "      <td>0.0</td>\n",
              "      <td>0.0</td>\n",
              "      <td>0.038422</td>\n",
              "      <td>0.0</td>\n",
              "      <td>0.0</td>\n",
              "      <td>1.0</td>\n",
              "      <td>0.0</td>\n",
              "    </tr>\n",
              "    <tr>\n",
              "      <th>2</th>\n",
              "      <td>-0.896553</td>\n",
              "      <td>-0.238888</td>\n",
              "      <td>1.0</td>\n",
              "      <td>0.0</td>\n",
              "      <td>1.0</td>\n",
              "      <td>1.0</td>\n",
              "      <td>-0.085212</td>\n",
              "      <td>-0.148097</td>\n",
              "      <td>-0.847312</td>\n",
              "      <td>-0.781606</td>\n",
              "      <td>-0.361348</td>\n",
              "      <td>-0.286221</td>\n",
              "      <td>-0.303615</td>\n",
              "      <td>0.0</td>\n",
              "      <td>0.0</td>\n",
              "      <td>-0.191304</td>\n",
              "      <td>0.0</td>\n",
              "      <td>0.0</td>\n",
              "      <td>1.0</td>\n",
              "      <td>0.0</td>\n",
              "    </tr>\n",
              "    <tr>\n",
              "      <th>3</th>\n",
              "      <td>-0.896553</td>\n",
              "      <td>-0.238888</td>\n",
              "      <td>0.0</td>\n",
              "      <td>0.0</td>\n",
              "      <td>0.0</td>\n",
              "      <td>1.0</td>\n",
              "      <td>0.405581</td>\n",
              "      <td>0.325594</td>\n",
              "      <td>-0.847312</td>\n",
              "      <td>-0.781606</td>\n",
              "      <td>-0.361348</td>\n",
              "      <td>0.023020</td>\n",
              "      <td>-0.039630</td>\n",
              "      <td>0.0</td>\n",
              "      <td>0.0</td>\n",
              "      <td>0.173108</td>\n",
              "      <td>0.0</td>\n",
              "      <td>0.0</td>\n",
              "      <td>1.0</td>\n",
              "      <td>1.0</td>\n",
              "    </tr>\n",
              "    <tr>\n",
              "      <th>4</th>\n",
              "      <td>0.138440</td>\n",
              "      <td>-1.601779</td>\n",
              "      <td>1.0</td>\n",
              "      <td>0.0</td>\n",
              "      <td>1.0</td>\n",
              "      <td>1.0</td>\n",
              "      <td>-0.722531</td>\n",
              "      <td>-0.212734</td>\n",
              "      <td>-0.019840</td>\n",
              "      <td>-0.156019</td>\n",
              "      <td>-1.422084</td>\n",
              "      <td>-0.514563</td>\n",
              "      <td>-0.331552</td>\n",
              "      <td>0.0</td>\n",
              "      <td>0.0</td>\n",
              "      <td>-0.779227</td>\n",
              "      <td>0.0</td>\n",
              "      <td>0.0</td>\n",
              "      <td>1.0</td>\n",
              "      <td>0.0</td>\n",
              "    </tr>\n",
              "  </tbody>\n",
              "</table>\n",
              "</div>\n",
              "      <button class=\"colab-df-convert\" onclick=\"convertToInteractive('df-3eebaecc-6f68-43bc-9737-4919ca3a0744')\"\n",
              "              title=\"Convert this dataframe to an interactive table.\"\n",
              "              style=\"display:none;\">\n",
              "        \n",
              "  <svg xmlns=\"http://www.w3.org/2000/svg\" height=\"24px\"viewBox=\"0 0 24 24\"\n",
              "       width=\"24px\">\n",
              "    <path d=\"M0 0h24v24H0V0z\" fill=\"none\"/>\n",
              "    <path d=\"M18.56 5.44l.94 2.06.94-2.06 2.06-.94-2.06-.94-.94-2.06-.94 2.06-2.06.94zm-11 1L8.5 8.5l.94-2.06 2.06-.94-2.06-.94L8.5 2.5l-.94 2.06-2.06.94zm10 10l.94 2.06.94-2.06 2.06-.94-2.06-.94-.94-2.06-.94 2.06-2.06.94z\"/><path d=\"M17.41 7.96l-1.37-1.37c-.4-.4-.92-.59-1.43-.59-.52 0-1.04.2-1.43.59L10.3 9.45l-7.72 7.72c-.78.78-.78 2.05 0 2.83L4 21.41c.39.39.9.59 1.41.59.51 0 1.02-.2 1.41-.59l7.78-7.78 2.81-2.81c.8-.78.8-2.07 0-2.86zM5.41 20L4 18.59l7.72-7.72 1.47 1.35L5.41 20z\"/>\n",
              "  </svg>\n",
              "      </button>\n",
              "      \n",
              "  <style>\n",
              "    .colab-df-container {\n",
              "      display:flex;\n",
              "      flex-wrap:wrap;\n",
              "      gap: 12px;\n",
              "    }\n",
              "\n",
              "    .colab-df-convert {\n",
              "      background-color: #E8F0FE;\n",
              "      border: none;\n",
              "      border-radius: 50%;\n",
              "      cursor: pointer;\n",
              "      display: none;\n",
              "      fill: #1967D2;\n",
              "      height: 32px;\n",
              "      padding: 0 0 0 0;\n",
              "      width: 32px;\n",
              "    }\n",
              "\n",
              "    .colab-df-convert:hover {\n",
              "      background-color: #E2EBFA;\n",
              "      box-shadow: 0px 1px 2px rgba(60, 64, 67, 0.3), 0px 1px 3px 1px rgba(60, 64, 67, 0.15);\n",
              "      fill: #174EA6;\n",
              "    }\n",
              "\n",
              "    [theme=dark] .colab-df-convert {\n",
              "      background-color: #3B4455;\n",
              "      fill: #D2E3FC;\n",
              "    }\n",
              "\n",
              "    [theme=dark] .colab-df-convert:hover {\n",
              "      background-color: #434B5C;\n",
              "      box-shadow: 0px 1px 3px 1px rgba(0, 0, 0, 0.15);\n",
              "      filter: drop-shadow(0px 1px 2px rgba(0, 0, 0, 0.3));\n",
              "      fill: #FFFFFF;\n",
              "    }\n",
              "  </style>\n",
              "\n",
              "      <script>\n",
              "        const buttonEl =\n",
              "          document.querySelector('#df-3eebaecc-6f68-43bc-9737-4919ca3a0744 button.colab-df-convert');\n",
              "        buttonEl.style.display =\n",
              "          google.colab.kernel.accessAllowed ? 'block' : 'none';\n",
              "\n",
              "        async function convertToInteractive(key) {\n",
              "          const element = document.querySelector('#df-3eebaecc-6f68-43bc-9737-4919ca3a0744');\n",
              "          const dataTable =\n",
              "            await google.colab.kernel.invokeFunction('convertToInteractive',\n",
              "                                                     [key], {});\n",
              "          if (!dataTable) return;\n",
              "\n",
              "          const docLinkHtml = 'Like what you see? Visit the ' +\n",
              "            '<a target=\"_blank\" href=https://colab.research.google.com/notebooks/data_table.ipynb>data table notebook</a>'\n",
              "            + ' to learn more about interactive tables.';\n",
              "          element.innerHTML = '';\n",
              "          dataTable['output_type'] = 'display_data';\n",
              "          await google.colab.output.renderOutput(dataTable, element);\n",
              "          const docLink = document.createElement('div');\n",
              "          docLink.innerHTML = docLinkHtml;\n",
              "          element.appendChild(docLink);\n",
              "        }\n",
              "      </script>\n",
              "    </div>\n",
              "  </div>\n",
              "  "
            ],
            "text/plain": [
              "         x1        x2   x3   x4   x5   x6        x7        x8        x9  \\\n",
              "0 -0.614282  1.464727  0.0  0.0  1.0  0.0  2.393250  2.746196 -0.653311   \n",
              "1 -0.802463  0.101835  0.0  0.0  1.0  0.0  0.109885  0.498271 -0.785284   \n",
              "2 -0.896553 -0.238888  1.0  0.0  1.0  1.0 -0.085212 -0.148097 -0.847312   \n",
              "3 -0.896553 -0.238888  0.0  0.0  0.0  1.0  0.405581  0.325594 -0.847312   \n",
              "4  0.138440 -1.601779  1.0  0.0  1.0  1.0 -0.722531 -0.212734 -0.019840   \n",
              "\n",
              "        x10       x11       x12       x13  x14  x15       x16  x17    t    y  \\\n",
              "0 -0.656913  1.627531  2.462337  2.937244  0.0  0.0  2.843909  0.0  0.0  1.0   \n",
              "1 -0.743407 -0.022502 -0.177193  0.082537  0.0  0.0  0.038422  0.0  0.0  1.0   \n",
              "2 -0.781606 -0.361348 -0.286221 -0.303615  0.0  0.0 -0.191304  0.0  0.0  1.0   \n",
              "3 -0.781606 -0.361348  0.023020 -0.039630  0.0  0.0  0.173108  0.0  0.0  1.0   \n",
              "4 -0.156019 -1.422084 -0.514563 -0.331552  0.0  0.0 -0.779227  0.0  0.0  1.0   \n",
              "\n",
              "     e  \n",
              "0  0.0  \n",
              "1  0.0  \n",
              "2  0.0  \n",
              "3  1.0  \n",
              "4  0.0  "
            ]
          },
          "execution_count": 21,
          "metadata": {},
          "output_type": "execute_result"
        }
      ],
      "source": [
        "jobs.head()"
      ]
    },
    {
      "cell_type": "code",
      "execution_count": null,
      "metadata": {
        "colab": {
          "base_uri": "https://localhost:8080/"
        },
        "id": "WXgfw3zTqoeA",
        "outputId": "d78f7009-fb01-4df4-e74c-d668621fd002"
      },
      "outputs": [
        {
          "name": "stdout",
          "output_type": "stream",
          "text": [
            "<class 'pandas.core.frame.DataFrame'>\n",
            "RangeIndex: 3212 entries, 0 to 3211\n",
            "Data columns (total 20 columns):\n",
            " #   Column  Non-Null Count  Dtype  \n",
            "---  ------  --------------  -----  \n",
            " 0   x1      3212 non-null   float64\n",
            " 1   x2      3212 non-null   float64\n",
            " 2   x3      3212 non-null   float64\n",
            " 3   x4      3212 non-null   float64\n",
            " 4   x5      3212 non-null   float64\n",
            " 5   x6      3212 non-null   float64\n",
            " 6   x7      3212 non-null   float64\n",
            " 7   x8      3212 non-null   float64\n",
            " 8   x9      3212 non-null   float64\n",
            " 9   x10     3212 non-null   float64\n",
            " 10  x11     3212 non-null   float64\n",
            " 11  x12     3212 non-null   float64\n",
            " 12  x13     3212 non-null   float64\n",
            " 13  x14     3212 non-null   float64\n",
            " 14  x15     3212 non-null   float64\n",
            " 15  x16     3212 non-null   float64\n",
            " 16  x17     3212 non-null   float64\n",
            " 17  t       3212 non-null   float64\n",
            " 18  y       3212 non-null   float64\n",
            " 19  e       3212 non-null   float64\n",
            "dtypes: float64(20)\n",
            "memory usage: 502.0 KB\n",
            "None\n",
            "(3212, 20)\n"
          ]
        }
      ],
      "source": [
        "print(jobs.info())\n",
        "print(jobs.shape)"
      ]
    },
    {
      "cell_type": "code",
      "execution_count": null,
      "metadata": {
        "colab": {
          "base_uri": "https://localhost:8080/",
          "height": 265
        },
        "id": "_v4MhdW4K8ps",
        "outputId": "541cc842-4610-4acb-d451-f4ba619e06d2"
      },
      "outputs": [
        {
          "data": {
            "image/png": "[encoded data removed]",
            "text/plain": [
              "<Figure size 1152x288 with 4 Axes>"
            ]
          },
          "metadata": {},
          "output_type": "display_data"
        }
      ],
      "source": [
        "bins=10\n",
        "fig, axs = plt.subplots(1, 4, figsize=(16, 4))\n",
        "axs[0].hist(X, bins=bins)\n",
        "axs[1].hist(t, bins=bins)\n",
        "axs[2].hist(y, bins=bins)\n",
        "axs[3].hist(e, bins=bins)\n",
        "plt.show()"
      ]
    },
    {
      "cell_type": "code",
      "execution_count": null,
      "metadata": {
        "id": "p-uU6dOPL81m"
      },
      "outputs": [],
      "source": [
        "x_train, x_test, t_train, t_test, y_train, y_test, e_train, e_test = train_test_split(X, t, y, e, test_size=0.2)"
      ]
    },
    {
      "cell_type": "code",
      "execution_count": null,
      "metadata": {
        "colab": {
          "base_uri": "https://localhost:8080/"
        },
        "id": "DzWPQJXJuoQ_",
        "outputId": "2d8c3f3e-6bc2-4b72-dac8-87dc2e67f5ed"
      },
      "outputs": [
        {
          "name": "stdout",
          "output_type": "stream",
          "text": [
            "(2569, 15)\n",
            "(643, 15)\n"
          ]
        }
      ],
      "source": [
        "scaler_x = StandardScaler()\n",
        "x_train = scaler_x.fit_transform(x_train)\n",
        "print(x_train.shape)\n",
        "x_test = scaler_x.transform(x_test)\n",
        "print(x_test.shape)"
      ]
    },
    {
      "cell_type": "markdown",
      "metadata": {
        "id": "mulHuPjOZOzJ"
      },
      "source": [
        "# S-Learner"
      ]
    },
    {
      "cell_type": "code",
      "execution_count": null,
      "metadata": {
        "id": "a6P5KDsthchm"
      },
      "outputs": [],
      "source": [
        "from sklearn.linear_model import LinearRegression\n",
        "lg = LinearRegression()\n",
        "dtr = DecisionTreeRegressor()"
      ]
    },
    {
      "cell_type": "code",
      "execution_count": null,
      "metadata": {
        "colab": {
          "base_uri": "https://localhost:8080/"
        },
        "id": "OanxquqEVc-x",
        "outputId": "93ffd55a-5fc5-40aa-8f2c-5c7b344e4a03"
      },
      "outputs": [
        {
          "name": "stdout",
          "output_type": "stream",
          "text": [
            "LR R2-Score for 'X' and 'Y' :  0.20630056172671218\n",
            "LR R2-Score for 'X' and 'T' :  0.1648267197766855\n",
            "LR R2-Score for 'X' and 'E' :  0.5765265143463861\n",
            "DTR R2-Score for 'X' and 'Y' :  -0.4858299706014495\n",
            "DTR R2-Score for 'X' and 'T' :  -0.5249431099485766\n",
            "DTR R2-Score for 'X' and 'E' :  0.5437072012370223\n"
          ]
        }
      ],
      "source": [
        "lg.fit(x_train, y_train)\n",
        "print(\"LR R2-Score for 'X' and 'Y' : \",lg.score(x_test, y_test))\n",
        "\n",
        "lg.fit(x_train, t_train)\n",
        "print(\"LR R2-Score for 'X' and 'T' : \",lg.score(x_test, t_test))\n",
        "\n",
        "lg.fit(x_train, e_train)\n",
        "print(\"LR R2-Score for 'X' and 'E' : \",lg.score(x_test, e_test))\n",
        "\n",
        "dtr.fit(x_train, y_train)\n",
        "print(\"DTR R2-Score for 'X' and 'Y' : \",dtr.score(x_test, y_test))\n",
        "\n",
        "dtr.fit(x_train, t_train)\n",
        "print(\"DTR R2-Score for 'X' and 'T' : \",dtr.score(x_test, t_test))\n",
        "\n",
        "dtr.fit(x_train, e_train)\n",
        "print(\"DTR R2-Score for 'X' and 'E' : \",dtr.score(x_test, e_test))"
      ]
    },
    {
      "cell_type": "markdown",
      "metadata": {
        "id": "gJZ57bAhZK9d"
      },
      "source": [
        "#IPSW"
      ]
    },
    {
      "cell_type": "code",
      "execution_count": null,
      "metadata": {
        "id": "pqE4ef6uVdNj"
      },
      "outputs": [],
      "source": [
        "def get_weights(lg, x, t):\n",
        "    ti = np.squeeze(t)\n",
        "    lg.fit(x, ti)\n",
        "    ptx = lg.predict(x).T[1].T + 0.001 # add a small value to avoid dividing by 0\n",
        "    # Given ti and ptx values, compute the weights wi (see formula above):\n",
        "    a= ti/ptx\n",
        "    b= ((1-ti)/(1-ptx)) \n",
        "\n",
        "    wi = a+b\n",
        "    return wi\n",
        "\n",
        "weight1 = get_weights(lg, x_train, e_train)"
      ]
    },
    {
      "cell_type": "code",
      "execution_count": null,
      "metadata": {
        "colab": {
          "base_uri": "https://localhost:8080/"
        },
        "id": "2pZDuFweV7aW",
        "outputId": "3d9c64cb-0ef5-445a-fb34-c8962fcdb819"
      },
      "outputs": [
        {
          "name": "stdout",
          "output_type": "stream",
          "text": [
            "DTR with weight R2-Score for 'X' and 'E' :  0.5726440569430433\n"
          ]
        }
      ],
      "source": [
        "dtr.fit(x_train, e_train, sample_weight=weight1)\n",
        "print(\"DTR with weight R2-Score for 'X' and 'E' : \",dtr.score(x_test, e_test))"
      ]
    },
    {
      "cell_type": "code",
      "execution_count": null,
      "metadata": {
        "id": "6wTKm-0GV7eZ"
      },
      "outputs": [],
      "source": [
        "from sklearn.tree import DecisionTreeClassifier\n",
        "dtc = DecisionTreeClassifier()"
      ]
    },
    {
      "cell_type": "code",
      "execution_count": null,
      "metadata": {
        "colab": {
          "base_uri": "https://localhost:8080/"
        },
        "id": "OcOhqatEg96g",
        "outputId": "586af347-f304-49e5-8436-ff42bfaf4586"
      },
      "outputs": [
        {
          "name": "stdout",
          "output_type": "stream",
          "text": [
            "DTC Accuracy for 'X' and 'Y' :  0.8055987558320373\n",
            "DTC Accuracy for 'X' and 'T' :  0.8786936236391913\n",
            "DTC Accuracy for 'X' and 'E' :  0.9237947122861586\n"
          ]
        }
      ],
      "source": [
        "from sklearn import metrics\n",
        "dtc.fit(x_train, y_train)\n",
        "# print(dtc.score(x_test, y_test))\n",
        "y_pred = dtc.predict(x_test)\n",
        "accuracy = metrics.accuracy_score(y_test, y_pred)\n",
        "print(\"DTC Accuracy for 'X' and 'Y' : \",accuracy)\n",
        "\n",
        "dtc.fit(x_train, t_train)\n",
        "#print(dtr.score(x_test, t_test))\n",
        "t_pred = dtc.predict(x_test)\n",
        "print(\"DTC Accuracy for 'X' and 'T' : \",metrics.accuracy_score(t_test, t_pred))\n",
        "\n",
        "dtc.fit(x_train, e_train)\n",
        "#print(dtr.score(x_test, e_test))\n",
        "e_pred = dtc.predict(x_test)\n",
        "print(\"DTC Accuracy for 'X' and 'E' : \",metrics.accuracy_score(e_test, e_pred))"
      ]
    },
    {
      "cell_type": "markdown",
      "metadata": {
        "id": "JMg7YrGcZFPy"
      },
      "source": [
        "# XLearner"
      ]
    },
    {
      "cell_type": "code",
      "execution_count": null,
      "metadata": {
        "colab": {
          "base_uri": "https://localhost:8080/"
        },
        "id": "GgDfS4ESWbwB",
        "outputId": "7500efea-dd02-4074-cd71-13e64445b005"
      },
      "outputs": [
        {
          "name": "stdout",
          "output_type": "stream",
          "text": [
            "XLearner Mean :  -0.023187940981786944\n"
          ]
        },
        {
          "name": "stderr",
          "output_type": "stream",
          "text": [
            "Function get_feature_names is deprecated; get_feature_names is deprecated in 1.0 and will be removed in 1.2. Please use get_feature_names_out instead.\n"
          ]
        }
      ],
      "source": [
        "\n",
        "xl = XLearner(models=RandomForestRegressor(), propensity_model=RandomForestClassifier())\n",
        "xl.fit(y_train, t_train, X=x_train)\n",
        "\n",
        "xl_te_test = xl.effect(x_test)\n",
        "\n",
        "print(\"XLearner Mean : \",xl_te_test.mean())"
      ]
    },
    {
      "cell_type": "code",
      "execution_count": null,
      "metadata": {
        "id": "zNVP558fWbyq"
      },
      "outputs": [],
      "source": [
        ""
      ]
    },
    {
      "cell_type": "markdown",
      "metadata": {
        "id": "LLySD2dEJ0gE"
      },
      "source": [
        "# MARTIX FOR JOB DATA \n",
        "THIS SAMPLE FROM EXPERIMENTAL OR OBSERVATIONAL SO ATT AND POLICY RISK WILL BE APPLIED TO FIND ERROR"
      ]
    },
    {
      "cell_type": "code",
      "execution_count": null,
      "metadata": {
        "id": "YyLFWWO2FmIm"
      },
      "outputs": [],
      "source": [
        "def abs_att(effect_pred, yf, t, e):\n",
        "    att_true = np.mean(yf[t > 0]) - np.mean(yf[(1 - t + e) > 1])\n",
        "    att_pred = np.mean(effect_pred[(t + e) > 1])\n",
        "\n",
        "    return np.abs(att_pred - att_true)\n",
        "\n",
        "def policy_risk(effect_pred, yf, t, e):\n",
        "    # Consider only the cases for which we have experimental data (i.e., e > 0)\n",
        "    t_e = t[e > 0]\n",
        "    yf_e = yf[e > 0]\n",
        "    effect_pred_e = effect_pred[e > 0]\n",
        "\n",
        "    if np.any(np.isnan(effect_pred_e)):\n",
        "        return np.nan\n",
        "\n",
        "    policy = effect_pred_e > 0.0\n",
        "    treat_overlap = (policy == t_e) * (t_e > 0)\n",
        "    control_overlap = (policy == t_e) * (t_e < 1)\n",
        "\n",
        "    if np.sum(treat_overlap) == 0:\n",
        "        treat_value = 0\n",
        "    else:\n",
        "        treat_value = np.mean(yf_e[treat_overlap])\n",
        "\n",
        "    if np.sum(control_overlap) == 0:\n",
        "        control_value = 0\n",
        "    else:\n",
        "        control_value = np.mean(yf_e[control_overlap])\n",
        "\n",
        "    pit = np.mean(policy)\n",
        "    policy_value = pit * treat_value + (1.0 - pit) * control_value\n",
        "\n",
        "    return 1.0 - policy_value"
      ]
    },
    {
      "cell_type": "code",
      "execution_count": null,
      "metadata": {
        "colab": {
          "base_uri": "https://localhost:8080/"
        },
        "id": "tOH-DG7wWklR",
        "outputId": "b0a49387-b357-4d5b-ea32-c642db2db070"
      },
      "outputs": [
        {
          "data": {
            "image/png": "[encoded data removed]",
            "text/latex": "$\\displaystyle 0.849857201142391$",
            "text/plain": [
              "0.8498572011423908"
            ]
          },
          "execution_count": 53,
          "metadata": {},
          "output_type": "execute_result"
        }
      ],
      "source": [
        "abs_att(e_pred, y_test, t_test, e_test)"
      ]
    },
    {
      "cell_type": "code",
      "execution_count": null,
      "metadata": {
        "colab": {
          "base_uri": "https://localhost:8080/"
        },
        "id": "3eXvn1kwWkxX",
        "outputId": "f37b522f-b533-4fda-a457-4d4bbdd22dfd"
      },
      "outputs": [
        {
          "data": {
            "image/png": "[encoded data removed]",
            "text/latex": "$\\displaystyle 0.289324009324009$",
            "text/plain": [
              "0.28932400932400937"
            ]
          },
          "execution_count": 54,
          "metadata": {},
          "output_type": "execute_result"
        }
      ],
      "source": [
        "policy_risk(e_pred, y_test, t_test, e_test)"
      ]
    },
    {
      "cell_type": "markdown",
      "metadata": {
        "id": "Oct_GeCjjkXy"
      },
      "source": [
        "# Model Evaluation"
      ]
    },
    {
      "cell_type": "code",
      "execution_count": null,
      "metadata": {
        "colab": {
          "base_uri": "https://localhost:8080/"
        },
        "id": "naZJAypEjb0d",
        "outputId": "a244794e-f9e1-46a4-d565-1bece1b71553"
      },
      "outputs": [
        {
          "data": {
            "text/plain": [
              "array([[483,  17],\n",
              "       [ 25, 118]])"
            ]
          },
          "execution_count": 55,
          "metadata": {},
          "output_type": "execute_result"
        }
      ],
      "source": [
        "#Confusion matrix\n",
        "\n",
        "from sklearn.metrics import confusion_matrix\n",
        "confusion_matrix(e_test, e_pred)"
      ]
    },
    {
      "cell_type": "code",
      "execution_count": null,
      "metadata": {
        "colab": {
          "base_uri": "https://localhost:8080/"
        },
        "id": "DD4roq6xjb8y",
        "outputId": "e7ccbb61-25a0-4418-d9d9-5293e30f3bd8"
      },
      "outputs": [
        {
          "name": "stdout",
          "output_type": "stream",
          "text": [
            "              precision    recall  f1-score   support\n",
            "\n",
            "         0.0       0.95      0.97      0.96       500\n",
            "         1.0       0.87      0.83      0.85       143\n",
            "\n",
            "    accuracy                           0.93       643\n",
            "   macro avg       0.91      0.90      0.90       643\n",
            "weighted avg       0.93      0.93      0.93       643\n",
            "\n"
          ]
        }
      ],
      "source": [
        "#classification report for finding precision, recall, f1-score, support\n",
        "\n",
        "from sklearn.metrics import classification_report\n",
        "print(classification_report(e_test, e_pred))"
      ]
    },
    {
      "cell_type": "code",
      "execution_count": null,
      "metadata": {
        "id": "l2fQKpYtjcPR"
      },
      "outputs": [],
      "source": [
        ""
      ]
    },
    {
      "cell_type": "code",
      "execution_count": null,
      "metadata": {
        "id": "yFVcNmaIjcVb"
      },
      "outputs": [],
      "source": [
        ""
      ]
    }
  ],
  "metadata": {
    "accelerator": "GPU",
    "colab": {
      "collapsed_sections": [],
      "name": "CE888-FINAL_ASSIGNMENT.ipynb",
      "provenance": [],
      "authorship_tag": "ABX9TyOCCqiLA6L7IWB4RRjNspDK",
      "include_colab_link": true
    },
    "kernelspec": {
      "display_name": "Python 3",
      "name": "python3"
    },
    "language_info": {
      "name": "python"
    }
  },
  "nbformat": 4,
  "nbformat_minor": 0
}