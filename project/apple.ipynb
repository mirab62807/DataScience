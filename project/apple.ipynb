{
  "nbformat": 4,
  "nbformat_minor": 0,
  "metadata": {
    "colab": {
      "name": "apple.ipynb",
      "provenance": [],
      "authorship_tag": "ABX9TyMN0S+IZWI42WRbIqRrsngP",
      "include_colab_link": true
    },
    "kernelspec": {
      "name": "python3",
      "display_name": "Python 3"
    },
    "language_info": {
      "name": "python"
    }
  },
  "cells": [
    {
      "cell_type": "markdown",
      "metadata": {
        "id": "view-in-github",
        "colab_type": "text"
      },
      "source": [
        "<a href=\"https://colab.research.google.com/github/mirab62807/DataScience/blob/main/project/apple.ipynb\" target=\"_parent\"><img src=\"https://colab.research.google.com/assets/colab-badge.svg\" alt=\"Open In Colab\"/></a>"
      ]
    },
    {
      "cell_type": "code",
      "source": [
        "!pip install econml"
      ],
      "metadata": {
        "id": "mcjGH6qihjYd"
      },
      "execution_count": null,
      "outputs": []
    },
    {
      "cell_type": "code",
      "execution_count": 194,
      "metadata": {
        "id": "j8lGrWs8hZo2"
      },
      "outputs": [],
      "source": [
        "from econml.metalearners import XLearner\n",
        "from sklearn.ensemble import RandomForestRegressor, RandomForestClassifier\n",
        "from sklearn.tree import DecisionTreeRegressor\n",
        "from sklearn.linear_model import LogisticRegression\n",
        "from sklearn.model_selection import train_test_split\n",
        "from sklearn.preprocessing import StandardScaler\n",
        "import numpy as np\n",
        "import pandas as pd\n",
        "import scipy.stats as st\n",
        "import matplotlib.pyplot as plt\n",
        "from sklearn.model_selection import GridSearchCV"
      ]
    },
    {
      "cell_type": "code",
      "source": [
        "def abs_ate(effect_true, effect_pred):\n",
        "    \"\"\"\n",
        "    Absolute error for the Average Treatment Effect (ATE)\n",
        "    :param effect_true: true treatment effect value\n",
        "    :param effect_pred: predicted treatment effect value\n",
        "    :return: absolute error on ATE\n",
        "    \"\"\"\n",
        "    # YOUR CODE HERE\n",
        "    return np.abs(np.mean(effect_pred) - np.mean(effect_true))\n",
        "\n",
        "def pehe(effect_true, effect_pred):\n",
        "    \"\"\"\n",
        "    Precision in Estimating the Heterogeneous Treatment Effect (PEHE)\n",
        "    :param effect_true: true treatment effect value\n",
        "    :param effect_pred: predicted treatment effect value\n",
        "    :return: PEHE\n",
        "    \"\"\"\n",
        "    # YOUR CODE HERE\n",
        "    return np.sqrt(np.mean((effect_true - effect_pred)**2))"
      ],
      "metadata": {
        "id": "Ab5Ncq4ThtkT"
      },
      "execution_count": 59,
      "outputs": []
    },
    {
      "cell_type": "code",
      "source": [
        "ihdp = np.load('ihdp.npz')\n",
        "ihdp.files\n",
        "\n",
        "for f in ihdp.files:\n",
        "  print(f'{f}: {ihdp[f].shape}')"
      ],
      "metadata": {
        "colab": {
          "base_uri": "https://localhost:8080/"
        },
        "id": "ihV_yptjhuEV",
        "outputId": "14f82727-afb9-471b-ff50-9de3571bfcf9"
      },
      "execution_count": 60,
      "outputs": [
        {
          "output_type": "stream",
          "name": "stdout",
          "text": [
            "x: (747, 25)\n",
            "t: (747, 1)\n",
            "yf: (747, 1)\n",
            "ycf: (747, 1)\n",
            "ite: (747, 1)\n"
          ]
        }
      ]
    },
    {
      "cell_type": "code",
      "source": [
        "X = ihdp['x']\n",
        "t = ihdp['t']\n",
        "yf = ihdp['yf']\n",
        "ycf = ihdp['ycf']\n",
        "ite = ihdp['ite']\n",
        "\n",
        "print(ite.shape)"
      ],
      "metadata": {
        "colab": {
          "base_uri": "https://localhost:8080/"
        },
        "id": "HJv6iJecj6xP",
        "outputId": "6fbc32d5-3a78-4004-efea-86d9707cce21"
      },
      "execution_count": 61,
      "outputs": [
        {
          "output_type": "stream",
          "name": "stdout",
          "text": [
            "(747, 1)\n"
          ]
        }
      ]
    },
    {
      "cell_type": "code",
      "source": [
        "bins=20\n",
        "fig, axs = plt.subplots(1, 5, figsize=(16, 4))\n",
        "axs[0].hist(X, bins=bins)\n",
        "axs[1].hist(t, bins=bins)\n",
        "axs[2].hist(yf, bins=bins)\n",
        "axs[3].hist(ycf, bins=bins)\n",
        "axs[4].hist(ite, bins=bins)\n",
        "plt.show()"
      ],
      "metadata": {
        "colab": {
          "base_uri": "https://localhost:8080/",
          "height": 265
        },
        "id": "m51JQbuihuaX",
        "outputId": "3f2248b5-be40-449f-ab96-e76c705b9ea1"
      },
      "execution_count": 62,
      "outputs": [
        {
          "output_type": "display_data",
          "data": {
            "text/plain": [
              "<Figure size 1152x288 with 5 Axes>"
            ],
            "image/png": "[encoded data removed]"
          },
          "metadata": {
            "needs_background": "light"
          }
        }
      ]
    },
    {
      "cell_type": "code",
      "source": [
        "np.mean(ite)"
      ],
      "metadata": {
        "colab": {
          "base_uri": "https://localhost:8080/",
          "height": 37
        },
        "id": "STG3X3lHhudN",
        "outputId": "3a274fb7-cd0d-44b1-84ba-641e2e279642"
      },
      "execution_count": 63,
      "outputs": [
        {
          "output_type": "execute_result",
          "data": {
            "text/plain": [
              "4.016066896118338"
            ],
            "image/png": "[encoded data removed]",
            "text/latex": "$\\displaystyle 4.01606689611834$"
          },
          "metadata": {},
          "execution_count": 63
        }
      ]
    },
    {
      "cell_type": "code",
      "source": [
        "# limit = 100\n",
        "# plt.scatter(X[t == 1][:limit], yf[t == 1][:limit], c = \"r\", label = \"Treated\")\n",
        "# plt.scatter(X[t == 0][:limit], yf[t == 0][:limit], c = \"g\", label = \"Control\")\n",
        "# plt.legend(ncol=2)"
      ],
      "metadata": {
        "id": "6XTHRAe4k7W9"
      },
      "execution_count": 64,
      "outputs": []
    },
    {
      "cell_type": "code",
      "source": [
        ""
      ],
      "metadata": {
        "id": "VRS2SU_2lYxK"
      },
      "execution_count": 64,
      "outputs": []
    },
    {
      "cell_type": "code",
      "execution_count": 133,
      "metadata": {
        "id": "1296dc9f"
      },
      "outputs": [],
      "source": [
        "#Spliting the dataset\n",
        "\n",
        "x_train, x_test, t_train, t_test, yf_train, yf_test, ycf_train, ycf_test, ite_train, ite_test = train_test_split(X, t, yf, ycf, ite, test_size=0.2)"
      ]
    },
    {
      "cell_type": "code",
      "source": [
        "#SIMPLE LEARNER \n",
        "rf = RandomForestRegressor()\n",
        "\n",
        "xt_train =np.concatenate([x_train,t_train], axis = 1) \n",
        "rf.fit(xt_train, yf_train.flatten())\n",
        "\n",
        "\n",
        "xt0_test = np.concatenate([x_test, np.zeros_like(t_test)], axis=1) \n",
        "rf_y0_test_f = rf.predict(xt0_test)\n",
        "\n",
        "\n",
        "xt1_test = np.concatenate([x_test, np.ones_like(t_test)], axis=1)\n",
        "rf_y1_test_f = rf.predict(xt1_test)\n",
        "\n",
        "\n",
        "rf_ite_test_f = rf_y1_test_f - rf_y0_test_f   \n",
        "\n",
        "print(rf_ite_test_f.mean()) "
      ],
      "metadata": {
        "colab": {
          "base_uri": "https://localhost:8080/"
        },
        "id": "HbC1m_gSmA9u",
        "outputId": "99f36cd8-6d25-450e-ce68-9b9329a0af78"
      },
      "execution_count": 134,
      "outputs": [
        {
          "output_type": "stream",
          "name": "stdout",
          "text": [
            "4.219634905212446\n"
          ]
        }
      ]
    },
    {
      "cell_type": "code",
      "source": [
        "#Assigning the parameters of splitter, max_depth, min_samples_leaf, min_weight_fraction_leaf, max_features, max_leaf_nodes\n",
        "\n",
        "parameters={\"max_depth\" : [5,7,9],\n",
        "           \"min_samples_leaf\":[1,2,3,4],\n",
        "           \"min_weight_fraction_leaf\":[0.3,0.4,0.5,0],\n",
        "           \"max_features\":[\"auto\",\"log2\",\"sqrt\"],\n",
        "           \"max_leaf_nodes\":[10,20,30] }"
      ],
      "metadata": {
        "id": "numfiwif3LOi"
      },
      "execution_count": 141,
      "outputs": []
    },
    {
      "cell_type": "code",
      "source": [
        "tuning_model=GridSearchCV(rf,param_grid=parameters,scoring='neg_mean_squared_error',cv=10,verbose=3)"
      ],
      "metadata": {
        "id": "3W3Z3YJ5-eSu"
      },
      "execution_count": 145,
      "outputs": []
    },
    {
      "cell_type": "code",
      "source": [
        "tuning_model.fit(xt_train, yf_train)"
      ],
      "metadata": {
        "id": "5mWRlQIM5Bcg"
      },
      "execution_count": null,
      "outputs": []
    },
    {
      "cell_type": "code",
      "source": [
        "#hyperparameter tuning\n",
        "\n",
        "tuning_model.best_params_\n"
      ],
      "metadata": {
        "colab": {
          "base_uri": "https://localhost:8080/"
        },
        "id": "nO8TNDRf3RWk",
        "outputId": "e4c86c75-0150-4357-92b9-e80755ff7f6d"
      },
      "execution_count": 147,
      "outputs": [
        {
          "output_type": "execute_result",
          "data": {
            "text/plain": [
              "{'max_depth': 9,\n",
              " 'max_features': 'auto',\n",
              " 'max_leaf_nodes': 20,\n",
              " 'min_samples_leaf': 3,\n",
              " 'min_weight_fraction_leaf': 0}"
            ]
          },
          "metadata": {},
          "execution_count": 147
        }
      ]
    },
    {
      "cell_type": "code",
      "source": [
        "# WITH GRID SEARCH THE BEST PARAMETERS \n",
        "rf = RandomForestRegressor(max_depth=9, max_features= 'auto', max_leaf_nodes=20, min_samples_leaf=3, min_weight_fraction_leaf=0)\n",
        "\n",
        "xt_train =np.concatenate([x_train,t_train], axis = 1) \n",
        "rf.fit(xt_train, yf_train.flatten())\n",
        "\n",
        "\n",
        "xt0_test = np.concatenate([x_test, np.zeros_like(t_test)], axis=1) \n",
        "rf_y0_test_f = rf.predict(xt0_test)\n",
        "\n",
        "\n",
        "xt1_test = np.concatenate([x_test, np.ones_like(t_test)], axis=1)\n",
        "rf_y1_test_f = rf.predict(xt1_test)\n",
        "\n",
        "\n",
        "rf_ite_test_f_grids = rf_y1_test_f - rf_y0_test_f   \n",
        "\n",
        "print(rf_ite_test_f_grids.mean()) "
      ],
      "metadata": {
        "colab": {
          "base_uri": "https://localhost:8080/"
        },
        "id": "lnUqBDOo_Qr2",
        "outputId": "dc62b6dc-d870-4a64-bac0-e51453cc4a74"
      },
      "execution_count": 148,
      "outputs": [
        {
          "output_type": "stream",
          "name": "stdout",
          "text": [
            "4.223292953723702\n"
          ]
        }
      ]
    },
    {
      "cell_type": "code",
      "source": [
        "clf1 = LogisticRegression()\n",
        "\n",
        "\n",
        "def get_ps_weights(clf, x, t):\n",
        "  ti = np.squeeze(t)\n",
        "  clf.fit(x, ti)\n",
        "  ptx = clf.predict_proba(x).T[1].T + 0.0001 \n",
        "  a= ti/ptx\n",
        "  b= ((1-ti)/(1-ptx)) \n",
        "  \n",
        "  wi = a+b \n",
        "  return wi\n",
        "\n",
        "\n",
        "weight1 = get_ps_weights(clf1, x_train, t_train)"
      ],
      "metadata": {
        "id": "-tuAmCodnddi"
      },
      "execution_count": 149,
      "outputs": []
    },
    {
      "cell_type": "code",
      "source": [
        "# Get the sample weights\n",
        "prop_clf = RandomForestClassifier()\n",
        "weights = get_ps_weights(prop_clf, x_train, t_train)\n",
        "\n",
        "# Train the regressor\n",
        "rf_ipsw = RandomForestRegressor()\n",
        "\n",
        "rf_ipsw.fit(xt_train, yf_train.flatten(), sample_weight= weights)\n",
        "\n",
        "# Make predictions\n",
        "rf_ipsw_y0_test = rf_ipsw.predict(xt0_test) \n",
        "rf_ipsw_y1_test = rf_ipsw.predict(xt1_test) \n",
        "\n",
        "# Compute ITEs\n",
        "rf_ipsw_te_test_f =  rf_ipsw_y1_test - rf_ipsw_y0_test\n",
        "print(rf_ipsw_te_test_f.mean())"
      ],
      "metadata": {
        "colab": {
          "base_uri": "https://localhost:8080/"
        },
        "id": "tCeGRFu6ngak",
        "outputId": "4270ed68-1bf6-4a50-efb5-e3a547224124"
      },
      "execution_count": 150,
      "outputs": [
        {
          "output_type": "stream",
          "name": "stdout",
          "text": [
            "4.268600591304512\n"
          ]
        }
      ]
    },
    {
      "cell_type": "code",
      "source": [
        "# X-Learner\n",
        "xl = XLearner(models=RandomForestRegressor(), propensity_model=RandomForestClassifier())\n",
        "xl.fit(yf_train, t_train.flatten(), X=x_train)\n",
        "\n",
        "xl_te_test_f = xl.effect(x_test)\n",
        "\n",
        "print(xl_te_test_f.mean())"
      ],
      "metadata": {
        "colab": {
          "base_uri": "https://localhost:8080/"
        },
        "id": "dJlKId6xp6WL",
        "outputId": "5995a14c-f7ac-45dd-c74d-e4ae47a4c365"
      },
      "execution_count": 151,
      "outputs": [
        {
          "output_type": "stream",
          "name": "stdout",
          "text": [
            "4.241760211583006\n"
          ]
        },
        {
          "output_type": "stream",
          "name": "stderr",
          "text": [
            "Function get_feature_names is deprecated; get_feature_names is deprecated in 1.0 and will be removed in 1.2. Please use get_feature_names_out instead.\n"
          ]
        }
      ]
    },
    {
      "cell_type": "code",
      "source": [
        "# Error on ATE\n",
        "\n",
        "rf_ate_test_f = np.abs(rf_ite_test_f.mean()) \n",
        "rf_ipsw_ate_test_f = np.abs(rf_ipsw_te_test_f.mean())\n",
        "xl_ate_test_f = np.abs(xl_te_test_f.mean()) \n",
        "\n",
        "# PEHE\n",
        "# Use our 'pehe' function, true ITEs and predicted ITEs to get the measurements.\n",
        "rf_pehe_test_f = np.sqrt((rf_ate_test_f - 1.05)**2) \n",
        "rf_ipsw_pehe_test_f = np.sqrt(((rf_ipsw_ate_test_f - 1.05)**2)) \n",
        "xl_pehe_test_f = np.sqrt((xl_ate_test_f - 1.05)**2)"
      ],
      "metadata": {
        "id": "Aa46sUpKvEv4"
      },
      "execution_count": 152,
      "outputs": []
    },
    {
      "cell_type": "code",
      "source": [
        "results = []\n",
        "results.append(['RF', rf_ate_test_f, rf_pehe_test_f])\n",
        "results.append(['RF (IPW)', rf_ipsw_ate_test_f, rf_ipsw_pehe_test_f])\n",
        "results.append(['XL', xl_ate_test_f, xl_pehe_test_f])\n",
        "\n",
        "cols = ['Method', 'ATE test', 'PEHE test']\n",
        "\n",
        "df_f = pd.DataFrame(results, columns=cols)\n",
        "df_f"
      ],
      "metadata": {
        "colab": {
          "base_uri": "https://localhost:8080/",
          "height": 143
        },
        "id": "vAtD-abtvSlc",
        "outputId": "37272c0a-8f23-4205-d110-776047d7b8f7"
      },
      "execution_count": 153,
      "outputs": [
        {
          "output_type": "execute_result",
          "data": {
            "text/plain": [
              "     Method  ATE test  PEHE test\n",
              "0        RF  4.219635   3.169635\n",
              "1  RF (IPW)  4.268601   3.218601\n",
              "2        XL  4.241760   3.191760"
            ],
            "text/html": [
              "\n",
              "  <div id=\"df-f6c8f18d-f737-40f0-b503-0eaabc169b48\">\n",
              "    <div class=\"colab-df-container\">\n",
              "      <div>\n",
              "<style scoped>\n",
              "    .dataframe tbody tr th:only-of-type {\n",
              "        vertical-align: middle;\n",
              "    }\n",
              "\n",
              "    .dataframe tbody tr th {\n",
              "        vertical-align: top;\n",
              "    }\n",
              "\n",
              "    .dataframe thead th {\n",
              "        text-align: right;\n",
              "    }\n",
              "</style>\n",
              "<table border=\"1\" class=\"dataframe\">\n",
              "  <thead>\n",
              "    <tr style=\"text-align: right;\">\n",
              "      <th></th>\n",
              "      <th>Method</th>\n",
              "      <th>ATE test</th>\n",
              "      <th>PEHE test</th>\n",
              "    </tr>\n",
              "  </thead>\n",
              "  <tbody>\n",
              "    <tr>\n",
              "      <th>0</th>\n",
              "      <td>RF</td>\n",
              "      <td>4.219635</td>\n",
              "      <td>3.169635</td>\n",
              "    </tr>\n",
              "    <tr>\n",
              "      <th>1</th>\n",
              "      <td>RF (IPW)</td>\n",
              "      <td>4.268601</td>\n",
              "      <td>3.218601</td>\n",
              "    </tr>\n",
              "    <tr>\n",
              "      <th>2</th>\n",
              "      <td>XL</td>\n",
              "      <td>4.241760</td>\n",
              "      <td>3.191760</td>\n",
              "    </tr>\n",
              "  </tbody>\n",
              "</table>\n",
              "</div>\n",
              "      <button class=\"colab-df-convert\" onclick=\"convertToInteractive('df-f6c8f18d-f737-40f0-b503-0eaabc169b48')\"\n",
              "              title=\"Convert this dataframe to an interactive table.\"\n",
              "              style=\"display:none;\">\n",
              "        \n",
              "  <svg xmlns=\"http://www.w3.org/2000/svg\" height=\"24px\"viewBox=\"0 0 24 24\"\n",
              "       width=\"24px\">\n",
              "    <path d=\"M0 0h24v24H0V0z\" fill=\"none\"/>\n",
              "    <path d=\"M18.56 5.44l.94 2.06.94-2.06 2.06-.94-2.06-.94-.94-2.06-.94 2.06-2.06.94zm-11 1L8.5 8.5l.94-2.06 2.06-.94-2.06-.94L8.5 2.5l-.94 2.06-2.06.94zm10 10l.94 2.06.94-2.06 2.06-.94-2.06-.94-.94-2.06-.94 2.06-2.06.94z\"/><path d=\"M17.41 7.96l-1.37-1.37c-.4-.4-.92-.59-1.43-.59-.52 0-1.04.2-1.43.59L10.3 9.45l-7.72 7.72c-.78.78-.78 2.05 0 2.83L4 21.41c.39.39.9.59 1.41.59.51 0 1.02-.2 1.41-.59l7.78-7.78 2.81-2.81c.8-.78.8-2.07 0-2.86zM5.41 20L4 18.59l7.72-7.72 1.47 1.35L5.41 20z\"/>\n",
              "  </svg>\n",
              "      </button>\n",
              "      \n",
              "  <style>\n",
              "    .colab-df-container {\n",
              "      display:flex;\n",
              "      flex-wrap:wrap;\n",
              "      gap: 12px;\n",
              "    }\n",
              "\n",
              "    .colab-df-convert {\n",
              "      background-color: #E8F0FE;\n",
              "      border: none;\n",
              "      border-radius: 50%;\n",
              "      cursor: pointer;\n",
              "      display: none;\n",
              "      fill: #1967D2;\n",
              "      height: 32px;\n",
              "      padding: 0 0 0 0;\n",
              "      width: 32px;\n",
              "    }\n",
              "\n",
              "    .colab-df-convert:hover {\n",
              "      background-color: #E2EBFA;\n",
              "      box-shadow: 0px 1px 2px rgba(60, 64, 67, 0.3), 0px 1px 3px 1px rgba(60, 64, 67, 0.15);\n",
              "      fill: #174EA6;\n",
              "    }\n",
              "\n",
              "    [theme=dark] .colab-df-convert {\n",
              "      background-color: #3B4455;\n",
              "      fill: #D2E3FC;\n",
              "    }\n",
              "\n",
              "    [theme=dark] .colab-df-convert:hover {\n",
              "      background-color: #434B5C;\n",
              "      box-shadow: 0px 1px 3px 1px rgba(0, 0, 0, 0.15);\n",
              "      filter: drop-shadow(0px 1px 2px rgba(0, 0, 0, 0.3));\n",
              "      fill: #FFFFFF;\n",
              "    }\n",
              "  </style>\n",
              "\n",
              "      <script>\n",
              "        const buttonEl =\n",
              "          document.querySelector('#df-f6c8f18d-f737-40f0-b503-0eaabc169b48 button.colab-df-convert');\n",
              "        buttonEl.style.display =\n",
              "          google.colab.kernel.accessAllowed ? 'block' : 'none';\n",
              "\n",
              "        async function convertToInteractive(key) {\n",
              "          const element = document.querySelector('#df-f6c8f18d-f737-40f0-b503-0eaabc169b48');\n",
              "          const dataTable =\n",
              "            await google.colab.kernel.invokeFunction('convertToInteractive',\n",
              "                                                     [key], {});\n",
              "          if (!dataTable) return;\n",
              "\n",
              "          const docLinkHtml = 'Like what you see? Visit the ' +\n",
              "            '<a target=\"_blank\" href=https://colab.research.google.com/notebooks/data_table.ipynb>data table notebook</a>'\n",
              "            + ' to learn more about interactive tables.';\n",
              "          element.innerHTML = '';\n",
              "          dataTable['output_type'] = 'display_data';\n",
              "          await google.colab.output.renderOutput(dataTable, element);\n",
              "          const docLink = document.createElement('div');\n",
              "          docLink.innerHTML = docLinkHtml;\n",
              "          element.appendChild(docLink);\n",
              "        }\n",
              "      </script>\n",
              "    </div>\n",
              "  </div>\n",
              "  "
            ]
          },
          "metadata": {},
          "execution_count": 153
        }
      ]
    },
    {
      "cell_type": "markdown",
      "source": [
        "# CODE FOR COUNTERFACTUAL"
      ],
      "metadata": {
        "id": "v579H0QEIhPI"
      }
    },
    {
      "cell_type": "code",
      "source": [
        "# Random Forest with default parameters.\n",
        "rf = RandomForestRegressor()\n",
        "\n",
        "\n",
        "\n",
        "xt_train =np.concatenate([x_train,t_train], axis = 1) \n",
        "rf.fit(xt_train, ycf_train.flatten())\n",
        "\n",
        "\n",
        "xt0_test = np.concatenate([x_test, np.zeros_like(t_test)], axis=1)\n",
        "rf_y0_test_cf = rf.predict(xt0_test)\n",
        "\n",
        "\n",
        "xt1_test = np.concatenate([x_test, np.ones_like(t_test)], axis=1) \n",
        "rf_y1_test_cf = rf.predict(xt1_test)\n",
        "\n",
        "\n",
        "rf_ite_test_cf = rf_y1_test_cf - rf_y0_test_cf  \n",
        "print(rf_ite_test_cf.mean()) "
      ],
      "metadata": {
        "colab": {
          "base_uri": "https://localhost:8080/"
        },
        "id": "FZN2xWjcm_kW",
        "outputId": "43960b00-02dc-4c3c-fddb-df41ee56e10e"
      },
      "execution_count": 154,
      "outputs": [
        {
          "output_type": "stream",
          "name": "stdout",
          "text": [
            "-4.341567105349443\n"
          ]
        }
      ]
    },
    {
      "cell_type": "code",
      "source": [
        "# Get the sample weights\n",
        "prop_clf = RandomForestClassifier()\n",
        "weights = get_ps_weights(prop_clf, x_train, t_train)\n",
        "\n",
        "# Train the regressor\n",
        "rf_ipsw = RandomForestRegressor()\n",
        "\n",
        "rf_ipsw.fit(xt_train, ycf_train.flatten(), sample_weight= weights)\n",
        "\n",
        "\n",
        "rf_ipsw_y0_test = rf_ipsw.predict(xt0_test) \n",
        "rf_ipsw_y1_test = rf_ipsw.predict(xt1_test)\n",
        "\n",
        "\n",
        "rf_ipsw_te_test_cf =  rf_ipsw_y1_test - rf_ipsw_y0_test\n",
        "print(rf_ipsw_te_test_cf.mean())"
      ],
      "metadata": {
        "colab": {
          "base_uri": "https://localhost:8080/"
        },
        "id": "zmHDBDcJoEwp",
        "outputId": "f60d0ca6-471b-48fc-c194-f3703513794c"
      },
      "execution_count": 155,
      "outputs": [
        {
          "output_type": "stream",
          "name": "stdout",
          "text": [
            "-4.326600347744255\n"
          ]
        }
      ]
    },
    {
      "cell_type": "code",
      "source": [
        "# X-Learner\n",
        "xl = XLearner(models=RandomForestRegressor(), propensity_model=RandomForestClassifier())\n",
        "xl.fit(ycf_train, t_train.flatten(), X=x_train)\n",
        "\n",
        "xl_te_test_cf = xl.effect(x_test)\n",
        "\n",
        "print(xl_te_test_cf.mean())"
      ],
      "metadata": {
        "colab": {
          "base_uri": "https://localhost:8080/"
        },
        "id": "w-S7g6Oyp6ln",
        "outputId": "8dcd8a5c-7345-4a0a-d44c-48589fc5e51b"
      },
      "execution_count": 74,
      "outputs": [
        {
          "output_type": "stream",
          "name": "stdout",
          "text": [
            "-4.147319731818695\n"
          ]
        },
        {
          "output_type": "stream",
          "name": "stderr",
          "text": [
            "Function get_feature_names is deprecated; get_feature_names is deprecated in 1.0 and will be removed in 1.2. Please use get_feature_names_out instead.\n"
          ]
        }
      ]
    },
    {
      "cell_type": "code",
      "source": [
        "# Error on ATE\n",
        "# Use our 'abs_ate' function, true ITEs and predicted ITEs to get the measurements.\n",
        "rf_ate_test_cf = np.abs(rf_ite_test_cf.mean()) \n",
        "rf_ipsw_ate_test_cf = np.abs(rf_ipsw_te_test_cf.mean()) \n",
        "xl_ate_test_cf = np.abs(xl_te_test_cf.mean())\n",
        "\n",
        "# PEHE\n",
        "# Use our 'pehe' function, true ITEs and predicted ITEs to get the measurements.\n",
        "rf_pehe_test_cf = np.sqrt((rf_ate_test_cf - 1.05)**2)  \n",
        "rf_ipsw_pehe_test_cf = np.sqrt(((rf_ipsw_ate_test_cf - 1.05)**2)) \n",
        "xl_pehe_test_cf = np.sqrt((xl_ate_test_cf - 1.05)**2)"
      ],
      "metadata": {
        "id": "JFviaPjKyGsW"
      },
      "execution_count": 156,
      "outputs": []
    },
    {
      "cell_type": "code",
      "source": [
        "results_cf = []\n",
        "results_cf.append(['RF', rf_ate_test_cf, rf_pehe_test_cf])\n",
        "results_cf.append(['RF (IPW)', rf_ipsw_ate_test_cf, rf_ipsw_pehe_test_cf])\n",
        "results_cf.append(['XL', xl_ate_test_cf, xl_pehe_test_cf])\n",
        "\n",
        "cols = ['Method', 'ATE test', 'PEHE test']\n",
        "\n",
        "df_cf = pd.DataFrame(results, columns=cols)\n",
        "df_cf"
      ],
      "metadata": {
        "colab": {
          "base_uri": "https://localhost:8080/",
          "height": 143
        },
        "id": "TM_5I8w3yL4D",
        "outputId": "c5033c7a-7889-4dcb-f030-87db7e2a2194"
      },
      "execution_count": 157,
      "outputs": [
        {
          "output_type": "execute_result",
          "data": {
            "text/plain": [
              "     Method  ATE test  PEHE test\n",
              "0        RF  4.219635   3.169635\n",
              "1  RF (IPW)  4.268601   3.218601\n",
              "2        XL  4.241760   3.191760"
            ],
            "text/html": [
              "\n",
              "  <div id=\"df-0541521c-90db-4487-b9e7-eccbe097827c\">\n",
              "    <div class=\"colab-df-container\">\n",
              "      <div>\n",
              "<style scoped>\n",
              "    .dataframe tbody tr th:only-of-type {\n",
              "        vertical-align: middle;\n",
              "    }\n",
              "\n",
              "    .dataframe tbody tr th {\n",
              "        vertical-align: top;\n",
              "    }\n",
              "\n",
              "    .dataframe thead th {\n",
              "        text-align: right;\n",
              "    }\n",
              "</style>\n",
              "<table border=\"1\" class=\"dataframe\">\n",
              "  <thead>\n",
              "    <tr style=\"text-align: right;\">\n",
              "      <th></th>\n",
              "      <th>Method</th>\n",
              "      <th>ATE test</th>\n",
              "      <th>PEHE test</th>\n",
              "    </tr>\n",
              "  </thead>\n",
              "  <tbody>\n",
              "    <tr>\n",
              "      <th>0</th>\n",
              "      <td>RF</td>\n",
              "      <td>4.219635</td>\n",
              "      <td>3.169635</td>\n",
              "    </tr>\n",
              "    <tr>\n",
              "      <th>1</th>\n",
              "      <td>RF (IPW)</td>\n",
              "      <td>4.268601</td>\n",
              "      <td>3.218601</td>\n",
              "    </tr>\n",
              "    <tr>\n",
              "      <th>2</th>\n",
              "      <td>XL</td>\n",
              "      <td>4.241760</td>\n",
              "      <td>3.191760</td>\n",
              "    </tr>\n",
              "  </tbody>\n",
              "</table>\n",
              "</div>\n",
              "      <button class=\"colab-df-convert\" onclick=\"convertToInteractive('df-0541521c-90db-4487-b9e7-eccbe097827c')\"\n",
              "              title=\"Convert this dataframe to an interactive table.\"\n",
              "              style=\"display:none;\">\n",
              "        \n",
              "  <svg xmlns=\"http://www.w3.org/2000/svg\" height=\"24px\"viewBox=\"0 0 24 24\"\n",
              "       width=\"24px\">\n",
              "    <path d=\"M0 0h24v24H0V0z\" fill=\"none\"/>\n",
              "    <path d=\"M18.56 5.44l.94 2.06.94-2.06 2.06-.94-2.06-.94-.94-2.06-.94 2.06-2.06.94zm-11 1L8.5 8.5l.94-2.06 2.06-.94-2.06-.94L8.5 2.5l-.94 2.06-2.06.94zm10 10l.94 2.06.94-2.06 2.06-.94-2.06-.94-.94-2.06-.94 2.06-2.06.94z\"/><path d=\"M17.41 7.96l-1.37-1.37c-.4-.4-.92-.59-1.43-.59-.52 0-1.04.2-1.43.59L10.3 9.45l-7.72 7.72c-.78.78-.78 2.05 0 2.83L4 21.41c.39.39.9.59 1.41.59.51 0 1.02-.2 1.41-.59l7.78-7.78 2.81-2.81c.8-.78.8-2.07 0-2.86zM5.41 20L4 18.59l7.72-7.72 1.47 1.35L5.41 20z\"/>\n",
              "  </svg>\n",
              "      </button>\n",
              "      \n",
              "  <style>\n",
              "    .colab-df-container {\n",
              "      display:flex;\n",
              "      flex-wrap:wrap;\n",
              "      gap: 12px;\n",
              "    }\n",
              "\n",
              "    .colab-df-convert {\n",
              "      background-color: #E8F0FE;\n",
              "      border: none;\n",
              "      border-radius: 50%;\n",
              "      cursor: pointer;\n",
              "      display: none;\n",
              "      fill: #1967D2;\n",
              "      height: 32px;\n",
              "      padding: 0 0 0 0;\n",
              "      width: 32px;\n",
              "    }\n",
              "\n",
              "    .colab-df-convert:hover {\n",
              "      background-color: #E2EBFA;\n",
              "      box-shadow: 0px 1px 2px rgba(60, 64, 67, 0.3), 0px 1px 3px 1px rgba(60, 64, 67, 0.15);\n",
              "      fill: #174EA6;\n",
              "    }\n",
              "\n",
              "    [theme=dark] .colab-df-convert {\n",
              "      background-color: #3B4455;\n",
              "      fill: #D2E3FC;\n",
              "    }\n",
              "\n",
              "    [theme=dark] .colab-df-convert:hover {\n",
              "      background-color: #434B5C;\n",
              "      box-shadow: 0px 1px 3px 1px rgba(0, 0, 0, 0.15);\n",
              "      filter: drop-shadow(0px 1px 2px rgba(0, 0, 0, 0.3));\n",
              "      fill: #FFFFFF;\n",
              "    }\n",
              "  </style>\n",
              "\n",
              "      <script>\n",
              "        const buttonEl =\n",
              "          document.querySelector('#df-0541521c-90db-4487-b9e7-eccbe097827c button.colab-df-convert');\n",
              "        buttonEl.style.display =\n",
              "          google.colab.kernel.accessAllowed ? 'block' : 'none';\n",
              "\n",
              "        async function convertToInteractive(key) {\n",
              "          const element = document.querySelector('#df-0541521c-90db-4487-b9e7-eccbe097827c');\n",
              "          const dataTable =\n",
              "            await google.colab.kernel.invokeFunction('convertToInteractive',\n",
              "                                                     [key], {});\n",
              "          if (!dataTable) return;\n",
              "\n",
              "          const docLinkHtml = 'Like what you see? Visit the ' +\n",
              "            '<a target=\"_blank\" href=https://colab.research.google.com/notebooks/data_table.ipynb>data table notebook</a>'\n",
              "            + ' to learn more about interactive tables.';\n",
              "          element.innerHTML = '';\n",
              "          dataTable['output_type'] = 'display_data';\n",
              "          await google.colab.output.renderOutput(dataTable, element);\n",
              "          const docLink = document.createElement('div');\n",
              "          docLink.innerHTML = docLinkHtml;\n",
              "          element.appendChild(docLink);\n",
              "        }\n",
              "      </script>\n",
              "    </div>\n",
              "  </div>\n",
              "  "
            ]
          },
          "metadata": {},
          "execution_count": 157
        }
      ]
    },
    {
      "cell_type": "markdown",
      "source": [
        "# MARTIX FOR JOB DATA \n",
        "THIS SAMPLE FROM EXPERIMENTAL OR OBSERVATIONAL SO ATT AND POLICY RISK WILL BE APPLIED TO FIND ERROR"
      ],
      "metadata": {
        "id": "LLySD2dEJ0gE"
      }
    },
    {
      "cell_type": "code",
      "source": [
        "def abs_att(effect_pred, yf, t, e):\n",
        "    att_true = np.mean(yf[t > 0]) - np.mean(yf[(1 - t + e) > 1])\n",
        "    att_pred = np.mean(effect_pred[(t + e) > 1])\n",
        "\n",
        "    return np.abs(att_pred - att_true)\n",
        "\n",
        "def policy_risk(effect_pred, yf, t, e):\n",
        "    # Consider only the cases for which we have experimental data (i.e., e > 0)\n",
        "    t_e = t[e > 0]\n",
        "    yf_e = yf[e > 0]\n",
        "    effect_pred_e = effect_pred[e > 0]\n",
        "\n",
        "    if np.any(np.isnan(effect_pred_e)):\n",
        "        return np.nan\n",
        "\n",
        "    policy = effect_pred_e > 0.0\n",
        "    treat_overlap = (policy == t_e) * (t_e > 0)\n",
        "    control_overlap = (policy == t_e) * (t_e < 1)\n",
        "\n",
        "    if np.sum(treat_overlap) == 0:\n",
        "        treat_value = 0\n",
        "    else:\n",
        "        treat_value = np.mean(yf_e[treat_overlap])\n",
        "\n",
        "    if np.sum(control_overlap) == 0:\n",
        "        control_value = 0\n",
        "    else:\n",
        "        control_value = np.mean(yf_e[control_overlap])\n",
        "\n",
        "    pit = np.mean(policy)\n",
        "    policy_value = pit * treat_value + (1.0 - pit) * control_value\n",
        "\n",
        "    return 1.0 - policy_value"
      ],
      "metadata": {
        "id": "YyLFWWO2FmIm"
      },
      "execution_count": 212,
      "outputs": []
    },
    {
      "cell_type": "code",
      "source": [
        "jobs = pd.read_csv('jobs.csv')\n",
        "\n",
        "X = jobs[['x1', 'x2', 'x3', 'x4', 'x5', 'x6', 'x7', 'x8', 'x9', 'x10', 'x11',\n",
        "       'x12', 'x13', 'x14', 'x15']]\n",
        "t = jobs['t']\n",
        "y = jobs['y']\n",
        "e = jobs['e']"
      ],
      "metadata": {
        "id": "WcdVT668gmDp"
      },
      "execution_count": 215,
      "outputs": []
    },
    {
      "cell_type": "code",
      "source": [
        "bins=10\n",
        "fig, axs = plt.subplots(1, 4, figsize=(16, 4))\n",
        "axs[0].hist(X, bins=bins)\n",
        "axs[1].hist(t, bins=bins)\n",
        "axs[2].hist(y, bins=bins)\n",
        "axs[3].hist(e, bins=bins)\n",
        "plt.show()"
      ],
      "metadata": {
        "colab": {
          "base_uri": "https://localhost:8080/",
          "height": 265
        },
        "id": "_v4MhdW4K8ps",
        "outputId": "ec443ee2-090a-4016-8ce3-496b2ad4c074"
      },
      "execution_count": 216,
      "outputs": [
        {
          "output_type": "display_data",
          "data": {
            "text/plain": [
              "<Figure size 1152x288 with 4 Axes>"
            ],
            "image/png": "[encoded data removed]"
          },
          "metadata": {
            "needs_background": "light"
          }
        }
      ]
    },
    {
      "cell_type": "code",
      "source": [
        "x_train, x_test, t_train, t_test, y_train, y_test, e_train, e_test = train_test_split(X, t, y, e, test_size=0.2)"
      ],
      "metadata": {
        "id": "p-uU6dOPL81m"
      },
      "execution_count": 217,
      "outputs": []
    },
    {
      "cell_type": "code",
      "source": [
        "from sklearn.linear_model import LinearRegression\n",
        "lg = LinearRegression()\n",
        "dtr = DecisionTreeRegressor()"
      ],
      "metadata": {
        "id": "a6P5KDsthchm"
      },
      "execution_count": 220,
      "outputs": []
    },
    {
      "cell_type": "code",
      "source": [
        "lg.fit(x_train, e_train)\n",
        "print(lg.score(x_test, e_test))"
      ],
      "metadata": {
        "colab": {
          "base_uri": "https://localhost:8080/"
        },
        "id": "S6tWky2_iIWB",
        "outputId": "94c9362a-b677-4a65-fba9-cb5ccdd862d5"
      },
      "execution_count": 224,
      "outputs": [
        {
          "output_type": "stream",
          "name": "stdout",
          "text": [
            "0.6331480864021082\n"
          ]
        }
      ]
    },
    {
      "cell_type": "code",
      "source": [
        "dtr.fit(x_train, y_train)\n",
        "print(dtr.score(x_test, y_test))"
      ],
      "metadata": {
        "colab": {
          "base_uri": "https://localhost:8080/"
        },
        "id": "1qWw2_G5iuX5",
        "outputId": "c4b07c41-a694-4bd4-e91a-643683316ab1"
      },
      "execution_count": 225,
      "outputs": [
        {
          "output_type": "stream",
          "name": "stdout",
          "text": [
            "-0.311276756084677\n"
          ]
        }
      ]
    },
    {
      "cell_type": "code",
      "source": [
        "dtr.fit(x_train, t_train)\n",
        "print(dtr.score(x_test, t_test))"
      ],
      "metadata": {
        "colab": {
          "base_uri": "https://localhost:8080/"
        },
        "id": "cKVQWc53ixT0",
        "outputId": "7e177a37-0ffd-4314-abc0-3a159a36362d"
      },
      "execution_count": 226,
      "outputs": [
        {
          "output_type": "stream",
          "name": "stdout",
          "text": [
            "-0.2898375331564984\n"
          ]
        }
      ]
    },
    {
      "cell_type": "code",
      "source": [
        "def get_weights(lg, x, t):\n",
        "    ti = np.squeeze(t)\n",
        "    lg.fit(x, ti)\n",
        "    ptx = lg.predict(x).T[1].T + 0.001 # add a small value to avoid dividing by 0\n",
        "    # Given ti and ptx values, compute the weights wi (see formula above):\n",
        "    a= ti/ptx\n",
        "    b= ((1-ti)/(1-ptx)) \n",
        "\n",
        "    wi = a+b\n",
        "    return wi\n",
        "\n",
        "\n",
        "weight1 = get_weights(lg, x_train, e_train)"
      ],
      "metadata": {
        "id": "n9Z6cPTvizI8"
      },
      "execution_count": null,
      "outputs": []
    },
    {
      "cell_type": "code",
      "source": [
        "from sklearn.tree import DecisionTreeClassifier\n",
        "dtc = DecisionTreeClassifier()"
      ],
      "metadata": {
        "id": "5a7zxsBVi5bA"
      },
      "execution_count": 227,
      "outputs": []
    },
    {
      "cell_type": "code",
      "source": [
        "dtc.fit(x_train, y_train)\n",
        "print(dtr.score(x_test, y_test))"
      ],
      "metadata": {
        "colab": {
          "base_uri": "https://localhost:8080/"
        },
        "id": "bwSVeWwBi5sx",
        "outputId": "6ec1caad-b378-436c-93af-95d6b4784b89"
      },
      "execution_count": 228,
      "outputs": [
        {
          "output_type": "stream",
          "name": "stdout",
          "text": [
            "-5.755260938609642\n"
          ]
        }
      ]
    },
    {
      "cell_type": "code",
      "source": [
        "#Predicting y with respect to x_test\n",
        "\n",
        "y_pred = dtc.predict(x_test)"
      ],
      "metadata": {
        "id": "4eBgg4xqi51Q"
      },
      "execution_count": 229,
      "outputs": []
    },
    {
      "cell_type": "code",
      "source": [
        "from sklearn import metrics\n",
        "metrics.accuracy_score(y_test, y_pred)"
      ],
      "metadata": {
        "colab": {
          "base_uri": "https://localhost:8080/",
          "height": 37
        },
        "id": "HIhxj1dTi56A",
        "outputId": "f224f0ae-bc34-405e-c7b5-57e83d8a0ea7"
      },
      "execution_count": 230,
      "outputs": [
        {
          "output_type": "execute_result",
          "data": {
            "text/plain": [
              "0.8320373250388803"
            ],
            "image/png": "[encoded data removed]",
            "text/latex": "$\\displaystyle 0.83203732503888$"
          },
          "metadata": {},
          "execution_count": 230
        }
      ]
    },
    {
      "cell_type": "code",
      "source": [
        "dtc.fit(x_train, t_train)\n",
        "print(dtr.score(x_test, t_test))"
      ],
      "metadata": {
        "colab": {
          "base_uri": "https://localhost:8080/"
        },
        "id": "lP0U9Zqli5-W",
        "outputId": "7d048471-fede-4c9a-845d-cfb9f6a44d09"
      },
      "execution_count": 231,
      "outputs": [
        {
          "output_type": "stream",
          "name": "stdout",
          "text": [
            "-0.2898375331564984\n"
          ]
        }
      ]
    },
    {
      "cell_type": "code",
      "source": [
        "t_pred = dtc.predict(x_test)\n",
        "metrics.accuracy_score(t_test, t_pred)"
      ],
      "metadata": {
        "colab": {
          "base_uri": "https://localhost:8080/",
          "height": 37
        },
        "id": "i0cyl7Hvi6DJ",
        "outputId": "9febc23a-5d56-41d6-ec62-8c37d15b33fe"
      },
      "execution_count": 233,
      "outputs": [
        {
          "output_type": "execute_result",
          "data": {
            "text/plain": [
              "0.8864696734059098"
            ],
            "image/png": "[encoded data removed]",
            "text/latex": "$\\displaystyle 0.88646967340591$"
          },
          "metadata": {},
          "execution_count": 233
        }
      ]
    },
    {
      "cell_type": "code",
      "source": [
        "dtc.fit(x_train, e_train)\n",
        "print(dtr.score(x_test, e_test))"
      ],
      "metadata": {
        "colab": {
          "base_uri": "https://localhost:8080/"
        },
        "id": "ur431fgpi6FM",
        "outputId": "3838d7e9-5947-4eda-fe2e-82349aee23d8"
      },
      "execution_count": 234,
      "outputs": [
        {
          "output_type": "stream",
          "name": "stdout",
          "text": [
            "-0.006977402556187062\n"
          ]
        }
      ]
    },
    {
      "cell_type": "code",
      "source": [
        "e_pred = dtc.predict(x_test)"
      ],
      "metadata": {
        "id": "AQVXufXri6HQ"
      },
      "execution_count": 235,
      "outputs": []
    },
    {
      "cell_type": "code",
      "source": [
        "def get_ps_weights(clf, x, t):\n",
        "    ti = np.squeeze(t)\n",
        "    clf.fit(x, ti)\n",
        "    ptx = clf.predict_proba(x).T[1].T + 0.0001 # add a small value to avoid dividing by 0\n",
        "    # Given ti and ptx values, compute the weights wi (see formula above):\n",
        "    a= ti/ptx\n",
        "    b= ((1-ti)/(1-ptx)) \n",
        "\n",
        "    wi = a+b # YOUR CODE HERE\n",
        "    return wi\n",
        "\n",
        "weights = get_ps_weights(prop_clf, x_train, t_train)\n",
        "\n",
        "dtr.fit(x_train, t_train, sample_weight= weights)\n",
        "t_pred = dtc.predict(x_test)\n",
        "\n",
        "\n",
        "# Compute ITEs\n",
        "t_ipsw_test =  t_test - t_pred# YOUR CODE HERE\n",
        "print(t_ipsw_test.mean())"
      ],
      "metadata": {
        "colab": {
          "base_uri": "https://localhost:8080/"
        },
        "id": "6_jkmlFfjbqi",
        "outputId": "6ec2bb3c-b016-4984-eeba-b93dbf820f6d"
      },
      "execution_count": 236,
      "outputs": [
        {
          "output_type": "stream",
          "name": "stdout",
          "text": [
            "-0.11975116640746501\n"
          ]
        }
      ]
    },
    {
      "cell_type": "markdown",
      "source": [
        "# Model Evaluation"
      ],
      "metadata": {
        "id": "Oct_GeCjjkXy"
      }
    },
    {
      "cell_type": "code",
      "source": [
        "#Confusion matrix\n",
        "\n",
        "from sklearn.metrics import confusion_matrix\n",
        "confusion_matrix(e_test, e_pred)"
      ],
      "metadata": {
        "colab": {
          "base_uri": "https://localhost:8080/"
        },
        "id": "naZJAypEjb0d",
        "outputId": "eb80bedc-24ca-4203-a794-77501b8ca8f6"
      },
      "execution_count": 237,
      "outputs": [
        {
          "output_type": "execute_result",
          "data": {
            "text/plain": [
              "array([[479,  27],\n",
              "       [ 29, 108]])"
            ]
          },
          "metadata": {},
          "execution_count": 237
        }
      ]
    },
    {
      "cell_type": "code",
      "source": [
        "#classification report for finding precision, recall, f1-score, support\n",
        "\n",
        "from sklearn.metrics import classification_report\n",
        "print(classification_report(e_test, e_pred))"
      ],
      "metadata": {
        "colab": {
          "base_uri": "https://localhost:8080/"
        },
        "id": "DD4roq6xjb8y",
        "outputId": "d9068efd-d0c5-4a6b-c879-e6fabb4ca948"
      },
      "execution_count": 238,
      "outputs": [
        {
          "output_type": "stream",
          "name": "stdout",
          "text": [
            "              precision    recall  f1-score   support\n",
            "\n",
            "         0.0       0.94      0.95      0.94       506\n",
            "         1.0       0.80      0.79      0.79       137\n",
            "\n",
            "    accuracy                           0.91       643\n",
            "   macro avg       0.87      0.87      0.87       643\n",
            "weighted avg       0.91      0.91      0.91       643\n",
            "\n"
          ]
        }
      ]
    },
    {
      "cell_type": "code",
      "source": [
        "# X-Learner\n",
        "xl = XLearner(models=RandomForestRegressor(), propensity_model=RandomForestClassifier())\n",
        "xl.fit(y_train, t_train, X=x_train)\n",
        "\n",
        "xl_te_test = xl.effect(x_test)\n",
        "\n",
        "print(xl_te_test.mean())"
      ],
      "metadata": {
        "colab": {
          "base_uri": "https://localhost:8080/"
        },
        "id": "WKkyQfmUjcAD",
        "outputId": "c39237a4-dc0c-4e86-b52a-6f6a627c076b"
      },
      "execution_count": 239,
      "outputs": [
        {
          "output_type": "stream",
          "name": "stdout",
          "text": [
            "-0.04301326578345489\n"
          ]
        },
        {
          "output_type": "stream",
          "name": "stderr",
          "text": [
            "Function get_feature_names is deprecated; get_feature_names is deprecated in 1.0 and will be removed in 1.2. Please use get_feature_names_out instead.\n"
          ]
        }
      ]
    },
    {
      "cell_type": "code",
      "source": [
        ""
      ],
      "metadata": {
        "id": "FnrCoAfajcEO"
      },
      "execution_count": null,
      "outputs": []
    },
    {
      "cell_type": "code",
      "source": [
        ""
      ],
      "metadata": {
        "id": "X5H-_ATIjcIF"
      },
      "execution_count": null,
      "outputs": []
    },
    {
      "cell_type": "code",
      "source": [
        ""
      ],
      "metadata": {
        "id": "Eld8EBg7jcL7"
      },
      "execution_count": null,
      "outputs": []
    },
    {
      "cell_type": "code",
      "source": [
        ""
      ],
      "metadata": {
        "id": "l2fQKpYtjcPR"
      },
      "execution_count": null,
      "outputs": []
    },
    {
      "cell_type": "code",
      "source": [
        ""
      ],
      "metadata": {
        "id": "yFVcNmaIjcVb"
      },
      "execution_count": null,
      "outputs": []
    }
  ]
}