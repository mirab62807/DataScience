{
  "cells": [
    {
      "cell_type": "markdown",
      "metadata": {
        "id": "view-in-github",
        "colab_type": "text"
      },
      "source": [
        "<a href=\"https://colab.research.google.com/github/mirab62807/DataScience/blob/main/lab8/rnn.ipynb\" target=\"_parent\"><img src=\"https://colab.research.google.com/assets/colab-badge.svg\" alt=\"Open In Colab\"/></a>"
      ]
    },
    {
      "cell_type": "markdown",
      "source": [
        "# Learning from Sequences: Timeseries and Text\n",
        "\n",
        "Created by Dr Ana Matran-Fernandez (amatra@essex.ac.uk) for CE888 (Data Science and Decision Making)\n",
        "\n",
        "This notebook accompanies lecture 8 and illustrates recurrent neural networks on an example of a timeseries (predicting tomorrow's temperature) and a classification problem on the IMDB text dataset."
      ],
      "metadata": {
        "id": "gS1IIAS-bcb-"
      }
    },
    {
      "cell_type": "markdown",
      "source": [
        "# Imports"
      ],
      "metadata": {
        "id": "0myiQp20cxRK"
      }
    },
    {
      "cell_type": "code",
      "execution_count": 1,
      "metadata": {
        "id": "1J0bYBQ7_a0L"
      },
      "outputs": [],
      "source": [
        "# imports\n",
        "import numpy as np\n",
        "import matplotlib.pyplot as plt\n",
        "import os\n",
        "import pandas as pd\n",
        "from sklearn.model_selection import train_test_split"
      ]
    },
    {
      "cell_type": "code",
      "execution_count": 2,
      "metadata": {
        "id": "U0NPDv7X_a0M"
      },
      "outputs": [],
      "source": [
        "# tensorflow imports\n",
        "from tensorflow import keras\n",
        "from keras import layers, models\n",
        "from keras.callbacks import EarlyStopping, ModelCheckpoint"
      ]
    },
    {
      "cell_type": "markdown",
      "source": [
        "# Timeseries"
      ],
      "metadata": {
        "id": "xaiw_VZjbtSH"
      }
    },
    {
      "cell_type": "code",
      "execution_count": 4,
      "metadata": {
        "colab": {
          "base_uri": "https://localhost:8080/",
          "height": 424
        },
        "id": "iA_R1Q-K_a0N",
        "outputId": "d84d46fb-e8ee-4a17-bd5c-36e75d1fcea5"
      },
      "outputs": [
        {
          "output_type": "execute_result",
          "data": {
            "text/plain": [
              "                  date  radiation_avg  precip  wind_avg  wind_max  temp_avg  \\\n",
              "0     14/05/2014 00:00            159     0.0       1.4       3.3     14.27   \n",
              "1     15/05/2014 00:00            280     0.0       0.6       2.3     13.51   \n",
              "2     16/05/2014 00:00            186     3.4       0.8       2.7     15.65   \n",
              "3     17/05/2014 00:00            221     0.0       1.0       3.3     17.46   \n",
              "4     18/05/2014 00:00            255     0.0       2.1       5.5     16.85   \n",
              "...                ...            ...     ...       ...       ...       ...   \n",
              "2551  17/05/2021 00:00            196     1.4       2.2       5.5     10.51   \n",
              "2552  17/05/2021 00:00            173     2.8       1.8       5.5     10.80   \n",
              "2553  18/05/2021 00:00            311     0.0       1.4       5.0     10.29   \n",
              "2554  19/05/2021 00:00            232     6.6       1.8       5.5     11.39   \n",
              "2555  20/05/2021 00:00             44     0.0       0.5       2.7      6.35   \n",
              "\n",
              "      humidity_avg  \n",
              "0            64.95  \n",
              "1            72.91  \n",
              "2            74.69  \n",
              "3            71.42  \n",
              "4            74.45  \n",
              "...            ...  \n",
              "2551         99.86  \n",
              "2552         99.86  \n",
              "2553         92.94  \n",
              "2554         90.32  \n",
              "2555         99.86  \n",
              "\n",
              "[2556 rows x 7 columns]"
            ],
            "text/html": [
              "\n",
              "  <div id=\"df-98f26272-d169-41d5-a47c-820da2ae790a\">\n",
              "    <div class=\"colab-df-container\">\n",
              "      <div>\n",
              "<style scoped>\n",
              "    .dataframe tbody tr th:only-of-type {\n",
              "        vertical-align: middle;\n",
              "    }\n",
              "\n",
              "    .dataframe tbody tr th {\n",
              "        vertical-align: top;\n",
              "    }\n",
              "\n",
              "    .dataframe thead th {\n",
              "        text-align: right;\n",
              "    }\n",
              "</style>\n",
              "<table border=\"1\" class=\"dataframe\">\n",
              "  <thead>\n",
              "    <tr style=\"text-align: right;\">\n",
              "      <th></th>\n",
              "      <th>date</th>\n",
              "      <th>radiation_avg</th>\n",
              "      <th>precip</th>\n",
              "      <th>wind_avg</th>\n",
              "      <th>wind_max</th>\n",
              "      <th>temp_avg</th>\n",
              "      <th>humidity_avg</th>\n",
              "    </tr>\n",
              "  </thead>\n",
              "  <tbody>\n",
              "    <tr>\n",
              "      <th>0</th>\n",
              "      <td>14/05/2014 00:00</td>\n",
              "      <td>159</td>\n",
              "      <td>0.0</td>\n",
              "      <td>1.4</td>\n",
              "      <td>3.3</td>\n",
              "      <td>14.27</td>\n",
              "      <td>64.95</td>\n",
              "    </tr>\n",
              "    <tr>\n",
              "      <th>1</th>\n",
              "      <td>15/05/2014 00:00</td>\n",
              "      <td>280</td>\n",
              "      <td>0.0</td>\n",
              "      <td>0.6</td>\n",
              "      <td>2.3</td>\n",
              "      <td>13.51</td>\n",
              "      <td>72.91</td>\n",
              "    </tr>\n",
              "    <tr>\n",
              "      <th>2</th>\n",
              "      <td>16/05/2014 00:00</td>\n",
              "      <td>186</td>\n",
              "      <td>3.4</td>\n",
              "      <td>0.8</td>\n",
              "      <td>2.7</td>\n",
              "      <td>15.65</td>\n",
              "      <td>74.69</td>\n",
              "    </tr>\n",
              "    <tr>\n",
              "      <th>3</th>\n",
              "      <td>17/05/2014 00:00</td>\n",
              "      <td>221</td>\n",
              "      <td>0.0</td>\n",
              "      <td>1.0</td>\n",
              "      <td>3.3</td>\n",
              "      <td>17.46</td>\n",
              "      <td>71.42</td>\n",
              "    </tr>\n",
              "    <tr>\n",
              "      <th>4</th>\n",
              "      <td>18/05/2014 00:00</td>\n",
              "      <td>255</td>\n",
              "      <td>0.0</td>\n",
              "      <td>2.1</td>\n",
              "      <td>5.5</td>\n",
              "      <td>16.85</td>\n",
              "      <td>74.45</td>\n",
              "    </tr>\n",
              "    <tr>\n",
              "      <th>...</th>\n",
              "      <td>...</td>\n",
              "      <td>...</td>\n",
              "      <td>...</td>\n",
              "      <td>...</td>\n",
              "      <td>...</td>\n",
              "      <td>...</td>\n",
              "      <td>...</td>\n",
              "    </tr>\n",
              "    <tr>\n",
              "      <th>2551</th>\n",
              "      <td>17/05/2021 00:00</td>\n",
              "      <td>196</td>\n",
              "      <td>1.4</td>\n",
              "      <td>2.2</td>\n",
              "      <td>5.5</td>\n",
              "      <td>10.51</td>\n",
              "      <td>99.86</td>\n",
              "    </tr>\n",
              "    <tr>\n",
              "      <th>2552</th>\n",
              "      <td>17/05/2021 00:00</td>\n",
              "      <td>173</td>\n",
              "      <td>2.8</td>\n",
              "      <td>1.8</td>\n",
              "      <td>5.5</td>\n",
              "      <td>10.80</td>\n",
              "      <td>99.86</td>\n",
              "    </tr>\n",
              "    <tr>\n",
              "      <th>2553</th>\n",
              "      <td>18/05/2021 00:00</td>\n",
              "      <td>311</td>\n",
              "      <td>0.0</td>\n",
              "      <td>1.4</td>\n",
              "      <td>5.0</td>\n",
              "      <td>10.29</td>\n",
              "      <td>92.94</td>\n",
              "    </tr>\n",
              "    <tr>\n",
              "      <th>2554</th>\n",
              "      <td>19/05/2021 00:00</td>\n",
              "      <td>232</td>\n",
              "      <td>6.6</td>\n",
              "      <td>1.8</td>\n",
              "      <td>5.5</td>\n",
              "      <td>11.39</td>\n",
              "      <td>90.32</td>\n",
              "    </tr>\n",
              "    <tr>\n",
              "      <th>2555</th>\n",
              "      <td>20/05/2021 00:00</td>\n",
              "      <td>44</td>\n",
              "      <td>0.0</td>\n",
              "      <td>0.5</td>\n",
              "      <td>2.7</td>\n",
              "      <td>6.35</td>\n",
              "      <td>99.86</td>\n",
              "    </tr>\n",
              "  </tbody>\n",
              "</table>\n",
              "<p>2556 rows × 7 columns</p>\n",
              "</div>\n",
              "      <button class=\"colab-df-convert\" onclick=\"convertToInteractive('df-98f26272-d169-41d5-a47c-820da2ae790a')\"\n",
              "              title=\"Convert this dataframe to an interactive table.\"\n",
              "              style=\"display:none;\">\n",
              "        \n",
              "  <svg xmlns=\"http://www.w3.org/2000/svg\" height=\"24px\"viewBox=\"0 0 24 24\"\n",
              "       width=\"24px\">\n",
              "    <path d=\"M0 0h24v24H0V0z\" fill=\"none\"/>\n",
              "    <path d=\"M18.56 5.44l.94 2.06.94-2.06 2.06-.94-2.06-.94-.94-2.06-.94 2.06-2.06.94zm-11 1L8.5 8.5l.94-2.06 2.06-.94-2.06-.94L8.5 2.5l-.94 2.06-2.06.94zm10 10l.94 2.06.94-2.06 2.06-.94-2.06-.94-.94-2.06-.94 2.06-2.06.94z\"/><path d=\"M17.41 7.96l-1.37-1.37c-.4-.4-.92-.59-1.43-.59-.52 0-1.04.2-1.43.59L10.3 9.45l-7.72 7.72c-.78.78-.78 2.05 0 2.83L4 21.41c.39.39.9.59 1.41.59.51 0 1.02-.2 1.41-.59l7.78-7.78 2.81-2.81c.8-.78.8-2.07 0-2.86zM5.41 20L4 18.59l7.72-7.72 1.47 1.35L5.41 20z\"/>\n",
              "  </svg>\n",
              "      </button>\n",
              "      \n",
              "  <style>\n",
              "    .colab-df-container {\n",
              "      display:flex;\n",
              "      flex-wrap:wrap;\n",
              "      gap: 12px;\n",
              "    }\n",
              "\n",
              "    .colab-df-convert {\n",
              "      background-color: #E8F0FE;\n",
              "      border: none;\n",
              "      border-radius: 50%;\n",
              "      cursor: pointer;\n",
              "      display: none;\n",
              "      fill: #1967D2;\n",
              "      height: 32px;\n",
              "      padding: 0 0 0 0;\n",
              "      width: 32px;\n",
              "    }\n",
              "\n",
              "    .colab-df-convert:hover {\n",
              "      background-color: #E2EBFA;\n",
              "      box-shadow: 0px 1px 2px rgba(60, 64, 67, 0.3), 0px 1px 3px 1px rgba(60, 64, 67, 0.15);\n",
              "      fill: #174EA6;\n",
              "    }\n",
              "\n",
              "    [theme=dark] .colab-df-convert {\n",
              "      background-color: #3B4455;\n",
              "      fill: #D2E3FC;\n",
              "    }\n",
              "\n",
              "    [theme=dark] .colab-df-convert:hover {\n",
              "      background-color: #434B5C;\n",
              "      box-shadow: 0px 1px 3px 1px rgba(0, 0, 0, 0.15);\n",
              "      filter: drop-shadow(0px 1px 2px rgba(0, 0, 0, 0.3));\n",
              "      fill: #FFFFFF;\n",
              "    }\n",
              "  </style>\n",
              "\n",
              "      <script>\n",
              "        const buttonEl =\n",
              "          document.querySelector('#df-98f26272-d169-41d5-a47c-820da2ae790a button.colab-df-convert');\n",
              "        buttonEl.style.display =\n",
              "          google.colab.kernel.accessAllowed ? 'block' : 'none';\n",
              "\n",
              "        async function convertToInteractive(key) {\n",
              "          const element = document.querySelector('#df-98f26272-d169-41d5-a47c-820da2ae790a');\n",
              "          const dataTable =\n",
              "            await google.colab.kernel.invokeFunction('convertToInteractive',\n",
              "                                                     [key], {});\n",
              "          if (!dataTable) return;\n",
              "\n",
              "          const docLinkHtml = 'Like what you see? Visit the ' +\n",
              "            '<a target=\"_blank\" href=https://colab.research.google.com/notebooks/data_table.ipynb>data table notebook</a>'\n",
              "            + ' to learn more about interactive tables.';\n",
              "          element.innerHTML = '';\n",
              "          dataTable['output_type'] = 'display_data';\n",
              "          await google.colab.output.renderOutput(dataTable, element);\n",
              "          const docLink = document.createElement('div');\n",
              "          docLink.innerHTML = docLinkHtml;\n",
              "          element.appendChild(docLink);\n",
              "        }\n",
              "      </script>\n",
              "    </div>\n",
              "  </div>\n",
              "  "
            ]
          },
          "metadata": {},
          "execution_count": 4
        }
      ],
      "source": [
        "df = pd.read_csv('weather.csv')\n",
        "df.drop(['temp_max', 'temp_min'], axis=1, inplace=True)\n",
        "df"
      ]
    },
    {
      "cell_type": "code",
      "execution_count": 5,
      "metadata": {
        "colab": {
          "base_uri": "https://localhost:8080/",
          "height": 279
        },
        "id": "nzsytNAh_a0N",
        "outputId": "dff82688-1009-4e80-d03e-36e965c8ec0c"
      },
      "outputs": [
        {
          "output_type": "display_data",
          "data": {
            "text/plain": [
              "<Figure size 432x288 with 1 Axes>"
            ],
            "image/png": "[encoded data removed]"
          },
          "metadata": {
            "needs_background": "light"
          }
        }
      ],
      "source": [
        "plt.plot(range(len(df)), df['temp_avg'])\n",
        "plt.xlabel('Temporal range')\n",
        "plt.ylabel('Average temperature (C) (7 years)')\n",
        "plt.savefig('temperature_over_time.pdf', bbox_inches='tight')"
      ]
    },
    {
      "cell_type": "code",
      "execution_count": 6,
      "metadata": {
        "colab": {
          "base_uri": "https://localhost:8080/",
          "height": 279
        },
        "id": "ysbM2n99_a0N",
        "outputId": "e4b732f4-a50d-4705-b4bb-d9546c22d097"
      },
      "outputs": [
        {
          "output_type": "display_data",
          "data": {
            "text/plain": [
              "<Figure size 432x288 with 1 Axes>"
            ],
            "image/png": "[encoded data removed]"
          },
          "metadata": {
            "needs_background": "light"
          }
        }
      ],
      "source": [
        "# Look at the first 2 years\n",
        "length = 2*365\n",
        "plt.plot(range(length), df['temp_avg'][:length])\n",
        "plt.xlabel('Temporal range')\n",
        "plt.ylabel('Average temperature (C) (2 years)')\n",
        "plt.savefig('temperature_over_time_2y.pdf', bbox_inches='tight')"
      ]
    },
    {
      "cell_type": "markdown",
      "metadata": {
        "id": "ikyqi2m7_a0O"
      },
      "source": [
        "We have clear periodicity every year. In the previous plot we saw 7 cycles (7 years). Here we see 2.\n",
        "\n",
        "Always look for periodicity in your timeseries. There will always be daily and yearly cycles. Check these patterns.\n",
        "\n",
        "Another issue with timeseries is dividing the dataset into train/validation/test sets. We definitely cannot shuffle the data, and we need to be very careful with data leakage (using data from the future)."
      ]
    },
    {
      "cell_type": "markdown",
      "metadata": {
        "id": "1fxuW2ne_a0P"
      },
      "source": [
        "## Data prep\n",
        "\n",
        "We'll try to predict the average temperature of tomorrow based on data from the past.\n",
        "\n",
        "To avoid data leakage, we're going to use a simple approach: use the first 50% of data for training, the next 30% for validation, and the final 20% for testing.\n"
      ]
    },
    {
      "cell_type": "code",
      "execution_count": 7,
      "metadata": {
        "colab": {
          "base_uri": "https://localhost:8080/"
        },
        "id": "vofGsYen_a0P",
        "outputId": "c1648339-1eee-47cf-b6d9-4a0e53165b88"
      },
      "outputs": [
        {
          "output_type": "stream",
          "name": "stdout",
          "text": [
            "Samples for training: 1278; validation: 766; test: 512\n"
          ]
        }
      ],
      "source": [
        "n_tr, n_val = int(0.5*len(df)), int(0.3*len(df))\n",
        "n_te = len(df) - n_tr - n_val\n",
        "print('Samples for training: %d; validation: %d; test: %d' % (n_tr, n_val, n_te))"
      ]
    },
    {
      "cell_type": "code",
      "execution_count": 8,
      "metadata": {
        "colab": {
          "base_uri": "https://localhost:8080/"
        },
        "id": "lsMDT2Jq_a0P",
        "outputId": "8f7d3708-52d1-4be0-88c5-1bc627ccca14"
      },
      "outputs": [
        {
          "output_type": "stream",
          "name": "stdout",
          "text": [
            "(2556, 6)\n"
          ]
        }
      ],
      "source": [
        "# Get the data from the dataframe (dropping date column)\n",
        "data = df.iloc[:, 1:].values\n",
        "print(data.shape)\n",
        "assert data.shape[0] == len(df)\n",
        "assert data.shape[1] == len(df.columns)-1, \"Are you sure you're dropping the date?\"\n",
        "# We need to normalise our time series. Calculate mean and std from TRAINING DATA ONLY. \n",
        "# We'll use it on the validation and test sets.\n",
        "mean_tr = data[:n_tr, :].mean(axis=0)\n",
        "std_tr = data[:n_tr, :].std(axis=0)\n",
        "data = (data - mean_tr) / std_tr\n",
        "\n",
        "\n",
        "y = df['temp_avg'].values.reshape(-1, 1)\n",
        "\n",
        "# index of the column that contains the avg_temp\n",
        "y_idx = 4"
      ]
    },
    {
      "cell_type": "code",
      "source": [
        "data[:20, y_idx] * std_tr[y_idx] + mean_tr[y_idx]"
      ],
      "metadata": {
        "colab": {
          "base_uri": "https://localhost:8080/"
        },
        "id": "1VJAcdfICLi1",
        "outputId": "37c56e74-7bc9-4352-8ae5-0756c50d0af9"
      },
      "execution_count": 9,
      "outputs": [
        {
          "output_type": "execute_result",
          "data": {
            "text/plain": [
              "array([14.27, 13.51, 15.65, 17.46, 16.85, 18.26, 17.35, 15.55, 14.52,\n",
              "       13.93, 11.48, 13.63, 12.81, 12.4 , 13.67, 14.15, 13.22, 12.21,\n",
              "       15.53, 14.52])"
            ]
          },
          "metadata": {},
          "execution_count": 9
        }
      ]
    },
    {
      "cell_type": "code",
      "source": [
        "y[5:25]"
      ],
      "metadata": {
        "colab": {
          "base_uri": "https://localhost:8080/"
        },
        "id": "xN-YJyEeCUv9",
        "outputId": "b830aa8b-80b2-4abd-e56c-b7a0f337a0b7"
      },
      "execution_count": 10,
      "outputs": [
        {
          "output_type": "execute_result",
          "data": {
            "text/plain": [
              "array([[18.26],\n",
              "       [17.35],\n",
              "       [15.55],\n",
              "       [14.52],\n",
              "       [13.93],\n",
              "       [11.48],\n",
              "       [13.63],\n",
              "       [12.81],\n",
              "       [12.4 ],\n",
              "       [13.67],\n",
              "       [14.15],\n",
              "       [13.22],\n",
              "       [12.21],\n",
              "       [15.53],\n",
              "       [14.52],\n",
              "       [15.35],\n",
              "       [12.29],\n",
              "       [13.88],\n",
              "       [15.13],\n",
              "       [17.29]])"
            ]
          },
          "metadata": {},
          "execution_count": 10
        }
      ]
    },
    {
      "cell_type": "code",
      "execution_count": 11,
      "metadata": {
        "id": "K_JGeiAs_a0Q"
      },
      "outputs": [],
      "source": [
        "# We'll use a Dataset from keras to pass our data\n",
        "sampling_rate = 1  # we keep all data points\n",
        "sequence_length = 14  # 2 weeks to predict tomorrow's temperature\n",
        "delay = sampling_rate * sequence_length  # the target is the day after the end of the sequence\n",
        "batch_size = 16"
      ]
    },
    {
      "cell_type": "code",
      "execution_count": 12,
      "metadata": {
        "colab": {
          "base_uri": "https://localhost:8080/"
        },
        "id": "cRDGWNYl_a0Q",
        "outputId": "bfcde917-858c-406d-e121-ab8e687ac50e"
      },
      "outputs": [
        {
          "output_type": "stream",
          "name": "stdout",
          "text": [
            "X shape: (16, 14, 6)\n",
            "target shape: (16, 1)\n"
          ]
        }
      ],
      "source": [
        "train_dataset = keras.utils.timeseries_dataset_from_array(\n",
        "    data[:-delay],\n",
        "    targets=y[delay:],\n",
        "    sampling_rate=sampling_rate, sequence_length=sequence_length,\n",
        "    batch_size=batch_size,\n",
        "    start_index=0, end_index=n_tr  # first 50% for training\n",
        "    )\n",
        "\n",
        "val_dataset = keras.utils.timeseries_dataset_from_array(\n",
        "    data[:-delay],\n",
        "    targets=y[delay:],\n",
        "    sampling_rate=sampling_rate, sequence_length=sequence_length,\n",
        "    batch_size=batch_size,\n",
        "    start_index=n_tr, end_index=n_tr+n_val  # 50%-80% for validation\n",
        "    )\n",
        "\n",
        "test_dataset = keras.utils.timeseries_dataset_from_array(\n",
        "    data[:-delay],\n",
        "    targets=y[delay:],\n",
        "    sampling_rate=sampling_rate, sequence_length=sequence_length,\n",
        "    batch_size=batch_size,\n",
        "    start_index=n_tr+n_val  # last 20% for test\n",
        "    )\n",
        "\n",
        "for X, target in train_dataset:\n",
        "    print(\"X shape:\", X.shape)\n",
        "    print(\"target shape:\", target.shape)\n",
        "    #print(X[:, :, y_idx] * std_tr[y_idx] + mean_tr[y_idx])\n",
        "    #print(target)\n",
        "    break  # so we only print once"
      ]
    },
    {
      "cell_type": "code",
      "source": [
        "# Function to plot history with neural networks\n",
        "def plot_hist_regression(hist, y):\n",
        "  n_ = len(hist.history['mae'])\n",
        "  plt.plot(range(1, n_+1), np.asarray(hist.history['mae']), 'bo', label='MAE on training set')\n",
        "  plt.plot(range(1, n_+1), np.asarray(hist.history['val_mae']), 'b', label='MAE on validation set')\n",
        "  plt.legend()\n",
        "  plt.xlabel(\"Epoch\") \n",
        "  plt.ylabel(\"MAE (degrees)\")\n",
        "  plt.axhline(y=y)\n",
        "  plt.show()\n"
      ],
      "metadata": {
        "id": "u_v2rAW_W4kQ"
      },
      "execution_count": 13,
      "outputs": []
    },
    {
      "cell_type": "markdown",
      "metadata": {
        "id": "WlhjIvZR_a0Q"
      },
      "source": [
        "## Establishing a baseline\n"
      ]
    },
    {
      "cell_type": "markdown",
      "source": [
        "### Common sense, no ML baseline\n",
        "\n",
        "- Sanity check\n",
        "- To establish whether ML methods are actually any good\n",
        "\n",
        "Tomorrow's temperature is likely to be close to today's: let's predict that the temperature 24 hours from now will be equal to the temperature right now.\n",
        "\n",
        "We'll use the MAE as metric"
      ],
      "metadata": {
        "id": "rloJamyvWPWj"
      }
    },
    {
      "cell_type": "code",
      "execution_count": 14,
      "metadata": {
        "colab": {
          "base_uri": "https://localhost:8080/"
        },
        "id": "MUY5acIf_a0Q",
        "outputId": "3397715f-7b69-4f6a-d862-ba37397b7322"
      },
      "outputs": [
        {
          "output_type": "stream",
          "name": "stdout",
          "text": [
            "MAE on train set = 2.56 (degrees Celsius)\n",
            "MAE on validation set = 2.69 (degrees Celsius)\n",
            "MAE on test set = 2.85 (degrees Celsius)\n"
          ]
        }
      ],
      "source": [
        "def naive_method(dataset, mean, std):\n",
        "    error = 0\n",
        "    samples = 0\n",
        "    count = 0\n",
        "    for X, target in dataset:\n",
        "        pred = X[:, -1, y_idx] * std + mean  # predict last available temperature and un-standardise\n",
        "        #print(X.shape, target.shape, pred.shape)  # [batch_size, sequence_length, n_feats]\n",
        "        #print(X[:, -1, y_idx] * std + mean, target)\n",
        "        error += np.sum(np.abs(pred - target))\n",
        "        samples += X.shape[0]  # batch_size\n",
        "        count += 1\n",
        "    return error / samples / batch_size # average\n",
        "\n",
        "\n",
        "print('MAE on train set = %.2f (degrees Celsius)' % naive_method(train_dataset, mean_tr[y_idx], std_tr[y_idx]))\n",
        "print('MAE on validation set = %.2f (degrees Celsius)' % naive_method(val_dataset, mean_tr[y_idx], std_tr[y_idx]))\n",
        "print('MAE on test set = %.2f (degrees Celsius)' % naive_method(test_dataset, mean_tr[y_idx], std_tr[y_idx]))\n",
        "# Save MAE on validation for later\n",
        "baseline = naive_method(val_dataset, mean_tr[y_idx], std_tr[y_idx])"
      ]
    },
    {
      "cell_type": "markdown",
      "source": [
        "This baseline achieves a validation MAE of 2.69 degrees and a test MAE of 2.85 degrees. So if we assume that tomorrow's temperature will be the same as today's, we'll be off by less than 3 degrees on average.\n",
        "\n",
        "Not too bad, but surely we can do better!"
      ],
      "metadata": {
        "id": "znycUtxiJmAF"
      }
    },
    {
      "cell_type": "markdown",
      "metadata": {
        "id": "7c-duA1Z_a0R"
      },
      "source": [
        "### Simple ML baseline\n",
        "\n",
        "\n"
      ]
    },
    {
      "cell_type": "code",
      "source": [
        "# To get some practice with neural networks, we'll try a 1-layer NN with nothing fancy.\n",
        "\n",
        "model_dense = models.Sequential()\n",
        "model_dense.add(layers.Flatten(input_shape=(sequence_length, len(df.columns)-1)))  # we need to specify the input shape or we won't be able to see the summary\n",
        "model_dense.add(layers.Dense(10, activation='relu'))\n",
        "model_dense.add(layers.Dense(1))\n",
        "\n",
        "model_dense.summary()"
      ],
      "metadata": {
        "colab": {
          "base_uri": "https://localhost:8080/"
        },
        "id": "fWGqpICHJlRe",
        "outputId": "cd6af093-7a7d-4770-bafb-fffc67467356"
      },
      "execution_count": 15,
      "outputs": [
        {
          "output_type": "stream",
          "name": "stdout",
          "text": [
            "Model: \"sequential\"\n",
            "_________________________________________________________________\n",
            " Layer (type)                Output Shape              Param #   \n",
            "=================================================================\n",
            " flatten (Flatten)           (None, 84)                0         \n",
            "                                                                 \n",
            " dense (Dense)               (None, 10)                850       \n",
            "                                                                 \n",
            " dense_1 (Dense)             (None, 1)                 11        \n",
            "                                                                 \n",
            "=================================================================\n",
            "Total params: 861\n",
            "Trainable params: 861\n",
            "Non-trainable params: 0\n",
            "_________________________________________________________________\n"
          ]
        }
      ]
    },
    {
      "cell_type": "code",
      "source": [
        "n_epochs = 20\n",
        "\n",
        "model_dense.compile(optimizer='rmsprop', loss='mse', metrics=['mae'])\n",
        "history_dense = model_dense.fit(train_dataset, epochs=n_epochs, validation_data=val_dataset)"
      ],
      "metadata": {
        "colab": {
          "base_uri": "https://localhost:8080/"
        },
        "id": "p0Hz1rX8LMfT",
        "outputId": "7f594b4e-ed24-41c2-f209-6896bbf6d7f8"
      },
      "execution_count": 16,
      "outputs": [
        {
          "output_type": "stream",
          "name": "stdout",
          "text": [
            "Epoch 1/20\n",
            "80/80 [==============================] - 7s 24ms/step - loss: 135.4040 - mae: 10.5879 - val_loss: 116.8142 - val_mae: 9.7539\n",
            "Epoch 2/20\n",
            "80/80 [==============================] - 1s 10ms/step - loss: 105.3980 - mae: 9.3628 - val_loss: 89.8879 - val_mae: 8.5786\n",
            "Epoch 3/20\n",
            "80/80 [==============================] - 1s 10ms/step - loss: 76.6446 - mae: 7.9193 - val_loss: 64.0504 - val_mae: 7.1297\n",
            "Epoch 4/20\n",
            "80/80 [==============================] - 1s 10ms/step - loss: 52.7821 - mae: 6.3876 - val_loss: 44.7328 - val_mae: 5.6549\n",
            "Epoch 5/20\n",
            "80/80 [==============================] - 1s 10ms/step - loss: 38.8816 - mae: 5.2653 - val_loss: 35.2240 - val_mae: 4.8760\n",
            "Epoch 6/20\n",
            "80/80 [==============================] - 1s 10ms/step - loss: 33.5536 - mae: 4.8028 - val_loss: 31.8457 - val_mae: 4.6086\n",
            "Epoch 7/20\n",
            "80/80 [==============================] - 1s 10ms/step - loss: 31.1906 - mae: 4.6013 - val_loss: 30.2872 - val_mae: 4.4787\n",
            "Epoch 8/20\n",
            "80/80 [==============================] - 1s 9ms/step - loss: 29.5280 - mae: 4.4614 - val_loss: 29.1125 - val_mae: 4.3864\n",
            "Epoch 9/20\n",
            "80/80 [==============================] - 1s 10ms/step - loss: 28.0004 - mae: 4.3357 - val_loss: 27.8861 - val_mae: 4.2896\n",
            "Epoch 10/20\n",
            "80/80 [==============================] - 1s 10ms/step - loss: 26.5453 - mae: 4.2170 - val_loss: 26.5953 - val_mae: 4.1813\n",
            "Epoch 11/20\n",
            "80/80 [==============================] - 1s 9ms/step - loss: 25.1617 - mae: 4.1044 - val_loss: 25.2754 - val_mae: 4.0701\n",
            "Epoch 12/20\n",
            "80/80 [==============================] - 1s 10ms/step - loss: 23.8146 - mae: 3.9916 - val_loss: 23.9392 - val_mae: 3.9563\n",
            "Epoch 13/20\n",
            "80/80 [==============================] - 1s 10ms/step - loss: 22.5146 - mae: 3.8799 - val_loss: 22.5998 - val_mae: 3.8384\n",
            "Epoch 14/20\n",
            "80/80 [==============================] - 1s 10ms/step - loss: 21.2490 - mae: 3.7668 - val_loss: 21.2950 - val_mae: 3.7200\n",
            "Epoch 15/20\n",
            "80/80 [==============================] - 1s 10ms/step - loss: 20.0130 - mae: 3.6545 - val_loss: 20.0469 - val_mae: 3.6094\n",
            "Epoch 16/20\n",
            "80/80 [==============================] - 1s 9ms/step - loss: 18.8045 - mae: 3.5412 - val_loss: 18.8138 - val_mae: 3.4978\n",
            "Epoch 17/20\n",
            "80/80 [==============================] - 1s 9ms/step - loss: 17.6181 - mae: 3.4260 - val_loss: 17.6434 - val_mae: 3.3878\n",
            "Epoch 18/20\n",
            "80/80 [==============================] - 1s 10ms/step - loss: 16.4970 - mae: 3.3152 - val_loss: 16.5699 - val_mae: 3.2831\n",
            "Epoch 19/20\n",
            "80/80 [==============================] - 1s 9ms/step - loss: 15.4531 - mae: 3.2089 - val_loss: 15.5843 - val_mae: 3.1867\n",
            "Epoch 20/20\n",
            "80/80 [==============================] - 1s 10ms/step - loss: 14.4834 - mae: 3.1065 - val_loss: 14.6780 - val_mae: 3.0936\n"
          ]
        }
      ]
    },
    {
      "cell_type": "code",
      "source": [
        "# Plot MAE cures for validation and training\n",
        "plot_hist_regression(history_dense, baseline)"
      ],
      "metadata": {
        "colab": {
          "base_uri": "https://localhost:8080/",
          "height": 279
        },
        "id": "aBRYn-AKMCi4",
        "outputId": "d993178b-b1a0-4d53-cff8-13c7418acf9d"
      },
      "execution_count": 17,
      "outputs": [
        {
          "output_type": "display_data",
          "data": {
            "text/plain": [
              "<Figure size 432x288 with 1 Axes>"
            ],
            "image/png": "[encoded data removed]"
          },
          "metadata": {
            "needs_background": "light"
          }
        }
      ]
    },
    {
      "cell_type": "markdown",
      "source": [
        "Validation loss is worse than what we had with our common-sense baseline, and we're already overfitting (MAE on training set is lower than on validation set). It turns out our previous baseline is not as easy to outperform as we thought!\n",
        "\n",
        "Remember our 'hypothesis space'? Using 2 Dense layers doesn't seem to be very useful in this case. We need other types of layers for this problem."
      ],
      "metadata": {
        "id": "1EJywOA5NJa9"
      }
    },
    {
      "cell_type": "code",
      "source": [
        "# We know that CNNs take advantage of neighbouring values, so why don't we try that?\n",
        "\n",
        "# In addition to the Conv2D layers we saw last week, there are Conv1D and Conv3D layers. \n",
        "# Conv1D layers rely on 1D windows that slide across an input sequence (imagine a 1D image)\n",
        "\n",
        "model_cnn = models.Sequential()\n",
        "model_cnn.add(layers.Conv1D(8, 7, activation='relu', input_shape=(sequence_length, len(df.columns)-1)))\n",
        "model_cnn.add(layers.MaxPooling1D(2))\n",
        "model_cnn.add(layers.Conv1D(8, 3, activation='relu'))\n",
        "model_cnn.add(layers.MaxPooling1D(2))\n",
        "model_cnn.add(layers.GlobalAveragePooling1D())\n",
        "model_cnn.add(layers.Dense(1))\n",
        "\n",
        "model_cnn.summary()"
      ],
      "metadata": {
        "colab": {
          "base_uri": "https://localhost:8080/"
        },
        "id": "k6PADykQPIjq",
        "outputId": "36081346-eb3e-4f67-db7a-56bedc446863"
      },
      "execution_count": 18,
      "outputs": [
        {
          "output_type": "stream",
          "name": "stdout",
          "text": [
            "Model: \"sequential_1\"\n",
            "_________________________________________________________________\n",
            " Layer (type)                Output Shape              Param #   \n",
            "=================================================================\n",
            " conv1d (Conv1D)             (None, 8, 8)              344       \n",
            "                                                                 \n",
            " max_pooling1d (MaxPooling1D  (None, 4, 8)             0         \n",
            " )                                                               \n",
            "                                                                 \n",
            " conv1d_1 (Conv1D)           (None, 2, 8)              200       \n",
            "                                                                 \n",
            " max_pooling1d_1 (MaxPooling  (None, 1, 8)             0         \n",
            " 1D)                                                             \n",
            "                                                                 \n",
            " global_average_pooling1d (G  (None, 8)                0         \n",
            " lobalAveragePooling1D)                                          \n",
            "                                                                 \n",
            " dense_2 (Dense)             (None, 1)                 9         \n",
            "                                                                 \n",
            "=================================================================\n",
            "Total params: 553\n",
            "Trainable params: 553\n",
            "Non-trainable params: 0\n",
            "_________________________________________________________________\n"
          ]
        }
      ]
    },
    {
      "cell_type": "code",
      "source": [
        "model_cnn.compile(optimizer='rmsprop', loss='mse', metrics=['mae'])\n",
        "history_cnn = model_cnn.fit(train_dataset, epochs=n_epochs,\n",
        "                            validation_data=val_dataset)"
      ],
      "metadata": {
        "colab": {
          "base_uri": "https://localhost:8080/"
        },
        "id": "PSGRJSulQs22",
        "outputId": "a1c71e41-597e-473a-9431-4478f2911701"
      },
      "execution_count": 19,
      "outputs": [
        {
          "output_type": "stream",
          "name": "stdout",
          "text": [
            "Epoch 1/20\n",
            "80/80 [==============================] - 9s 14ms/step - loss: 125.4621 - mae: 10.0602 - val_loss: 98.7982 - val_mae: 8.7633\n",
            "Epoch 2/20\n",
            "80/80 [==============================] - 1s 12ms/step - loss: 66.3379 - mae: 7.1877 - val_loss: 44.2959 - val_mae: 5.7704\n",
            "Epoch 3/20\n",
            "80/80 [==============================] - 1s 11ms/step - loss: 27.9118 - mae: 4.3824 - val_loss: 23.8909 - val_mae: 3.9313\n",
            "Epoch 4/20\n",
            "80/80 [==============================] - 1s 12ms/step - loss: 20.5106 - mae: 3.6533 - val_loss: 21.5885 - val_mae: 3.5831\n",
            "Epoch 5/20\n",
            "80/80 [==============================] - 1s 12ms/step - loss: 17.5905 - mae: 3.3854 - val_loss: 20.8602 - val_mae: 3.4111\n",
            "Epoch 6/20\n",
            "80/80 [==============================] - 1s 11ms/step - loss: 15.6814 - mae: 3.1898 - val_loss: 20.2265 - val_mae: 3.2858\n",
            "Epoch 7/20\n",
            "80/80 [==============================] - 1s 11ms/step - loss: 14.2859 - mae: 3.0352 - val_loss: 19.5880 - val_mae: 3.1917\n",
            "Epoch 8/20\n",
            "80/80 [==============================] - 1s 11ms/step - loss: 13.2821 - mae: 2.9303 - val_loss: 18.8480 - val_mae: 3.1176\n",
            "Epoch 9/20\n",
            "80/80 [==============================] - 1s 11ms/step - loss: 12.4988 - mae: 2.8455 - val_loss: 18.2347 - val_mae: 3.0741\n",
            "Epoch 10/20\n",
            "80/80 [==============================] - 1s 12ms/step - loss: 11.8465 - mae: 2.7677 - val_loss: 17.5165 - val_mae: 3.0311\n",
            "Epoch 11/20\n",
            "80/80 [==============================] - 1s 11ms/step - loss: 11.3265 - mae: 2.7064 - val_loss: 16.8102 - val_mae: 2.9907\n",
            "Epoch 12/20\n",
            "80/80 [==============================] - 1s 11ms/step - loss: 10.9287 - mae: 2.6594 - val_loss: 16.2566 - val_mae: 2.9581\n",
            "Epoch 13/20\n",
            "80/80 [==============================] - 1s 12ms/step - loss: 10.6062 - mae: 2.6211 - val_loss: 15.6978 - val_mae: 2.9274\n",
            "Epoch 14/20\n",
            "80/80 [==============================] - 1s 12ms/step - loss: 10.3204 - mae: 2.5851 - val_loss: 15.3159 - val_mae: 2.9039\n",
            "Epoch 15/20\n",
            "80/80 [==============================] - 1s 12ms/step - loss: 10.0740 - mae: 2.5527 - val_loss: 14.8862 - val_mae: 2.8789\n",
            "Epoch 16/20\n",
            "80/80 [==============================] - 1s 12ms/step - loss: 9.8571 - mae: 2.5238 - val_loss: 14.6141 - val_mae: 2.8626\n",
            "Epoch 17/20\n",
            "80/80 [==============================] - 1s 11ms/step - loss: 9.6622 - mae: 2.4970 - val_loss: 14.3452 - val_mae: 2.8473\n",
            "Epoch 18/20\n",
            "80/80 [==============================] - 1s 11ms/step - loss: 9.4823 - mae: 2.4729 - val_loss: 14.1194 - val_mae: 2.8320\n",
            "Epoch 19/20\n",
            "80/80 [==============================] - 1s 11ms/step - loss: 9.3190 - mae: 2.4503 - val_loss: 13.9256 - val_mae: 2.8181\n",
            "Epoch 20/20\n",
            "80/80 [==============================] - 1s 12ms/step - loss: 9.1736 - mae: 2.4295 - val_loss: 13.7151 - val_mae: 2.8053\n"
          ]
        }
      ]
    },
    {
      "cell_type": "code",
      "source": [
        "# Plot MAE cures for validation and training\n",
        "plot_hist_regression(history_cnn, baseline)"
      ],
      "metadata": {
        "colab": {
          "base_uri": "https://localhost:8080/",
          "height": 279
        },
        "id": "6bB6lzLYSG-u",
        "outputId": "bee43760-d8bb-4608-aa07-42121eed720d"
      },
      "execution_count": 20,
      "outputs": [
        {
          "output_type": "display_data",
          "data": {
            "text/plain": [
              "<Figure size 432x288 with 1 Axes>"
            ],
            "image/png": "[encoded data removed]"
          },
          "metadata": {
            "needs_background": "light"
          }
        }
      ]
    },
    {
      "cell_type": "markdown",
      "source": [
        "This model isn't any better, with a validation MAE of 2.77 degrees (also worse than the 'common-sense approach' that we tried at first), and we're overfitting a bit too.\n",
        "\n",
        "Why?\n",
        "\n",
        "In timeseries, order matters a lot: the recent past is more informative than data from 5 days ago, and convolutional layers don't take advantage of this fact -- max pooling and global average pooling layers actually destroy this order information."
      ],
      "metadata": {
        "id": "Kc2iMPSHViL1"
      }
    },
    {
      "cell_type": "markdown",
      "metadata": {
        "id": "3ozUAZX__a0R"
      },
      "source": [
        "## Long Short Term Memory (LSTM) Neural Networks\n",
        "\n",
        "\n"
      ]
    },
    {
      "cell_type": "code",
      "execution_count": 21,
      "metadata": {
        "id": "2dWfiaUw_a0R",
        "colab": {
          "base_uri": "https://localhost:8080/"
        },
        "outputId": "6b9c5346-6eff-4895-9c43-8150481cce16"
      },
      "outputs": [
        {
          "output_type": "stream",
          "name": "stdout",
          "text": [
            "Model: \"sequential_2\"\n",
            "_________________________________________________________________\n",
            " Layer (type)                Output Shape              Param #   \n",
            "=================================================================\n",
            " lstm (LSTM)                 (None, 20)                2160      \n",
            "                                                                 \n",
            " dense_3 (Dense)             (None, 1)                 21        \n",
            "                                                                 \n",
            "=================================================================\n",
            "Total params: 2,181\n",
            "Trainable params: 2,181\n",
            "Non-trainable params: 0\n",
            "_________________________________________________________________\n"
          ]
        }
      ],
      "source": [
        "# 1-layer LSTM\n",
        "\n",
        "model_lstm1 = models.Sequential()\n",
        "model_lstm1.add(layers.LSTM(20, input_shape=(sequence_length, len(df.columns)-1)))\n",
        "model_lstm1.add(layers.Dense(1))\n",
        "\n",
        "model_lstm1.summary()"
      ]
    },
    {
      "cell_type": "code",
      "source": [
        "n_epochs = 20"
      ],
      "metadata": {
        "id": "DMst2Mp0R0Xi"
      },
      "execution_count": 22,
      "outputs": []
    },
    {
      "cell_type": "code",
      "source": [
        "model_lstm1.compile(optimizer='rmsprop', loss='mse', metrics=['mae'])\n",
        "history_lstm1 = model_lstm1.fit(train_dataset, epochs=n_epochs,\n",
        "                            validation_data=val_dataset)"
      ],
      "metadata": {
        "colab": {
          "base_uri": "https://localhost:8080/"
        },
        "id": "Pff2tZQHXb-z",
        "outputId": "2096293a-d8c4-4185-9796-8b004bf6d558"
      },
      "execution_count": 23,
      "outputs": [
        {
          "output_type": "stream",
          "name": "stdout",
          "text": [
            "Epoch 1/20\n",
            "80/80 [==============================] - 4s 19ms/step - loss: 141.6286 - mae: 10.7061 - val_loss: 124.9559 - val_mae: 9.8494\n",
            "Epoch 2/20\n",
            "80/80 [==============================] - 1s 13ms/step - loss: 105.1243 - mae: 9.0312 - val_loss: 76.2010 - val_mae: 7.2562\n",
            "Epoch 3/20\n",
            "80/80 [==============================] - 1s 13ms/step - loss: 61.1712 - mae: 6.5218 - val_loss: 48.7459 - val_mae: 5.5028\n",
            "Epoch 4/20\n",
            "80/80 [==============================] - 1s 13ms/step - loss: 42.2445 - mae: 5.3143 - val_loss: 36.9652 - val_mae: 4.7708\n",
            "Epoch 5/20\n",
            "80/80 [==============================] - 1s 13ms/step - loss: 31.8238 - mae: 4.5551 - val_loss: 29.3302 - val_mae: 4.2541\n",
            "Epoch 6/20\n",
            "80/80 [==============================] - 1s 13ms/step - loss: 25.0396 - mae: 4.0239 - val_loss: 23.9597 - val_mae: 3.8602\n",
            "Epoch 7/20\n",
            "80/80 [==============================] - 1s 13ms/step - loss: 20.2675 - mae: 3.6216 - val_loss: 19.9963 - val_mae: 3.5321\n",
            "Epoch 8/20\n",
            "80/80 [==============================] - 1s 13ms/step - loss: 16.7685 - mae: 3.3049 - val_loss: 17.0730 - val_mae: 3.2644\n",
            "Epoch 9/20\n",
            "80/80 [==============================] - 1s 13ms/step - loss: 14.0609 - mae: 3.0183 - val_loss: 14.8093 - val_mae: 3.0409\n",
            "Epoch 10/20\n",
            "80/80 [==============================] - 1s 13ms/step - loss: 12.0714 - mae: 2.7818 - val_loss: 12.9371 - val_mae: 2.8486\n",
            "Epoch 11/20\n",
            "80/80 [==============================] - 1s 13ms/step - loss: 10.3189 - mae: 2.5718 - val_loss: 11.5478 - val_mae: 2.7021\n",
            "Epoch 12/20\n",
            "80/80 [==============================] - 1s 13ms/step - loss: 9.1441 - mae: 2.4069 - val_loss: 10.3447 - val_mae: 2.5630\n",
            "Epoch 13/20\n",
            "80/80 [==============================] - 1s 13ms/step - loss: 8.0773 - mae: 2.2693 - val_loss: 9.5484 - val_mae: 2.4735\n",
            "Epoch 14/20\n",
            "80/80 [==============================] - 1s 13ms/step - loss: 7.4951 - mae: 2.1778 - val_loss: 8.8100 - val_mae: 2.3840\n",
            "Epoch 15/20\n",
            "80/80 [==============================] - 1s 13ms/step - loss: 6.8901 - mae: 2.0975 - val_loss: 8.3874 - val_mae: 2.3382\n",
            "Epoch 16/20\n",
            "80/80 [==============================] - 1s 13ms/step - loss: 6.6382 - mae: 2.0514 - val_loss: 7.9169 - val_mae: 2.2783\n",
            "Epoch 17/20\n",
            "80/80 [==============================] - 1s 13ms/step - loss: 6.2406 - mae: 1.9963 - val_loss: 7.6657 - val_mae: 2.2467\n",
            "Epoch 18/20\n",
            "80/80 [==============================] - 1s 13ms/step - loss: 6.1106 - mae: 1.9673 - val_loss: 7.3340 - val_mae: 2.1976\n",
            "Epoch 19/20\n",
            "80/80 [==============================] - 1s 13ms/step - loss: 5.8188 - mae: 1.9240 - val_loss: 7.1695 - val_mae: 2.1744\n",
            "Epoch 20/20\n",
            "80/80 [==============================] - 1s 13ms/step - loss: 5.7485 - mae: 1.9059 - val_loss: 6.9283 - val_mae: 2.1341\n"
          ]
        }
      ]
    },
    {
      "cell_type": "code",
      "source": [
        "# Plot MAE cures for validation and training\n",
        "plot_hist_regression(history_lstm1, baseline)\n"
      ],
      "metadata": {
        "colab": {
          "base_uri": "https://localhost:8080/",
          "height": 279
        },
        "id": "hr-bgDUvXmvS",
        "outputId": "95c67c55-54d1-4e41-f3f0-6ecaf26abbbf"
      },
      "execution_count": 24,
      "outputs": [
        {
          "output_type": "display_data",
          "data": {
            "text/plain": [
              "<Figure size 432x288 with 1 Axes>"
            ],
            "image/png": "[encoded data removed]"
          },
          "metadata": {
            "needs_background": "light"
          }
        }
      ]
    },
    {
      "cell_type": "code",
      "source": [
        "print('Test MAE = %.2f degrees' % model_lstm1.evaluate(test_dataset)[1])"
      ],
      "metadata": {
        "colab": {
          "base_uri": "https://localhost:8080/"
        },
        "id": "0fFZvXXUcQ67",
        "outputId": "0ed6b9af-b2f3-4424-ce75-e2b02cb5ed9b"
      },
      "execution_count": 25,
      "outputs": [
        {
          "output_type": "stream",
          "name": "stdout",
          "text": [
            "31/31 [==============================] - 0s 7ms/step - loss: 7.9899 - mae: 2.2165\n",
            "Test MAE = 2.22 degrees\n"
          ]
        }
      ]
    },
    {
      "cell_type": "markdown",
      "source": [
        "Success! We finally beat the common-sense baseline! The validation MAE now is 2.12 degrees, and the test MAE is 2.27.\n",
        "\n",
        "Why do LSTM layers work? Let's go back to the slides"
      ],
      "metadata": {
        "id": "bYSWwI1aXvwL"
      }
    },
    {
      "cell_type": "code",
      "source": [
        "# Adding dropout\n",
        "\n",
        "model_lstm2 = models.Sequential()\n",
        "model_lstm2.add(layers.LSTM(20, input_shape=(sequence_length, len(df.columns)-1), recurrent_dropout=0.25))\n",
        "model_lstm2.add(layers.Dropout(0.4))\n",
        "model_lstm2.add(layers.Dense(1))\n",
        "\n",
        "model_lstm2.summary()"
      ],
      "metadata": {
        "id": "acSYakeOcokB",
        "colab": {
          "base_uri": "https://localhost:8080/"
        },
        "outputId": "a300135b-d552-461e-d87b-ae6878d0c3ce"
      },
      "execution_count": 26,
      "outputs": [
        {
          "output_type": "stream",
          "name": "stdout",
          "text": [
            "WARNING:tensorflow:Layer lstm_1 will not use cuDNN kernels since it doesn't meet the criteria. It will use a generic GPU kernel as fallback when running on GPU.\n",
            "Model: \"sequential_3\"\n",
            "_________________________________________________________________\n",
            " Layer (type)                Output Shape              Param #   \n",
            "=================================================================\n",
            " lstm_1 (LSTM)               (None, 20)                2160      \n",
            "                                                                 \n",
            " dropout (Dropout)           (None, 20)                0         \n",
            "                                                                 \n",
            " dense_4 (Dense)             (None, 1)                 21        \n",
            "                                                                 \n",
            "=================================================================\n",
            "Total params: 2,181\n",
            "Trainable params: 2,181\n",
            "Non-trainable params: 0\n",
            "_________________________________________________________________\n"
          ]
        }
      ]
    },
    {
      "cell_type": "code",
      "source": [
        "model_lstm2.compile(optimizer='rmsprop', loss='mse', metrics=['mae'])\n",
        "history_lstm2 = model_lstm2.fit(train_dataset, epochs=n_epochs,\n",
        "                            validation_data=val_dataset)"
      ],
      "metadata": {
        "colab": {
          "base_uri": "https://localhost:8080/"
        },
        "id": "LvRnf9TWSWf9",
        "outputId": "08119c2b-6d6a-47c4-a205-bd1f38b90aa1"
      },
      "execution_count": 27,
      "outputs": [
        {
          "output_type": "stream",
          "name": "stdout",
          "text": [
            "Epoch 1/20\n",
            "80/80 [==============================] - 11s 99ms/step - loss: 140.7699 - mae: 10.6496 - val_loss: 124.4118 - val_mae: 9.8354\n",
            "Epoch 2/20\n",
            "80/80 [==============================] - 7s 89ms/step - loss: 98.3260 - mae: 8.6533 - val_loss: 65.8309 - val_mae: 6.6387\n",
            "Epoch 3/20\n",
            "80/80 [==============================] - 7s 84ms/step - loss: 53.1816 - mae: 6.0035 - val_loss: 40.2786 - val_mae: 4.9543\n",
            "Epoch 4/20\n",
            "80/80 [==============================] - 7s 85ms/step - loss: 37.0956 - mae: 4.9017 - val_loss: 30.4870 - val_mae: 4.3127\n",
            "Epoch 5/20\n",
            "80/80 [==============================] - 7s 85ms/step - loss: 28.8956 - mae: 4.3369 - val_loss: 25.1088 - val_mae: 3.9492\n",
            "Epoch 6/20\n",
            "80/80 [==============================] - 7s 83ms/step - loss: 25.5564 - mae: 4.0540 - val_loss: 21.1888 - val_mae: 3.6215\n",
            "Epoch 7/20\n",
            "80/80 [==============================] - 7s 85ms/step - loss: 21.8840 - mae: 3.7471 - val_loss: 18.9414 - val_mae: 3.4654\n",
            "Epoch 8/20\n",
            "80/80 [==============================] - 7s 85ms/step - loss: 19.4655 - mae: 3.5413 - val_loss: 16.6212 - val_mae: 3.2467\n",
            "Epoch 9/20\n",
            "80/80 [==============================] - 7s 85ms/step - loss: 17.6908 - mae: 3.3474 - val_loss: 14.5765 - val_mae: 3.0283\n",
            "Epoch 10/20\n",
            "80/80 [==============================] - 7s 83ms/step - loss: 16.6750 - mae: 3.2295 - val_loss: 13.3097 - val_mae: 2.9072\n",
            "Epoch 11/20\n",
            "80/80 [==============================] - 7s 84ms/step - loss: 15.1010 - mae: 3.0807 - val_loss: 11.7994 - val_mae: 2.7250\n",
            "Epoch 12/20\n",
            "80/80 [==============================] - 7s 86ms/step - loss: 13.9798 - mae: 2.9683 - val_loss: 10.8815 - val_mae: 2.6199\n",
            "Epoch 13/20\n",
            "80/80 [==============================] - 7s 84ms/step - loss: 13.5186 - mae: 2.9199 - val_loss: 9.9371 - val_mae: 2.4977\n",
            "Epoch 14/20\n",
            "80/80 [==============================] - 7s 85ms/step - loss: 13.0551 - mae: 2.9005 - val_loss: 9.6544 - val_mae: 2.4810\n",
            "Epoch 15/20\n",
            "80/80 [==============================] - 7s 86ms/step - loss: 12.9680 - mae: 2.8364 - val_loss: 9.2300 - val_mae: 2.4311\n",
            "Epoch 16/20\n",
            "80/80 [==============================] - 7s 84ms/step - loss: 11.6624 - mae: 2.7277 - val_loss: 8.7553 - val_mae: 2.3704\n",
            "Epoch 17/20\n",
            "80/80 [==============================] - 7s 84ms/step - loss: 10.6335 - mae: 2.6268 - val_loss: 7.9249 - val_mae: 2.2404\n",
            "Epoch 18/20\n",
            "80/80 [==============================] - 7s 87ms/step - loss: 10.9584 - mae: 2.6175 - val_loss: 7.6927 - val_mae: 2.2191\n",
            "Epoch 19/20\n",
            "80/80 [==============================] - 7s 84ms/step - loss: 10.7364 - mae: 2.5697 - val_loss: 7.4272 - val_mae: 2.1823\n",
            "Epoch 20/20\n",
            "80/80 [==============================] - 7s 83ms/step - loss: 10.2247 - mae: 2.5379 - val_loss: 7.1748 - val_mae: 2.1391\n"
          ]
        }
      ]
    },
    {
      "cell_type": "code",
      "source": [
        "# Plot MAE cures for validation and training\n",
        "plot_hist_regression(history_lstm2, baseline)"
      ],
      "metadata": {
        "colab": {
          "base_uri": "https://localhost:8080/",
          "height": 279
        },
        "id": "cWpm-j9iSck1",
        "outputId": "10152f9a-9272-4ee6-c715-3874219d6068"
      },
      "execution_count": 28,
      "outputs": [
        {
          "output_type": "display_data",
          "data": {
            "text/plain": [
              "<Figure size 432x288 with 1 Axes>"
            ],
            "image/png": "[encoded data removed]"
          },
          "metadata": {
            "needs_background": "light"
          }
        }
      ]
    },
    {
      "cell_type": "code",
      "source": [
        "print('Test MAE = %.2f degrees' % model_lstm2.evaluate(test_dataset)[1])"
      ],
      "metadata": {
        "colab": {
          "base_uri": "https://localhost:8080/"
        },
        "id": "rAIQrQDVSmSM",
        "outputId": "88e2f59d-a6ba-4659-e960-bc98710b4bc7"
      },
      "execution_count": 29,
      "outputs": [
        {
          "output_type": "stream",
          "name": "stdout",
          "text": [
            "31/31 [==============================] - 0s 12ms/step - loss: 7.8925 - mae: 2.1962\n",
            "Test MAE = 2.20 degrees\n"
          ]
        }
      ]
    },
    {
      "cell_type": "markdown",
      "source": [
        "Note that validation set MAE is now lower than MAE on training set -- no longer overfitting. Validation MAE is 2.16 and test MAE is also 2.16.\n",
        "\n",
        "NOTE: This is a very simple dataset with very small differences in performance between different models.  You'll just have to take my word for it that *in general* this approach works. "
      ],
      "metadata": {
        "id": "H3OrpvE3S4gM"
      }
    },
    {
      "cell_type": "code",
      "source": [
        "# Performance in the previous figure can (maybe) still be improved\n",
        "# Let's try to add some more layers -- we can do this now that we're no longer overfitting\n",
        "\n",
        "model_lstm3 = models.Sequential()\n",
        "model_lstm3.add(layers.LSTM(20, input_shape=(sequence_length, len(df.columns)-1), recurrent_dropout=0.25, return_sequences=True))  # NEW!\n",
        "model_lstm3.add(layers.LSTM(20, input_shape=(sequence_length, len(df.columns)-1), recurrent_dropout=0.25))  # NEW!!\n",
        "model_lstm3.add(layers.Dropout(0.4))\n",
        "model_lstm3.add(layers.Dense(1))\n",
        "model_lstm3.summary()"
      ],
      "metadata": {
        "colab": {
          "base_uri": "https://localhost:8080/"
        },
        "id": "jq_ZDTttTX6_",
        "outputId": "ebaf7d09-9c99-44ed-d94b-0f8d544e8983"
      },
      "execution_count": 30,
      "outputs": [
        {
          "output_type": "stream",
          "name": "stdout",
          "text": [
            "WARNING:tensorflow:Layer lstm_2 will not use cuDNN kernels since it doesn't meet the criteria. It will use a generic GPU kernel as fallback when running on GPU.\n",
            "WARNING:tensorflow:Layer lstm_3 will not use cuDNN kernels since it doesn't meet the criteria. It will use a generic GPU kernel as fallback when running on GPU.\n",
            "Model: \"sequential_4\"\n",
            "_________________________________________________________________\n",
            " Layer (type)                Output Shape              Param #   \n",
            "=================================================================\n",
            " lstm_2 (LSTM)               (None, 14, 20)            2160      \n",
            "                                                                 \n",
            " lstm_3 (LSTM)               (None, 20)                3280      \n",
            "                                                                 \n",
            " dropout_1 (Dropout)         (None, 20)                0         \n",
            "                                                                 \n",
            " dense_5 (Dense)             (None, 1)                 21        \n",
            "                                                                 \n",
            "=================================================================\n",
            "Total params: 5,461\n",
            "Trainable params: 5,461\n",
            "Non-trainable params: 0\n",
            "_________________________________________________________________\n"
          ]
        }
      ]
    },
    {
      "cell_type": "code",
      "source": [
        "model_lstm3.compile(optimizer='rmsprop', loss='mse', metrics=['mae'])\n",
        "\n",
        "callbacks = [EarlyStopping(monitor='val_mae', patience=2)]\n",
        "\n",
        "history_lstm3 = model_lstm3.fit(train_dataset, epochs=60,  # increased number of epochs\n",
        "                            validation_data=val_dataset,\n",
        "                            callbacks=callbacks)  # but added early stopping callback\n"
      ],
      "metadata": {
        "colab": {
          "base_uri": "https://localhost:8080/"
        },
        "id": "9xQXChtNUxzh",
        "outputId": "ef9a9484-587f-41c5-9d40-e2879c3a39d1"
      },
      "execution_count": 31,
      "outputs": [
        {
          "output_type": "stream",
          "name": "stdout",
          "text": [
            "Epoch 1/60\n",
            "80/80 [==============================] - 18s 163ms/step - loss: 126.2520 - mae: 9.9506 - val_loss: 79.4402 - val_mae: 7.3895\n",
            "Epoch 2/60\n",
            "80/80 [==============================] - 12s 154ms/step - loss: 61.8042 - mae: 6.5445 - val_loss: 47.2107 - val_mae: 5.4149\n",
            "Epoch 3/60\n",
            "80/80 [==============================] - 12s 151ms/step - loss: 44.8239 - mae: 5.5109 - val_loss: 37.6038 - val_mae: 4.8664\n",
            "Epoch 4/60\n",
            "80/80 [==============================] - 12s 152ms/step - loss: 36.3175 - mae: 4.8789 - val_loss: 31.0527 - val_mae: 4.4209\n",
            "Epoch 5/60\n",
            "80/80 [==============================] - 12s 153ms/step - loss: 29.1174 - mae: 4.3363 - val_loss: 25.2718 - val_mae: 3.9646\n",
            "Epoch 6/60\n",
            "80/80 [==============================] - 13s 158ms/step - loss: 25.2378 - mae: 4.0699 - val_loss: 22.7317 - val_mae: 3.8278\n",
            "Epoch 7/60\n",
            "80/80 [==============================] - 12s 152ms/step - loss: 21.9125 - mae: 3.7594 - val_loss: 19.0817 - val_mae: 3.4848\n",
            "Epoch 8/60\n",
            "80/80 [==============================] - 13s 160ms/step - loss: 19.4685 - mae: 3.4964 - val_loss: 16.8835 - val_mae: 3.2798\n",
            "Epoch 9/60\n",
            "80/80 [==============================] - 12s 155ms/step - loss: 18.1767 - mae: 3.4136 - val_loss: 16.1310 - val_mae: 3.2355\n",
            "Epoch 10/60\n",
            "80/80 [==============================] - 12s 154ms/step - loss: 16.3558 - mae: 3.2588 - val_loss: 13.2183 - val_mae: 2.8848\n",
            "Epoch 11/60\n",
            "80/80 [==============================] - 12s 153ms/step - loss: 14.6994 - mae: 3.0948 - val_loss: 12.6972 - val_mae: 2.8557\n",
            "Epoch 12/60\n",
            "80/80 [==============================] - 12s 156ms/step - loss: 14.3885 - mae: 2.9933 - val_loss: 11.8466 - val_mae: 2.7676\n",
            "Epoch 13/60\n",
            "80/80 [==============================] - 12s 155ms/step - loss: 13.7877 - mae: 2.9536 - val_loss: 10.3601 - val_mae: 2.5652\n",
            "Epoch 14/60\n",
            "80/80 [==============================] - 12s 153ms/step - loss: 13.4299 - mae: 2.8836 - val_loss: 9.9862 - val_mae: 2.5292\n",
            "Epoch 15/60\n",
            "80/80 [==============================] - 12s 154ms/step - loss: 13.2748 - mae: 2.9271 - val_loss: 9.5567 - val_mae: 2.4817\n",
            "Epoch 16/60\n",
            "80/80 [==============================] - 12s 154ms/step - loss: 11.6757 - mae: 2.7003 - val_loss: 9.1476 - val_mae: 2.4363\n",
            "Epoch 17/60\n",
            "80/80 [==============================] - 12s 151ms/step - loss: 11.5771 - mae: 2.7275 - val_loss: 9.3211 - val_mae: 2.4718\n",
            "Epoch 18/60\n",
            "80/80 [==============================] - 12s 154ms/step - loss: 11.3262 - mae: 2.6945 - val_loss: 8.5863 - val_mae: 2.3694\n",
            "Epoch 19/60\n",
            "80/80 [==============================] - 12s 153ms/step - loss: 11.5102 - mae: 2.6792 - val_loss: 8.3608 - val_mae: 2.3379\n",
            "Epoch 20/60\n",
            "80/80 [==============================] - 12s 156ms/step - loss: 11.1513 - mae: 2.6543 - val_loss: 8.5342 - val_mae: 2.3749\n",
            "Epoch 21/60\n",
            "80/80 [==============================] - 12s 151ms/step - loss: 10.2654 - mae: 2.5476 - val_loss: 8.0634 - val_mae: 2.2623\n",
            "Epoch 22/60\n",
            "80/80 [==============================] - 12s 154ms/step - loss: 10.5937 - mae: 2.5715 - val_loss: 7.8948 - val_mae: 2.2651\n",
            "Epoch 23/60\n",
            "80/80 [==============================] - 12s 153ms/step - loss: 10.3694 - mae: 2.5851 - val_loss: 7.5345 - val_mae: 2.1870\n",
            "Epoch 24/60\n",
            "80/80 [==============================] - 12s 151ms/step - loss: 9.8476 - mae: 2.5055 - val_loss: 7.0915 - val_mae: 2.1308\n",
            "Epoch 25/60\n",
            "80/80 [==============================] - 12s 155ms/step - loss: 9.7030 - mae: 2.4473 - val_loss: 6.9021 - val_mae: 2.0892\n",
            "Epoch 26/60\n",
            "80/80 [==============================] - 12s 153ms/step - loss: 9.9789 - mae: 2.4746 - val_loss: 6.7678 - val_mae: 2.0664\n",
            "Epoch 27/60\n",
            "80/80 [==============================] - 12s 150ms/step - loss: 9.3144 - mae: 2.4223 - val_loss: 6.8214 - val_mae: 2.0692\n",
            "Epoch 28/60\n",
            "80/80 [==============================] - 12s 154ms/step - loss: 8.4481 - mae: 2.3207 - val_loss: 6.2656 - val_mae: 1.9743\n",
            "Epoch 29/60\n",
            "80/80 [==============================] - 12s 154ms/step - loss: 9.5017 - mae: 2.4463 - val_loss: 6.8807 - val_mae: 2.0679\n",
            "Epoch 30/60\n",
            "80/80 [==============================] - 12s 155ms/step - loss: 9.2716 - mae: 2.4245 - val_loss: 5.8903 - val_mae: 1.9060\n",
            "Epoch 31/60\n",
            "80/80 [==============================] - 12s 152ms/step - loss: 8.9684 - mae: 2.3779 - val_loss: 5.9005 - val_mae: 1.9034\n",
            "Epoch 32/60\n",
            "80/80 [==============================] - 12s 154ms/step - loss: 8.7802 - mae: 2.3528 - val_loss: 5.6764 - val_mae: 1.8713\n",
            "Epoch 33/60\n",
            "80/80 [==============================] - 12s 154ms/step - loss: 8.6584 - mae: 2.3537 - val_loss: 6.0513 - val_mae: 1.9250\n",
            "Epoch 34/60\n",
            "80/80 [==============================] - 12s 152ms/step - loss: 8.7331 - mae: 2.3351 - val_loss: 5.8975 - val_mae: 1.9159\n"
          ]
        }
      ]
    },
    {
      "cell_type": "code",
      "source": [
        "# Plot MAE cures for validation and training\n",
        "plot_hist_regression(history_lstm3, baseline)\n",
        "print('Test MAE = %.2f degrees' % model_lstm3.evaluate(test_dataset)[1])"
      ],
      "metadata": {
        "colab": {
          "base_uri": "https://localhost:8080/",
          "height": 314
        },
        "id": "PtFfB3YaU4k3",
        "outputId": "c9ab5bf8-4a9e-4b50-9f19-08731b7e5515"
      },
      "execution_count": 32,
      "outputs": [
        {
          "output_type": "display_data",
          "data": {
            "text/plain": [
              "<Figure size 432x288 with 1 Axes>"
            ],
            "image/png": "[encoded data removed]"
          },
          "metadata": {
            "needs_background": "light"
          }
        },
        {
          "output_type": "stream",
          "name": "stdout",
          "text": [
            "31/31 [==============================] - 1s 17ms/step - loss: 6.4946 - mae: 1.9551\n",
            "Test MAE = 1.96 degrees\n"
          ]
        }
      ]
    },
    {
      "cell_type": "markdown",
      "source": [
        "Validation MAE = 1.92 degrees\n",
        "\n",
        "Test MAE = 1.89 degrees\n"
      ],
      "metadata": {
        "id": "eUJqRqp1XJnL"
      }
    },
    {
      "cell_type": "markdown",
      "source": [
        "# Text"
      ],
      "metadata": {
        "id": "zGEuNqw2csXj"
      }
    },
    {
      "cell_type": "markdown",
      "source": [
        "## Data prep\n",
        "\n",
        "We'll try to predict whether the review for a movie is positive or negative looking only at the text of the review.\n",
        "\n",
        "We'll use the IMDB text dataset for this task, which is available on `keras.datasets` and described [here](https://keras.io/api/datasets/imdb/). \n",
        "\n",
        "We'll merge the training and test sets and use 60% for training, 20% for validation, and 20% for testing.\n",
        "\n",
        "\n",
        "As this is a binary classificationp problem, we'll use the binary cross entropy loss function. We will keep track of accuracy when training and evaluating the model.\n"
      ],
      "metadata": {
        "id": "dtv0EjsTbwvm"
      }
    },
    {
      "cell_type": "code",
      "source": [
        "def plot_hist_classif(hist):\n",
        "  n_ = len(hist.history['accuracy'])\n",
        "  plt.plot(range(1, n_+1), 100*np.asarray(hist.history['accuracy']), 'bo', label='Accuracy on training set')\n",
        "  plt.plot(range(1, n_+1), 100*np.asarray(hist.history['val_accuracy']), 'b', label='Accuracy on validation set')\n",
        "  plt.legend()\n",
        "  plt.xlabel(\"Epoch\") \n",
        "  plt.ylabel(\"Accuracy\")\n",
        "  plt.ylim(0, 100)\n",
        "  plt.axhline(y=50)\n",
        "  plt.show()\n"
      ],
      "metadata": {
        "id": "i-mH-8IGwGo1"
      },
      "execution_count": 33,
      "outputs": []
    },
    {
      "cell_type": "code",
      "source": [
        "max_features = 15000  # only consider the top 15k words\n",
        "maxlen = 500  # first 500 words of each review\n",
        "batch_size = 32\n",
        "\n",
        "print('Loading data...')\n",
        "# Load dataset\n",
        "(x_train, y_train), (x_test, y_test) = keras.datasets.imdb.load_data(num_words=max_features)\n",
        "print(len(x_train), 'train sequences', x_train.shape)\n",
        "print(len(x_test), 'test sequences', x_test.shape)"
      ],
      "metadata": {
        "colab": {
          "base_uri": "https://localhost:8080/"
        },
        "id": "4TW3Vg49n5V-",
        "outputId": "d6c8648d-9703-4dca-e293-8f165ff4d118"
      },
      "execution_count": 34,
      "outputs": [
        {
          "output_type": "stream",
          "name": "stdout",
          "text": [
            "Loading data...\n",
            "Downloading data from https://storage.googleapis.com/tensorflow/tf-keras-datasets/imdb.npz\n",
            "17465344/17464789 [==============================] - 0s 0us/step\n",
            "17473536/17464789 [==============================] - 0s 0us/step\n",
            "25000 train sequences (25000,)\n",
            "25000 test sequences (25000,)\n"
          ]
        }
      ]
    },
    {
      "cell_type": "code",
      "source": [
        "# How balanced is this dataset?\n",
        "print(np.sum(y_train)/len(y_train))\n",
        "print(np.sum(y_test)/len(y_test))"
      ],
      "metadata": {
        "colab": {
          "base_uri": "https://localhost:8080/"
        },
        "id": "8ApTb-jYtSOm",
        "outputId": "32a2c0c7-13a8-477b-b016-0a047670de56"
      },
      "execution_count": 35,
      "outputs": [
        {
          "output_type": "stream",
          "name": "stdout",
          "text": [
            "0.5\n",
            "0.5\n"
          ]
        }
      ]
    },
    {
      "cell_type": "code",
      "source": [
        "# Merge the two datasets and divide: 60% for training, 20% validation, 20% test\n",
        "x_, y_ = np.concatenate((x_train, x_test)), np.concatenate((y_train, y_test))\n",
        "print(x_.shape, y_.shape)\n",
        "x_train, x_test, y_train, y_test = train_test_split(x_, y_, test_size=0.4, random_state=10)  # 60/40 split\n",
        "x_val, x_test, y_val, y_test = train_test_split(x_test, y_test, test_size=0.5, random_state=10)  # 50/50 split\n",
        "print(len(x_train), 'train sequences', x_train.shape)\n",
        "print(len(x_val), 'validation sequences', x_val.shape)\n",
        "print(len(x_test), 'test sequences', x_test.shape)"
      ],
      "metadata": {
        "colab": {
          "base_uri": "https://localhost:8080/"
        },
        "id": "Z53Fbicqr8tm",
        "outputId": "404d6686-f391-4dd3-afc6-bf2f328d99a8"
      },
      "execution_count": 36,
      "outputs": [
        {
          "output_type": "stream",
          "name": "stdout",
          "text": [
            "(50000,) (50000,)\n",
            "30000 train sequences (30000,)\n",
            "10000 validation sequences (10000,)\n",
            "10000 test sequences (10000,)\n"
          ]
        }
      ]
    },
    {
      "cell_type": "code",
      "source": [
        "x_train[0][:10]  # numbers!!"
      ],
      "metadata": {
        "colab": {
          "base_uri": "https://localhost:8080/"
        },
        "id": "5v_Hy-r8o8pR",
        "outputId": "aa6e2d02-0178-4708-9e4b-0ecd5aeef33d"
      },
      "execution_count": 37,
      "outputs": [
        {
          "output_type": "execute_result",
          "data": {
            "text/plain": [
              "[1, 11531, 186, 8, 28, 6, 6482, 7, 269, 4042]"
            ]
          },
          "metadata": {},
          "execution_count": 37
        }
      ]
    },
    {
      "cell_type": "code",
      "source": [
        "# We can explore what one of the reviews looks like at this point.\n",
        "\n",
        "# Retrieve the word index file that maps words to indices\n",
        "word_index = keras.datasets.imdb.get_word_index()\n",
        "# Reverse the word index to obtain a dict mapping indices to words (which is what we have)\n",
        "inverted_word_index = dict((i, word) for (word, i) in word_index.items())\n",
        "# Decode the first sequence in the dataset\n",
        "decoded_sequence = \" \".join(inverted_word_index[i] for i in x_train[0])\n",
        "decoded_sequence"
      ],
      "metadata": {
        "colab": {
          "base_uri": "https://localhost:8080/",
          "height": 105
        },
        "id": "rgEgNSLBpFwh",
        "outputId": "2ac0c228-6f12-43b6-f84d-06b4b4cbd74d"
      },
      "execution_count": 38,
      "outputs": [
        {
          "output_type": "stream",
          "name": "stdout",
          "text": [
            "Downloading data from https://storage.googleapis.com/tensorflow/tf-keras-datasets/imdb_word_index.json\n",
            "1646592/1641221 [==============================] - 0s 0us/step\n",
            "1654784/1641221 [==============================] - 0s 0us/step\n"
          ]
        },
        {
          "output_type": "execute_result",
          "data": {
            "text/plain": [
              "\"the lilly horror in one is fatale br looks meaningless in bronson be showing as you debut film ample to and ingredients zombi ample they for series and thought she's all manipulate and believing in j show look early last quote desire tight interesting that's kind out is far shelter but of frame br and\""
            ],
            "application/vnd.google.colaboratory.intrinsic+json": {
              "type": "string"
            }
          },
          "metadata": {},
          "execution_count": 38
        }
      ]
    },
    {
      "cell_type": "code",
      "source": [
        "# Let's ensure all sequences have the same length through padding\n",
        "# - shorter reviews are padded with 0's\n",
        "# - longer reviews are cut\n",
        "print('Pad sequences')\n",
        "x_train = keras.preprocessing.sequence.pad_sequences(x_train, maxlen=maxlen)\n",
        "x_val = keras.preprocessing.sequence.pad_sequences(x_val, maxlen=maxlen)\n",
        "x_test = keras.preprocessing.sequence.pad_sequences(x_test, maxlen=maxlen)\n",
        "print('x_train shape:', x_train.shape)\n",
        "print('x_val shape:', x_val.shape)\n",
        "print('x_test shape:', x_test.shape)"
      ],
      "metadata": {
        "colab": {
          "base_uri": "https://localhost:8080/"
        },
        "id": "ibmO0V-gcthG",
        "outputId": "05e6b800-11c3-40e3-b93f-64f241e4d0ec"
      },
      "execution_count": 39,
      "outputs": [
        {
          "output_type": "stream",
          "name": "stdout",
          "text": [
            "Pad sequences\n",
            "x_train shape: (30000, 500)\n",
            "x_val shape: (10000, 500)\n",
            "x_test shape: (10000, 500)\n"
          ]
        }
      ]
    },
    {
      "cell_type": "code",
      "source": [
        "# Basic feedforward model\n",
        "model = models.Sequential()\n",
        "model.add(layers.Embedding(max_features, 128, input_length=maxlen))\n",
        "model.add(layers.Dense(64, activation='relu'))\n",
        "model.add(layers.Dropout(0.5))\n",
        "model.add(layers.Dense(64, activation='relu'))\n",
        "model.add(layers.Dropout(0.5))\n",
        "model.add(layers.Flatten())\n",
        "model.add(layers.Dense(1, activation=\"sigmoid\"))\n",
        "model.summary()"
      ],
      "metadata": {
        "colab": {
          "base_uri": "https://localhost:8080/"
        },
        "id": "sBpQpwBAk44H",
        "outputId": "a47b1fa9-7502-4696-c093-0d27dd7124ba"
      },
      "execution_count": 40,
      "outputs": [
        {
          "output_type": "stream",
          "name": "stdout",
          "text": [
            "Model: \"sequential_5\"\n",
            "_________________________________________________________________\n",
            " Layer (type)                Output Shape              Param #   \n",
            "=================================================================\n",
            " embedding (Embedding)       (None, 500, 128)          1920000   \n",
            "                                                                 \n",
            " dense_6 (Dense)             (None, 500, 64)           8256      \n",
            "                                                                 \n",
            " dropout_2 (Dropout)         (None, 500, 64)           0         \n",
            "                                                                 \n",
            " dense_7 (Dense)             (None, 500, 64)           4160      \n",
            "                                                                 \n",
            " dropout_3 (Dropout)         (None, 500, 64)           0         \n",
            "                                                                 \n",
            " flatten_1 (Flatten)         (None, 32000)             0         \n",
            "                                                                 \n",
            " dense_8 (Dense)             (None, 1)                 32001     \n",
            "                                                                 \n",
            "=================================================================\n",
            "Total params: 1,964,417\n",
            "Trainable params: 1,964,417\n",
            "Non-trainable params: 0\n",
            "_________________________________________________________________\n"
          ]
        }
      ]
    },
    {
      "cell_type": "code",
      "source": [
        "model.compile(optimizer=\"rmsprop\", loss=\"binary_crossentropy\", metrics=[\"accuracy\"])\n",
        "history = model.fit(x_train, y_train, batch_size=batch_size, epochs=20, validation_data=(x_val, y_val))"
      ],
      "metadata": {
        "colab": {
          "base_uri": "https://localhost:8080/"
        },
        "id": "-8c7tCS5vrC3",
        "outputId": "7e2a333e-0501-4db3-8217-cc5f5a8f403c"
      },
      "execution_count": 41,
      "outputs": [
        {
          "output_type": "stream",
          "name": "stdout",
          "text": [
            "Epoch 1/20\n",
            "938/938 [==============================] - 13s 12ms/step - loss: 0.4558 - accuracy: 0.7529 - val_loss: 0.2858 - val_accuracy: 0.8809\n",
            "Epoch 2/20\n",
            "938/938 [==============================] - 11s 12ms/step - loss: 0.2508 - accuracy: 0.9021 - val_loss: 0.2686 - val_accuracy: 0.8915\n",
            "Epoch 3/20\n",
            "938/938 [==============================] - 11s 12ms/step - loss: 0.2085 - accuracy: 0.9200 - val_loss: 0.2650 - val_accuracy: 0.8959\n",
            "Epoch 4/20\n",
            "938/938 [==============================] - 11s 12ms/step - loss: 0.1871 - accuracy: 0.9279 - val_loss: 0.3167 - val_accuracy: 0.8740\n",
            "Epoch 5/20\n",
            "938/938 [==============================] - 11s 12ms/step - loss: 0.1776 - accuracy: 0.9317 - val_loss: 0.2625 - val_accuracy: 0.8982\n",
            "Epoch 6/20\n",
            "938/938 [==============================] - 11s 12ms/step - loss: 0.1667 - accuracy: 0.9377 - val_loss: 0.2642 - val_accuracy: 0.8974\n",
            "Epoch 7/20\n",
            "938/938 [==============================] - 11s 12ms/step - loss: 0.1603 - accuracy: 0.9399 - val_loss: 0.2909 - val_accuracy: 0.8840\n",
            "Epoch 8/20\n",
            "938/938 [==============================] - 11s 12ms/step - loss: 0.1522 - accuracy: 0.9435 - val_loss: 0.2781 - val_accuracy: 0.8952\n",
            "Epoch 9/20\n",
            "938/938 [==============================] - 11s 12ms/step - loss: 0.1479 - accuracy: 0.9443 - val_loss: 0.3164 - val_accuracy: 0.8749\n",
            "Epoch 10/20\n",
            "938/938 [==============================] - 11s 12ms/step - loss: 0.1388 - accuracy: 0.9491 - val_loss: 0.2744 - val_accuracy: 0.8968\n",
            "Epoch 11/20\n",
            "938/938 [==============================] - 11s 12ms/step - loss: 0.1341 - accuracy: 0.9511 - val_loss: 0.2868 - val_accuracy: 0.8938\n",
            "Epoch 12/20\n",
            "938/938 [==============================] - 11s 12ms/step - loss: 0.1275 - accuracy: 0.9535 - val_loss: 0.3417 - val_accuracy: 0.8701\n",
            "Epoch 13/20\n",
            "938/938 [==============================] - 11s 12ms/step - loss: 0.1222 - accuracy: 0.9548 - val_loss: 0.3436 - val_accuracy: 0.8801\n",
            "Epoch 14/20\n",
            "938/938 [==============================] - 11s 12ms/step - loss: 0.1190 - accuracy: 0.9564 - val_loss: 0.3711 - val_accuracy: 0.8696\n",
            "Epoch 15/20\n",
            "938/938 [==============================] - 11s 12ms/step - loss: 0.1112 - accuracy: 0.9596 - val_loss: 0.3235 - val_accuracy: 0.8866\n",
            "Epoch 16/20\n",
            "938/938 [==============================] - 11s 12ms/step - loss: 0.1081 - accuracy: 0.9602 - val_loss: 0.3251 - val_accuracy: 0.8882\n",
            "Epoch 17/20\n",
            "938/938 [==============================] - 11s 12ms/step - loss: 0.1021 - accuracy: 0.9634 - val_loss: 0.3373 - val_accuracy: 0.8852\n",
            "Epoch 18/20\n",
            "938/938 [==============================] - 14s 15ms/step - loss: 0.1011 - accuracy: 0.9638 - val_loss: 0.3894 - val_accuracy: 0.8774\n",
            "Epoch 19/20\n",
            "938/938 [==============================] - 12s 13ms/step - loss: 0.0953 - accuracy: 0.9669 - val_loss: 0.4475 - val_accuracy: 0.8631\n",
            "Epoch 20/20\n",
            "938/938 [==============================] - 11s 12ms/step - loss: 0.0920 - accuracy: 0.9668 - val_loss: 0.3841 - val_accuracy: 0.8817\n"
          ]
        }
      ]
    },
    {
      "cell_type": "code",
      "source": [
        "plot_hist_classif(history)\n",
        "print('Test Accuracy = %.2f' % model.evaluate(x_test, y_test)[1])  # overfitting!"
      ],
      "metadata": {
        "colab": {
          "base_uri": "https://localhost:8080/",
          "height": 318
        },
        "id": "dKBVw5mHv_oX",
        "outputId": "f9ca8e4a-16ba-4cfb-ee98-0b3ddd7ec896"
      },
      "execution_count": 42,
      "outputs": [
        {
          "output_type": "display_data",
          "data": {
            "text/plain": [
              "<Figure size 432x288 with 1 Axes>"
            ],
            "image/png": "[encoded data removed]"
          },
          "metadata": {
            "needs_background": "light"
          }
        },
        {
          "output_type": "stream",
          "name": "stdout",
          "text": [
            "313/313 [==============================] - 2s 5ms/step - loss: 0.3837 - accuracy: 0.8827\n",
            "Test Accuracy = 0.88\n"
          ]
        }
      ]
    },
    {
      "cell_type": "code",
      "source": [
        "# Let's try an RNN\n",
        "model = models.Sequential()\n",
        "model.add(layers.Embedding(max_features, 64))\n",
        "model.add(layers.LSTM(128, return_sequences=False))\n",
        "model.add(layers.Dropout(0.5))\n",
        "model.add(layers.Dense(1, activation=\"sigmoid\"))\n",
        "model.compile(optimizer=\"rmsprop\", loss=\"binary_crossentropy\", metrics=[\"accuracy\"])\n",
        "model.summary()"
      ],
      "metadata": {
        "colab": {
          "base_uri": "https://localhost:8080/"
        },
        "id": "Ieh7Wl9Pwh8V",
        "outputId": "5bf8097e-4d5f-475c-b9b3-cd70c3948d69"
      },
      "execution_count": 43,
      "outputs": [
        {
          "output_type": "stream",
          "name": "stdout",
          "text": [
            "Model: \"sequential_6\"\n",
            "_________________________________________________________________\n",
            " Layer (type)                Output Shape              Param #   \n",
            "=================================================================\n",
            " embedding_1 (Embedding)     (None, None, 64)          960000    \n",
            "                                                                 \n",
            " lstm_4 (LSTM)               (None, 128)               98816     \n",
            "                                                                 \n",
            " dropout_4 (Dropout)         (None, 128)               0         \n",
            "                                                                 \n",
            " dense_9 (Dense)             (None, 1)                 129       \n",
            "                                                                 \n",
            "=================================================================\n",
            "Total params: 1,058,945\n",
            "Trainable params: 1,058,945\n",
            "Non-trainable params: 0\n",
            "_________________________________________________________________\n"
          ]
        }
      ]
    },
    {
      "cell_type": "code",
      "source": [
        "# This model will take a long time to train, so we add an early stopping criterion\n",
        "# N.B: It's actually much faster to train WITHOUT A GPU!!\n",
        "callbacks = [EarlyStopping(monitor='val_accuracy', patience=2)]\n",
        "history = model.fit(x_train, y_train, batch_size=batch_size, epochs=20, validation_data=(x_val, y_val), callbacks=callbacks)\n",
        "plot_hist_classif(history)\n",
        "print('Test Accuracy = %.2f' % model.evaluate(x_test, y_test)[1])\n",
        "# Note that we're still overfitting, but this is just an example of use"
      ],
      "metadata": {
        "colab": {
          "base_uri": "https://localhost:8080/",
          "height": 457
        },
        "id": "Sd54xZMmxKBQ",
        "outputId": "ff50c782-f11e-449c-acb3-bc7349f8bb3d"
      },
      "execution_count": 44,
      "outputs": [
        {
          "output_type": "stream",
          "name": "stdout",
          "text": [
            "Epoch 1/20\n",
            "938/938 [==============================] - 90s 94ms/step - loss: 0.4668 - accuracy: 0.7772 - val_loss: 0.3996 - val_accuracy: 0.8308\n",
            "Epoch 2/20\n",
            "938/938 [==============================] - 86s 92ms/step - loss: 0.2916 - accuracy: 0.8885 - val_loss: 0.2748 - val_accuracy: 0.8920\n",
            "Epoch 3/20\n",
            "938/938 [==============================] - 86s 92ms/step - loss: 0.2409 - accuracy: 0.9109 - val_loss: 0.2704 - val_accuracy: 0.8916\n",
            "Epoch 4/20\n",
            "938/938 [==============================] - 86s 92ms/step - loss: 0.2095 - accuracy: 0.9230 - val_loss: 0.3271 - val_accuracy: 0.8593\n"
          ]
        },
        {
          "output_type": "display_data",
          "data": {
            "text/plain": [
              "<Figure size 432x288 with 1 Axes>"
            ],
            "image/png": "[encoded data removed]"
          },
          "metadata": {
            "needs_background": "light"
          }
        },
        {
          "output_type": "stream",
          "name": "stdout",
          "text": [
            "313/313 [==============================] - 10s 31ms/step - loss: 0.3354 - accuracy: 0.8570\n",
            "Test Accuracy = 0.86\n"
          ]
        }
      ]
    },
    {
      "cell_type": "markdown",
      "source": [
        "## Your turn!\n",
        "\n",
        "Implement a bidirectional RNN that can outperform the LSTM model we had above.\n",
        "\n",
        "A starting skeleton could be:\n",
        " \n",
        "*   Embedding layer with an output dimension of 64\n",
        "*   Bidirectional layer with a 32-neuron LSTM layer\n",
        "*   Dense layer with 1 neuron and a sigmoid activation\n",
        "\n",
        "Some suggestions:\n",
        "\n",
        "- Change the sizes of the layers (i.e., the numbers of neurons)\n",
        "- Add dropout\n",
        "- Add other recurrent and/or bidirectional layers\n",
        "\n",
        "Once you have a model that scores over 90% on the validation set, check its performance on the test set and upload it on the code checker in Moodle.\n",
        "\n",
        "Note that the model I'm suggesting above will be able to reach the desired performance, but it will show signs of overfitting. Can you do it by adding regularization (dropout, smaller network) so you don't overfit?\n"
      ],
      "metadata": {
        "id": "kzZhXm5gkz_g"
      }
    },
    {
      "cell_type": "code",
      "source": [
        "n_ = 10  # number of epochs. You can edit this\n",
        "\n",
        "model = models.Sequential()\n",
        "# YOUR CODE HERE!\n",
        "# model.add(layers.Embedding(max_features, 64))\n",
        "# model.add(layers.LSTM(32, return_sequences=False))\n",
        "# model.add(layers.Dropout(0.5))\n",
        "# model.add(layers.Dense(1, activation=\"sigmoid\"))\n",
        "\n",
        "model.add(layers.Embedding(max_features, 64, input_length=maxlen))\n",
        "model.add(layers.Bidirectional(layers.LSTM(32, return_sequences=False)))\n",
        "model.add(layers.Dropout(0.5))\n",
        "model.add(layers.Dense(1, activation='sigmoid'))\n",
        "\n",
        "# I DON'T RECOMMEND THAT YOU CHANGE CODE AFTER THIS POINT\n",
        "model.compile(optimizer=\"rmsprop\", loss=\"binary_crossentropy\", metrics=[\"accuracy\"])\n",
        "\n",
        "print(model.summary())\n",
        "\n",
        "# This model will take a long time to train, so we add an early stopping criterion\n",
        "# I've also added a ModelCheckpoint that will save the best model according to val_accuracy regardless of whether we continue training\n",
        "callbacks = [EarlyStopping(monitor='val_accuracy', patience=1),\n",
        "             ModelCheckpoint(\"model.keras\", save_best_only=True, monitor=\"val_accuracy\", mode='max')]\n",
        "\n",
        "history = model.fit(x_train, y_train, batch_size=batch_size, epochs=n_, \n",
        "                    validation_data=(x_val, y_val), \n",
        "                    callbacks=callbacks)\n",
        "plot_hist_classif(history)\n",
        "model = keras.models.load_model(\"model.keras\")\n",
        "print('Test Accuracy = %.2f' % model.evaluate(x_test, y_test)[1])"
      ],
      "metadata": {
        "id": "jCHOC7dyadaj",
        "outputId": "d8e8fcb8-cbaf-4007-d785-e96e39a43694",
        "colab": {
          "base_uri": "https://localhost:8080/",
          "height": 786
        }
      },
      "execution_count": 63,
      "outputs": [
        {
          "output_type": "stream",
          "name": "stdout",
          "text": [
            "Model: \"sequential_17\"\n",
            "_________________________________________________________________\n",
            " Layer (type)                Output Shape              Param #   \n",
            "=================================================================\n",
            " embedding_9 (Embedding)     (None, 500, 64)           960000    \n",
            "                                                                 \n",
            " bidirectional_1 (Bidirectio  (None, 64)               24832     \n",
            " nal)                                                            \n",
            "                                                                 \n",
            " dropout_11 (Dropout)        (None, 64)                0         \n",
            "                                                                 \n",
            " dense_16 (Dense)            (None, 1)                 65        \n",
            "                                                                 \n",
            "=================================================================\n",
            "Total params: 984,897\n",
            "Trainable params: 984,897\n",
            "Non-trainable params: 0\n",
            "_________________________________________________________________\n",
            "None\n",
            "Epoch 1/10\n",
            "938/938 [==============================] - 172s 180ms/step - loss: 0.3935 - accuracy: 0.8270 - val_loss: 0.2808 - val_accuracy: 0.8840\n",
            "Epoch 2/10\n",
            "938/938 [==============================] - 167s 179ms/step - loss: 0.2595 - accuracy: 0.9025 - val_loss: 0.2792 - val_accuracy: 0.8856\n",
            "Epoch 3/10\n",
            "938/938 [==============================] - 167s 178ms/step - loss: 0.2325 - accuracy: 0.9134 - val_loss: 0.2814 - val_accuracy: 0.8971\n",
            "Epoch 4/10\n",
            "938/938 [==============================] - 168s 179ms/step - loss: 0.2052 - accuracy: 0.9234 - val_loss: 0.3398 - val_accuracy: 0.8743\n"
          ]
        },
        {
          "output_type": "display_data",
          "data": {
            "text/plain": [
              "<Figure size 432x288 with 1 Axes>"
            ],
            "image/png": "[encoded data removed]"
          },
          "metadata": {
            "needs_background": "light"
          }
        },
        {
          "output_type": "stream",
          "name": "stdout",
          "text": [
            "313/313 [==============================] - 21s 65ms/step - loss: 0.2807 - accuracy: 0.8963\n",
            "Test Accuracy = 0.90\n"
          ]
        }
      ]
    },
    {
      "cell_type": "code",
      "source": [
        "if model.count_params() > 1000000:\n",
        "    print(\"Due to memory constraints on Moodle, the lab quiz has a 10MB limit on your model size, so you need to use a smaller model to validate through the auto-marker.\")\n",
        "\n",
        "if history.history[\"val_accuracy\"][-1] > 0.9:\n",
        "    print(\"Your model is accurate enough!\")\n",
        "\n",
        "else:\n",
        "    print(\"Accuracy is below the threshold!\")\n",
        "   # raise Exception(\"Your model isn't accurate enough to pass the progress checker!\")\n",
        "# Save the model into a local folder\n",
        "keras.models.save_model(model, \"Model.h5\",save_format='h5')\n",
        "print('Model saved! You can now upload it to the lab quiz.')"
      ],
      "metadata": {
        "id": "ZFBmg66_CR7y"
      },
      "execution_count": 66,
      "outputs": []
    },
    {
      "cell_type": "code",
      "source": [
        ""
      ],
      "metadata": {
        "id": "P8LBwjVgmNfF"
      },
      "execution_count": null,
      "outputs": []
    }
  ],
  "metadata": {
    "kernelspec": {
      "display_name": "Python 3",
      "language": "python",
      "name": "python3"
    },
    "language_info": {
      "codemirror_mode": {
        "name": "ipython",
        "version": 3
      },
      "file_extension": ".py",
      "mimetype": "text/x-python",
      "name": "python",
      "nbconvert_exporter": "python",
      "pygments_lexer": "ipython3",
      "version": "3.7.10"
    },
    "colab": {
      "name": "rnn.ipynb",
      "provenance": [],
      "collapsed_sections": [
        "WlhjIvZR_a0Q",
        "rloJamyvWPWj",
        "7c-duA1Z_a0R",
        "3ozUAZX__a0R"
      ],
      "include_colab_link": true
    },
    "accelerator": "GPU"
  },
  "nbformat": 4,
  "nbformat_minor": 0
}